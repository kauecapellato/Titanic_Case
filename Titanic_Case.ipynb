{
  "nbformat": 4,
  "nbformat_minor": 0,
  "metadata": {
    "colab": {
      "name": "Titanic_Case.ipynb",
      "provenance": [],
      "authorship_tag": "ABX9TyPErDOBju3lK5asbCjzRWsN",
      "include_colab_link": true
    },
    "kernelspec": {
      "display_name": "Python 3",
      "name": "python3"
    }
  },
  "cells": [
    {
      "cell_type": "markdown",
      "metadata": {
        "id": "view-in-github",
        "colab_type": "text"
      },
      "source": [
        "<a href=\"https://colab.research.google.com/github/kauecapellato/Titanic_Case/blob/main/Titanic_Case.ipynb\" target=\"_parent\"><img src=\"https://colab.research.google.com/assets/colab-badge.svg\" alt=\"Open In Colab\"/></a>"
      ]
    },
    {
      "cell_type": "markdown",
      "metadata": {
        "id": "9l7ZegoKe_xY"
      },
      "source": [
        "#Introdução"
      ]
    },
    {
      "cell_type": "markdown",
      "metadata": {
        "id": "faMljV-nfKRS"
      },
      "source": [
        "Neste projeto analisaremos um conjunto de dados com informações de passageiros do Titanic. Os dados podem ser baixados do site do Kaggle: https://www.kaggle.com/c/titanic/data\n",
        "\n",
        "Os dados de treino contém 891 entradas e 12 features com informações de diversos passageiros do navio.\n",
        "\n",
        "Nosso objetivo é desenvolver e avaliar o desempenho de um modelo preditivo de sobreviventes ao desastre, começando pela abertura dos dados, análise descritiva das variáveis, criação de insights e a modelagem preditiva de regressão."
      ]
    },
    {
      "cell_type": "markdown",
      "metadata": {
        "id": "oa9Z0fUrgqpK"
      },
      "source": [
        "#Importando as bibliotecas para a manipulação e visualização dos dados"
      ]
    },
    {
      "cell_type": "code",
      "metadata": {
        "id": "EgMqVbXbgzib"
      },
      "source": [
        "import pandas as pd\n",
        "import seaborn as sns\n",
        "import numpy as np\n",
        "import matplotlib.pyplot as plt\n",
        "from sklearn import datasets\n",
        "from sklearn.metrics import r2_score, mean_squared_error\n",
        "from sklearn.preprocessing import StandardScaler\n",
        "from sklearn.model_selection import train_test_split\n",
        "from sklearn.linear_model import LogisticRegression\n",
        "from google.colab import files"
      ],
      "execution_count": 1,
      "outputs": []
    },
    {
      "cell_type": "markdown",
      "metadata": {
        "id": "xpxJ_OLhhAyS"
      },
      "source": [
        "#Carregando os dados e criando um Dataframe"
      ]
    },
    {
      "cell_type": "markdown",
      "metadata": {
        "id": "tAwt0venLtXb"
      },
      "source": [
        "Foi fornecido pelo site do Kaggle 3 arquivos: dados de treino, teste e como o arquivo final deveria parecer. A partir disso, criaremos um dataframe com os dados de treino para melhor visualização e análise das variáveis.  \n",
        "\n",
        "A partir dos dados baixados do site em formato csv, criaremos um dataframe para facilitar a visualização e a manipulação dos dados mais para frente."
      ]
    },
    {
      "cell_type": "code",
      "metadata": {
        "id": "cPZP6IU8g7Hl"
      },
      "source": [
        "# Realizamos o upload dos arquivos necessários\n",
        "files.upload()\n"
      ],
      "execution_count": null,
      "outputs": []
    },
    {
      "cell_type": "code",
      "metadata": {
        "id": "7IXm13nljlMZ",
        "outputId": "8b03844b-bf25-43f3-d750-9b60aa7c17ad",
        "colab": {
          "base_uri": "https://localhost:8080/"
        }
      },
      "source": [
        "# Criando o Dataframe\n",
        "treino = pd.read_csv('dados_treino.csv')\n",
        "\n",
        "# Formato do Dataframe\n",
        "treino.shape"
      ],
      "execution_count": 3,
      "outputs": [
        {
          "output_type": "execute_result",
          "data": {
            "text/plain": [
              "(891, 12)"
            ]
          },
          "metadata": {
            "tags": []
          },
          "execution_count": 3
        }
      ]
    },
    {
      "cell_type": "markdown",
      "metadata": {
        "id": "HGLkJmQhwYZB"
      },
      "source": [
        "Assim, obervamos que o conjunto de dados possui 891 observações e 12 variáveis.\n",
        "Para saber quais são essas variáveis, executamos:"
      ]
    },
    {
      "cell_type": "code",
      "metadata": {
        "id": "ejNs2ZMQoL9_",
        "outputId": "48c64ed1-5b5a-4356-ec53-f1683b28189d",
        "colab": {
          "base_uri": "https://localhost:8080/"
        }
      },
      "source": [
        "# Variáveis do dataset\n",
        "treino.keys()"
      ],
      "execution_count": 4,
      "outputs": [
        {
          "output_type": "execute_result",
          "data": {
            "text/plain": [
              "Index(['PassengerId', 'Survived', 'Pclass', 'Name', 'Sex', 'Age', 'SibSp',\n",
              "       'Parch', 'Ticket', 'Fare', 'Cabin', 'Embarked'],\n",
              "      dtype='object')"
            ]
          },
          "metadata": {
            "tags": []
          },
          "execution_count": 4
        }
      ]
    },
    {
      "cell_type": "markdown",
      "metadata": {
        "id": "c9JHMYwXbxKT"
      },
      "source": [
        "Abaixo explicamos melhor o que cada variável significa."
      ]
    },
    {
      "cell_type": "markdown",
      "metadata": {
        "id": "sT7c78qWpCuB"
      },
      "source": [
        "##Informações sobre as variáveis\n",
        "\n",
        "1.   **Número de casos:** 891\n",
        "\n",
        "\n",
        "2.   **Variáveis (12 atributos):**\n",
        "\n",
        "* PassengerId - Identificação do passageiro\n",
        "* Survived - Variável dicotômica: 1 - Sobreviveu e 0 - Não sobreviveu\n",
        "* Pclass - Classe no ticket do passageiro\n",
        "* Name - Nome do passageiro\n",
        "* Sex - Sexo\n",
        "* Age - Idade em anos do passageiro\n",
        "* SibSp - Número de irmãos abordo\n",
        "* Parch - Número de pais abordo\n",
        "* Ticket - Número do ticket\n",
        "* Fare - Taxa da passagem\n",
        "* Cabin -Número da cabine\n",
        "* Embarked - Local de embarque: C = Cherbourg, Q = Queenstown, S = Southampton\n",
        "\n",
        "\n",
        "#####**Algumas notas sobre as variáveis:**\n",
        "\n",
        "**pclass:** Status Socio-Econômico (SSE)\n",
        "\n",
        "1ª = Classe alta\n",
        "\n",
        "2ª = Classe Média\n",
        "\n",
        "3ª = Classe baixa\n",
        "\n",
        "\n",
        "**age:** A idade é fracionária caso seja menor que 1. Se for estimada, então será da forma xx.5\n",
        "\n",
        "**sibsp:** O Dataset define as relações familiares da seguinte forma:\n",
        "\n",
        "Irmãos = irmão, irmã, meio-irmão, meia-irmã\n",
        "Cônjugues = marido, esposa (noivas e noivos foram ignorados)\n",
        "\n",
        "**parch:** O Dataset define as relações familiares da seguinte forma:\n",
        "\n",
        "Pais = mãe, pai\n",
        "\n",
        "Crianças = filha, filho, enteada, enteado\n",
        "\n",
        "Algumas crianças apenas estavam acompanhadas da babá, então parch=0 para elas."
      ]
    },
    {
      "cell_type": "code",
      "metadata": {
        "id": "3gZBT-YRpshF"
      },
      "source": [
        ""
      ],
      "execution_count": 4,
      "outputs": []
    },
    {
      "cell_type": "markdown",
      "metadata": {
        "id": "JRRHmTB1uhgX"
      },
      "source": [
        "#Análise Exploratória dos Dados"
      ]
    },
    {
      "cell_type": "markdown",
      "metadata": {
        "id": "XaC9qaruvQPY"
      },
      "source": [
        "Para a criação de um modelo, é fundamental conhecer bem as variáveis presentes no Dataset. Nessa seção, faremos uma obervação dos dados e uma breve análise de possíveis variáveis correlacionadas. "
      ]
    },
    {
      "cell_type": "code",
      "metadata": {
        "id": "YjWlg6iyumj0",
        "outputId": "ba43ded8-f5f9-417b-a502-88e2b16315a4",
        "colab": {
          "base_uri": "https://localhost:8080/",
          "height": 491
        }
      },
      "source": [
        "# Primeiras 15 linhas do Dataframe\n",
        "treino.head(15)"
      ],
      "execution_count": 5,
      "outputs": [
        {
          "output_type": "execute_result",
          "data": {
            "text/html": [
              "<div>\n",
              "<style scoped>\n",
              "    .dataframe tbody tr th:only-of-type {\n",
              "        vertical-align: middle;\n",
              "    }\n",
              "\n",
              "    .dataframe tbody tr th {\n",
              "        vertical-align: top;\n",
              "    }\n",
              "\n",
              "    .dataframe thead th {\n",
              "        text-align: right;\n",
              "    }\n",
              "</style>\n",
              "<table border=\"1\" class=\"dataframe\">\n",
              "  <thead>\n",
              "    <tr style=\"text-align: right;\">\n",
              "      <th></th>\n",
              "      <th>PassengerId</th>\n",
              "      <th>Survived</th>\n",
              "      <th>Pclass</th>\n",
              "      <th>Name</th>\n",
              "      <th>Sex</th>\n",
              "      <th>Age</th>\n",
              "      <th>SibSp</th>\n",
              "      <th>Parch</th>\n",
              "      <th>Ticket</th>\n",
              "      <th>Fare</th>\n",
              "      <th>Cabin</th>\n",
              "      <th>Embarked</th>\n",
              "    </tr>\n",
              "  </thead>\n",
              "  <tbody>\n",
              "    <tr>\n",
              "      <th>0</th>\n",
              "      <td>1</td>\n",
              "      <td>0</td>\n",
              "      <td>3</td>\n",
              "      <td>Braund, Mr. Owen Harris</td>\n",
              "      <td>male</td>\n",
              "      <td>22.0</td>\n",
              "      <td>1</td>\n",
              "      <td>0</td>\n",
              "      <td>A/5 21171</td>\n",
              "      <td>7.2500</td>\n",
              "      <td>NaN</td>\n",
              "      <td>S</td>\n",
              "    </tr>\n",
              "    <tr>\n",
              "      <th>1</th>\n",
              "      <td>2</td>\n",
              "      <td>1</td>\n",
              "      <td>1</td>\n",
              "      <td>Cumings, Mrs. John Bradley (Florence Briggs Th...</td>\n",
              "      <td>female</td>\n",
              "      <td>38.0</td>\n",
              "      <td>1</td>\n",
              "      <td>0</td>\n",
              "      <td>PC 17599</td>\n",
              "      <td>71.2833</td>\n",
              "      <td>C85</td>\n",
              "      <td>C</td>\n",
              "    </tr>\n",
              "    <tr>\n",
              "      <th>2</th>\n",
              "      <td>3</td>\n",
              "      <td>1</td>\n",
              "      <td>3</td>\n",
              "      <td>Heikkinen, Miss. Laina</td>\n",
              "      <td>female</td>\n",
              "      <td>26.0</td>\n",
              "      <td>0</td>\n",
              "      <td>0</td>\n",
              "      <td>STON/O2. 3101282</td>\n",
              "      <td>7.9250</td>\n",
              "      <td>NaN</td>\n",
              "      <td>S</td>\n",
              "    </tr>\n",
              "    <tr>\n",
              "      <th>3</th>\n",
              "      <td>4</td>\n",
              "      <td>1</td>\n",
              "      <td>1</td>\n",
              "      <td>Futrelle, Mrs. Jacques Heath (Lily May Peel)</td>\n",
              "      <td>female</td>\n",
              "      <td>35.0</td>\n",
              "      <td>1</td>\n",
              "      <td>0</td>\n",
              "      <td>113803</td>\n",
              "      <td>53.1000</td>\n",
              "      <td>C123</td>\n",
              "      <td>S</td>\n",
              "    </tr>\n",
              "    <tr>\n",
              "      <th>4</th>\n",
              "      <td>5</td>\n",
              "      <td>0</td>\n",
              "      <td>3</td>\n",
              "      <td>Allen, Mr. William Henry</td>\n",
              "      <td>male</td>\n",
              "      <td>35.0</td>\n",
              "      <td>0</td>\n",
              "      <td>0</td>\n",
              "      <td>373450</td>\n",
              "      <td>8.0500</td>\n",
              "      <td>NaN</td>\n",
              "      <td>S</td>\n",
              "    </tr>\n",
              "    <tr>\n",
              "      <th>5</th>\n",
              "      <td>6</td>\n",
              "      <td>0</td>\n",
              "      <td>3</td>\n",
              "      <td>Moran, Mr. James</td>\n",
              "      <td>male</td>\n",
              "      <td>NaN</td>\n",
              "      <td>0</td>\n",
              "      <td>0</td>\n",
              "      <td>330877</td>\n",
              "      <td>8.4583</td>\n",
              "      <td>NaN</td>\n",
              "      <td>Q</td>\n",
              "    </tr>\n",
              "    <tr>\n",
              "      <th>6</th>\n",
              "      <td>7</td>\n",
              "      <td>0</td>\n",
              "      <td>1</td>\n",
              "      <td>McCarthy, Mr. Timothy J</td>\n",
              "      <td>male</td>\n",
              "      <td>54.0</td>\n",
              "      <td>0</td>\n",
              "      <td>0</td>\n",
              "      <td>17463</td>\n",
              "      <td>51.8625</td>\n",
              "      <td>E46</td>\n",
              "      <td>S</td>\n",
              "    </tr>\n",
              "    <tr>\n",
              "      <th>7</th>\n",
              "      <td>8</td>\n",
              "      <td>0</td>\n",
              "      <td>3</td>\n",
              "      <td>Palsson, Master. Gosta Leonard</td>\n",
              "      <td>male</td>\n",
              "      <td>2.0</td>\n",
              "      <td>3</td>\n",
              "      <td>1</td>\n",
              "      <td>349909</td>\n",
              "      <td>21.0750</td>\n",
              "      <td>NaN</td>\n",
              "      <td>S</td>\n",
              "    </tr>\n",
              "    <tr>\n",
              "      <th>8</th>\n",
              "      <td>9</td>\n",
              "      <td>1</td>\n",
              "      <td>3</td>\n",
              "      <td>Johnson, Mrs. Oscar W (Elisabeth Vilhelmina Berg)</td>\n",
              "      <td>female</td>\n",
              "      <td>27.0</td>\n",
              "      <td>0</td>\n",
              "      <td>2</td>\n",
              "      <td>347742</td>\n",
              "      <td>11.1333</td>\n",
              "      <td>NaN</td>\n",
              "      <td>S</td>\n",
              "    </tr>\n",
              "    <tr>\n",
              "      <th>9</th>\n",
              "      <td>10</td>\n",
              "      <td>1</td>\n",
              "      <td>2</td>\n",
              "      <td>Nasser, Mrs. Nicholas (Adele Achem)</td>\n",
              "      <td>female</td>\n",
              "      <td>14.0</td>\n",
              "      <td>1</td>\n",
              "      <td>0</td>\n",
              "      <td>237736</td>\n",
              "      <td>30.0708</td>\n",
              "      <td>NaN</td>\n",
              "      <td>C</td>\n",
              "    </tr>\n",
              "    <tr>\n",
              "      <th>10</th>\n",
              "      <td>11</td>\n",
              "      <td>1</td>\n",
              "      <td>3</td>\n",
              "      <td>Sandstrom, Miss. Marguerite Rut</td>\n",
              "      <td>female</td>\n",
              "      <td>4.0</td>\n",
              "      <td>1</td>\n",
              "      <td>1</td>\n",
              "      <td>PP 9549</td>\n",
              "      <td>16.7000</td>\n",
              "      <td>G6</td>\n",
              "      <td>S</td>\n",
              "    </tr>\n",
              "    <tr>\n",
              "      <th>11</th>\n",
              "      <td>12</td>\n",
              "      <td>1</td>\n",
              "      <td>1</td>\n",
              "      <td>Bonnell, Miss. Elizabeth</td>\n",
              "      <td>female</td>\n",
              "      <td>58.0</td>\n",
              "      <td>0</td>\n",
              "      <td>0</td>\n",
              "      <td>113783</td>\n",
              "      <td>26.5500</td>\n",
              "      <td>C103</td>\n",
              "      <td>S</td>\n",
              "    </tr>\n",
              "    <tr>\n",
              "      <th>12</th>\n",
              "      <td>13</td>\n",
              "      <td>0</td>\n",
              "      <td>3</td>\n",
              "      <td>Saundercock, Mr. William Henry</td>\n",
              "      <td>male</td>\n",
              "      <td>20.0</td>\n",
              "      <td>0</td>\n",
              "      <td>0</td>\n",
              "      <td>A/5. 2151</td>\n",
              "      <td>8.0500</td>\n",
              "      <td>NaN</td>\n",
              "      <td>S</td>\n",
              "    </tr>\n",
              "    <tr>\n",
              "      <th>13</th>\n",
              "      <td>14</td>\n",
              "      <td>0</td>\n",
              "      <td>3</td>\n",
              "      <td>Andersson, Mr. Anders Johan</td>\n",
              "      <td>male</td>\n",
              "      <td>39.0</td>\n",
              "      <td>1</td>\n",
              "      <td>5</td>\n",
              "      <td>347082</td>\n",
              "      <td>31.2750</td>\n",
              "      <td>NaN</td>\n",
              "      <td>S</td>\n",
              "    </tr>\n",
              "    <tr>\n",
              "      <th>14</th>\n",
              "      <td>15</td>\n",
              "      <td>0</td>\n",
              "      <td>3</td>\n",
              "      <td>Vestrom, Miss. Hulda Amanda Adolfina</td>\n",
              "      <td>female</td>\n",
              "      <td>14.0</td>\n",
              "      <td>0</td>\n",
              "      <td>0</td>\n",
              "      <td>350406</td>\n",
              "      <td>7.8542</td>\n",
              "      <td>NaN</td>\n",
              "      <td>S</td>\n",
              "    </tr>\n",
              "  </tbody>\n",
              "</table>\n",
              "</div>"
            ],
            "text/plain": [
              "    PassengerId  Survived  Pclass  ...     Fare Cabin  Embarked\n",
              "0             1         0       3  ...   7.2500   NaN         S\n",
              "1             2         1       1  ...  71.2833   C85         C\n",
              "2             3         1       3  ...   7.9250   NaN         S\n",
              "3             4         1       1  ...  53.1000  C123         S\n",
              "4             5         0       3  ...   8.0500   NaN         S\n",
              "5             6         0       3  ...   8.4583   NaN         Q\n",
              "6             7         0       1  ...  51.8625   E46         S\n",
              "7             8         0       3  ...  21.0750   NaN         S\n",
              "8             9         1       3  ...  11.1333   NaN         S\n",
              "9            10         1       2  ...  30.0708   NaN         C\n",
              "10           11         1       3  ...  16.7000    G6         S\n",
              "11           12         1       1  ...  26.5500  C103         S\n",
              "12           13         0       3  ...   8.0500   NaN         S\n",
              "13           14         0       3  ...  31.2750   NaN         S\n",
              "14           15         0       3  ...   7.8542   NaN         S\n",
              "\n",
              "[15 rows x 12 columns]"
            ]
          },
          "metadata": {
            "tags": []
          },
          "execution_count": 5
        }
      ]
    },
    {
      "cell_type": "markdown",
      "metadata": {
        "id": "GYOLoy5JAVSJ"
      },
      "source": [
        "Com essa primeira obervação de parte do dataset, percebe-se que as variáveis 'PassengerId', 'Survived', 'PClass', 'SiBsp' e 'Parch' assumem valores discretos, sendo confirmado nos tipos dos dados abaixo. Além disso, a variável que representa se o passageiro sobreviveu ou não ao desastre é dicotômica (assume apenas 2 valores, 0 ou 1 nesse caso), assim como a que representa o sexo do passageiro, porém é categórica.\n",
        "\n",
        "Ademais, nota-se a ausência de alguns valores (*missing values*) nas variáveis 'Age' e 'Cabin', podendo influenciar na atuação do nosso modelo.\n"
      ]
    },
    {
      "cell_type": "code",
      "metadata": {
        "id": "pYAX7w3xC4Nd",
        "outputId": "c1a5a9eb-447e-44de-884a-ce71b14a9614",
        "colab": {
          "base_uri": "https://localhost:8080/"
        }
      },
      "source": [
        "# Tipos dos dados \n",
        "treino.dtypes"
      ],
      "execution_count": 6,
      "outputs": [
        {
          "output_type": "execute_result",
          "data": {
            "text/plain": [
              "PassengerId      int64\n",
              "Survived         int64\n",
              "Pclass           int64\n",
              "Name            object\n",
              "Sex             object\n",
              "Age            float64\n",
              "SibSp            int64\n",
              "Parch            int64\n",
              "Ticket          object\n",
              "Fare           float64\n",
              "Cabin           object\n",
              "Embarked        object\n",
              "dtype: object"
            ]
          },
          "metadata": {
            "tags": []
          },
          "execution_count": 6
        }
      ]
    },
    {
      "cell_type": "markdown",
      "metadata": {
        "id": "dPua8ce1Emcd"
      },
      "source": [
        "Para uma melhor descrição do Dataframe, utilizaremos o método *describe* do pandas."
      ]
    },
    {
      "cell_type": "code",
      "metadata": {
        "id": "42nFoVE4v8ED",
        "outputId": "0fc5eaae-eb51-489c-eaf8-98114c35ee09",
        "colab": {
          "base_uri": "https://localhost:8080/",
          "height": 284
        }
      },
      "source": [
        "# Descrevendo o Dataframe\n",
        "treino.describe() "
      ],
      "execution_count": 7,
      "outputs": [
        {
          "output_type": "execute_result",
          "data": {
            "text/html": [
              "<div>\n",
              "<style scoped>\n",
              "    .dataframe tbody tr th:only-of-type {\n",
              "        vertical-align: middle;\n",
              "    }\n",
              "\n",
              "    .dataframe tbody tr th {\n",
              "        vertical-align: top;\n",
              "    }\n",
              "\n",
              "    .dataframe thead th {\n",
              "        text-align: right;\n",
              "    }\n",
              "</style>\n",
              "<table border=\"1\" class=\"dataframe\">\n",
              "  <thead>\n",
              "    <tr style=\"text-align: right;\">\n",
              "      <th></th>\n",
              "      <th>PassengerId</th>\n",
              "      <th>Survived</th>\n",
              "      <th>Pclass</th>\n",
              "      <th>Age</th>\n",
              "      <th>SibSp</th>\n",
              "      <th>Parch</th>\n",
              "      <th>Fare</th>\n",
              "    </tr>\n",
              "  </thead>\n",
              "  <tbody>\n",
              "    <tr>\n",
              "      <th>count</th>\n",
              "      <td>891.000000</td>\n",
              "      <td>891.000000</td>\n",
              "      <td>891.000000</td>\n",
              "      <td>714.000000</td>\n",
              "      <td>891.000000</td>\n",
              "      <td>891.000000</td>\n",
              "      <td>891.000000</td>\n",
              "    </tr>\n",
              "    <tr>\n",
              "      <th>mean</th>\n",
              "      <td>446.000000</td>\n",
              "      <td>0.383838</td>\n",
              "      <td>2.308642</td>\n",
              "      <td>29.699118</td>\n",
              "      <td>0.523008</td>\n",
              "      <td>0.381594</td>\n",
              "      <td>32.204208</td>\n",
              "    </tr>\n",
              "    <tr>\n",
              "      <th>std</th>\n",
              "      <td>257.353842</td>\n",
              "      <td>0.486592</td>\n",
              "      <td>0.836071</td>\n",
              "      <td>14.526497</td>\n",
              "      <td>1.102743</td>\n",
              "      <td>0.806057</td>\n",
              "      <td>49.693429</td>\n",
              "    </tr>\n",
              "    <tr>\n",
              "      <th>min</th>\n",
              "      <td>1.000000</td>\n",
              "      <td>0.000000</td>\n",
              "      <td>1.000000</td>\n",
              "      <td>0.420000</td>\n",
              "      <td>0.000000</td>\n",
              "      <td>0.000000</td>\n",
              "      <td>0.000000</td>\n",
              "    </tr>\n",
              "    <tr>\n",
              "      <th>25%</th>\n",
              "      <td>223.500000</td>\n",
              "      <td>0.000000</td>\n",
              "      <td>2.000000</td>\n",
              "      <td>20.125000</td>\n",
              "      <td>0.000000</td>\n",
              "      <td>0.000000</td>\n",
              "      <td>7.910400</td>\n",
              "    </tr>\n",
              "    <tr>\n",
              "      <th>50%</th>\n",
              "      <td>446.000000</td>\n",
              "      <td>0.000000</td>\n",
              "      <td>3.000000</td>\n",
              "      <td>28.000000</td>\n",
              "      <td>0.000000</td>\n",
              "      <td>0.000000</td>\n",
              "      <td>14.454200</td>\n",
              "    </tr>\n",
              "    <tr>\n",
              "      <th>75%</th>\n",
              "      <td>668.500000</td>\n",
              "      <td>1.000000</td>\n",
              "      <td>3.000000</td>\n",
              "      <td>38.000000</td>\n",
              "      <td>1.000000</td>\n",
              "      <td>0.000000</td>\n",
              "      <td>31.000000</td>\n",
              "    </tr>\n",
              "    <tr>\n",
              "      <th>max</th>\n",
              "      <td>891.000000</td>\n",
              "      <td>1.000000</td>\n",
              "      <td>3.000000</td>\n",
              "      <td>80.000000</td>\n",
              "      <td>8.000000</td>\n",
              "      <td>6.000000</td>\n",
              "      <td>512.329200</td>\n",
              "    </tr>\n",
              "  </tbody>\n",
              "</table>\n",
              "</div>"
            ],
            "text/plain": [
              "       PassengerId    Survived      Pclass  ...       SibSp       Parch        Fare\n",
              "count   891.000000  891.000000  891.000000  ...  891.000000  891.000000  891.000000\n",
              "mean    446.000000    0.383838    2.308642  ...    0.523008    0.381594   32.204208\n",
              "std     257.353842    0.486592    0.836071  ...    1.102743    0.806057   49.693429\n",
              "min       1.000000    0.000000    1.000000  ...    0.000000    0.000000    0.000000\n",
              "25%     223.500000    0.000000    2.000000  ...    0.000000    0.000000    7.910400\n",
              "50%     446.000000    0.000000    3.000000  ...    0.000000    0.000000   14.454200\n",
              "75%     668.500000    1.000000    3.000000  ...    1.000000    0.000000   31.000000\n",
              "max     891.000000    1.000000    3.000000  ...    8.000000    6.000000  512.329200\n",
              "\n",
              "[8 rows x 7 columns]"
            ]
          },
          "metadata": {
            "tags": []
          },
          "execution_count": 7
        }
      ]
    },
    {
      "cell_type": "markdown",
      "metadata": {
        "id": "AotQT8iIFC0F"
      },
      "source": [
        "A partir da descrição acima, podemos ter uma ideia sobre as distribuições das variáveis.\n",
        "\n",
        "Primeiramente, vale-se obervar a quantidade de cada variável. Como foi dito acima, percebeu-se a ausência de alguns valores na variável 'Age', o que confirma-se dado que o número de suas observações foi o menor.\n",
        "\n",
        "Quanto aos percentis, na variável 'Age', por exemplo, podemos ver que cerca de 75% dos passageiros têm até 38 anos, ou seja, muitas pessoas jovens estavam no navio. Além disso, para essa mesma variável, a média se aproxima da mediana(percentil 50), dando alguma ideia de maior concentração dos dados em torno da média. Para a variável 'Fare', o valor máximo é muito superior ao percentil 75 (ou 3° quartil), fornecendo uma ideia da presença de *outliers* (valores discrepantes)."
      ]
    },
    {
      "cell_type": "markdown",
      "metadata": {
        "id": "LoY0vbpNLLvr"
      },
      "source": [
        "###Visualização das variáveis"
      ]
    },
    {
      "cell_type": "markdown",
      "metadata": {
        "id": "2ksT8ZFnMYm5"
      },
      "source": [
        "Para a visualização das variáveis, ou seja, a criação de gráficos, utilizaremos as bibliotecas matplotlib e seaborn. Nosso objetivo é conhecer o comportamento de tais variáveis junto com suas distribuições. Comecemos analisando algumas variáveis categóricas."
      ]
    },
    {
      "cell_type": "markdown",
      "metadata": {
        "id": "yuGLjqqg3_VS"
      },
      "source": [
        "##Variáveis categóricas"
      ]
    },
    {
      "cell_type": "markdown",
      "metadata": {
        "id": "5n_flptz1xW_"
      },
      "source": [
        "#### Sobreviventes ('Survived'):"
      ]
    },
    {
      "cell_type": "markdown",
      "metadata": {
        "id": "YTKpRvQrS5QN"
      },
      "source": [
        "A primeira variável a ser analisada é a 'Survived', a variável *dummy*, e que representa a quantidade de sobreviventes ao desastre do Titanic. Por ser uma variável dicotômica (assume apenas 2 valores), o *dataset* definiu como 0 quem não sobreviveu e 1 quem sobreviveu ao desastre."
      ]
    },
    {
      "cell_type": "code",
      "metadata": {
        "id": "7ZNi8NRVK4rA",
        "outputId": "187cc64f-16c9-42e2-e77c-619618417c9f",
        "colab": {
          "base_uri": "https://localhost:8080/",
          "height": 312
        }
      },
      "source": [
        "# Quantidade de sobreviventes ao desastre\n",
        "sns.countplot(x = 'Survived', hue = 'Survived', data = treino, dodge = False, )\n",
        "plt.title(\"Número de sobreviventes ao desatre\")\n",
        "plt.legend(['Não sobreviveu', 'Sobreviveu'])\n",
        "plt.xlabel(\"Sobreviventes\")\n",
        "plt.ylabel(\"Quantidade\")"
      ],
      "execution_count": 8,
      "outputs": [
        {
          "output_type": "execute_result",
          "data": {
            "text/plain": [
              "Text(0, 0.5, 'Quantidade')"
            ]
          },
          "metadata": {
            "tags": []
          },
          "execution_count": 8
        },
        {
          "output_type": "display_data",
          "data": {
            "image/png": "[encoded data removed]",
            "text/plain": [
              "<Figure size 432x288 with 1 Axes>"
            ]
          },
          "metadata": {
            "tags": [],
            "needs_background": "light"
          }
        }
      ]
    },
    {
      "cell_type": "markdown",
      "metadata": {
        "id": "KShWEdoKW7PL"
      },
      "source": [
        "E a quantidade exata em total e frequência:"
      ]
    },
    {
      "cell_type": "code",
      "metadata": {
        "id": "fil-up2BNj8K",
        "outputId": "6c3447fc-fff5-4e55-adcf-00a6260f6e2a",
        "colab": {
          "base_uri": "https://localhost:8080/"
        }
      },
      "source": [
        "# A quantidade exata de sobreviventes:\n",
        "print(treino['Survived'].value_counts())\n",
        "print()\n",
        "# A quantidade de sobreviventes em frequência:\n",
        "print(treino[\"Survived\"].value_counts(normalize = True))"
      ],
      "execution_count": 17,
      "outputs": [
        {
          "output_type": "stream",
          "text": [
            "0    549\n",
            "1    342\n",
            "Name: Survived, dtype: int64\n",
            "\n",
            "0    0.616162\n",
            "1    0.383838\n",
            "Name: Survived, dtype: float64\n"
          ],
          "name": "stdout"
        }
      ]
    },
    {
      "cell_type": "markdown",
      "metadata": {
        "id": "myKBhV777N6s"
      },
      "source": [
        "Assim, temos que para o nosso conjunto de dados inteiro, aproximadamente 61,61% dos passageiros não sobreviveram e 38,39% sobreviveram ao desastre"
      ]
    },
    {
      "cell_type": "markdown",
      "metadata": {
        "id": "-YjDndJQ2Bdq"
      },
      "source": [
        "####Sobreviventes ('Survived')  vs  Sexo ('Sex'):"
      ]
    },
    {
      "cell_type": "markdown",
      "metadata": {
        "id": "OY2LBrE_XfAr"
      },
      "source": [
        "Ainda sobre essa variável e relacionando com variáveis categóricas como sexo e a classe social do passageiro, podemos ter informações mais específicas sobre os sobreviventes do desastre.\n",
        "\n",
        "Primeiramente, olhemos a relação das variáveis 'Survived' e 'Sex'."
      ]
    },
    {
      "cell_type": "code",
      "metadata": {
        "id": "0Ow5gDvNXcHC",
        "outputId": "9b784a53-3b18-40e2-831d-9681740d8164",
        "colab": {
          "base_uri": "https://localhost:8080/",
          "height": 400
        }
      },
      "source": [
        "sns.catplot(x = \"Sex\", hue=\"Sex\", col = 'Survived', data = treino, kind = \"count\", dodge = False, height=5, aspect=1)\n",
        "plt.legend(['Homens', 'Mulheres'])"
      ],
      "execution_count": 18,
      "outputs": [
        {
          "output_type": "execute_result",
          "data": {
            "text/plain": [
              "<matplotlib.legend.Legend at 0x7f761991ae80>"
            ]
          },
          "metadata": {
            "tags": []
          },
          "execution_count": 18
        },
        {
          "output_type": "display_data",
          "data": {
            "image/png": "[encoded data removed]",
            "text/plain": [
              "<Figure size 720x360 with 2 Axes>"
            ]
          },
          "metadata": {
            "tags": [],
            "needs_background": "light"
          }
        }
      ]
    },
    {
      "cell_type": "markdown",
      "metadata": {
        "id": "ftr8_dt1bTYY"
      },
      "source": [
        "Obervamos claramente dessa maneira que mais homens não sobreviveram ao desastre enquanto que mais mulheres sobreviram. Para saber com exatidão, criaremos um Dataframe com a quantidade de sobreviventes por sexo:"
      ]
    },
    {
      "cell_type": "code",
      "metadata": {
        "id": "jpLGBDnKa7-r",
        "outputId": "97259fb4-ff9b-4dd7-b8b2-835fd3262e98",
        "colab": {
          "base_uri": "https://localhost:8080/",
          "height": 136
        }
      },
      "source": [
        "# Determinando por sexo e se sobreviveu ou não\n",
        "homens_n = len(treino[(treino.Sex == 'male') & (treino.Survived == 0)])\n",
        "mulheres_n = len(treino[(treino.Sex == 'female') & (treino.Survived == 0)])\n",
        "homens_s = len(treino[(treino.Sex == 'male') & (treino.Survived == 1)])\n",
        "mulheres_s = len(treino[(treino.Sex == 'female') & (treino.Survived == 1)])\n",
        "\n",
        "# Criando um dicionário com os valores acima\n",
        "dados = {'Homem': [homens_n, homens_s, (homens_n + homens_s)],\n",
        "        'Mulher': [mulheres_n, mulheres_s, (mulheres_n + mulheres_s)],\n",
        "         'Total': [(homens_n + mulheres_n), (homens_s + mulheres_s), len(treino.Survived)]}\n",
        "\n",
        "# Criando um Dataframe com o dicionário\n",
        "sobreviventes = pd.DataFrame(dados, columns = ['Homem', 'Mulher', 'Total'], index = ['Não sobreviveu', 'Sobreviveu', 'Total'])  \n",
        "sobreviventes"
      ],
      "execution_count": 11,
      "outputs": [
        {
          "output_type": "execute_result",
          "data": {
            "text/html": [
              "<div>\n",
              "<style scoped>\n",
              "    .dataframe tbody tr th:only-of-type {\n",
              "        vertical-align: middle;\n",
              "    }\n",
              "\n",
              "    .dataframe tbody tr th {\n",
              "        vertical-align: top;\n",
              "    }\n",
              "\n",
              "    .dataframe thead th {\n",
              "        text-align: right;\n",
              "    }\n",
              "</style>\n",
              "<table border=\"1\" class=\"dataframe\">\n",
              "  <thead>\n",
              "    <tr style=\"text-align: right;\">\n",
              "      <th></th>\n",
              "      <th>Homem</th>\n",
              "      <th>Mulher</th>\n",
              "      <th>Total</th>\n",
              "    </tr>\n",
              "  </thead>\n",
              "  <tbody>\n",
              "    <tr>\n",
              "      <th>Não sobreviveu</th>\n",
              "      <td>468</td>\n",
              "      <td>81</td>\n",
              "      <td>549</td>\n",
              "    </tr>\n",
              "    <tr>\n",
              "      <th>Sobreviveu</th>\n",
              "      <td>109</td>\n",
              "      <td>233</td>\n",
              "      <td>342</td>\n",
              "    </tr>\n",
              "    <tr>\n",
              "      <th>Total</th>\n",
              "      <td>577</td>\n",
              "      <td>314</td>\n",
              "      <td>891</td>\n",
              "    </tr>\n",
              "  </tbody>\n",
              "</table>\n",
              "</div>"
            ],
            "text/plain": [
              "                Homem  Mulher  Total\n",
              "Não sobreviveu    468      81    549\n",
              "Sobreviveu        109     233    342\n",
              "Total             577     314    891"
            ]
          },
          "metadata": {
            "tags": []
          },
          "execution_count": 11
        }
      ]
    },
    {
      "cell_type": "markdown",
      "metadata": {
        "id": "zDPOc6K-Eud8"
      },
      "source": [
        "Com o Dataframe acima podemos ter com exatidão os sobreviventes totais pelo seu sexo no conjunto de dados fornecido."
      ]
    },
    {
      "cell_type": "markdown",
      "metadata": {
        "id": "TQcg7jQu2SWe"
      },
      "source": [
        "####Sobreviventes ('Survived') vs Classe social ('Pclass'):"
      ]
    },
    {
      "cell_type": "markdown",
      "metadata": {
        "id": "5lPbpURH2fLl"
      },
      "source": [
        "Agora, analisaremos as relações das variáveis 'Survived' e 'Class', para ter uma ideia dos sobreviventes e suas condições sociais."
      ]
    },
    {
      "cell_type": "code",
      "metadata": {
        "id": "3pDQizgnYgvh",
        "outputId": "aa7edb4e-330b-4226-b6a5-772a80e3d538",
        "colab": {
          "base_uri": "https://localhost:8080/",
          "height": 400
        }
      },
      "source": [
        "sns.catplot(x = \"Pclass\", hue=\"Pclass\", col = 'Survived', data = treino, kind = \"count\", dodge = False, height=5, aspect=1)\n",
        "plt.legend(['1 - Alta', '2 - Média', '3 - Baixa'])"
      ],
      "execution_count": 12,
      "outputs": [
        {
          "output_type": "execute_result",
          "data": {
            "text/plain": [
              "<matplotlib.legend.Legend at 0x7f761dd1c940>"
            ]
          },
          "metadata": {
            "tags": []
          },
          "execution_count": 12
        },
        {
          "output_type": "display_data",
          "data": {
            "image/png": "[encoded data removed]",
            "text/plain": [
              "<Figure size 720x360 with 2 Axes>"
            ]
          },
          "metadata": {
            "tags": [],
            "needs_background": "light"
          }
        }
      ]
    },
    {
      "cell_type": "markdown",
      "metadata": {
        "id": "l49n1XWbKD5a"
      },
      "source": [
        "Com o gráfico de barras acima podemos observar que dos passageiros que não sobreviveram, a maioria era de um *status* social menor (classe baixa) seguidos daqueles de classe média e por fim os de classe alta, que foram os que mais sobreviveram. Abaixo podemos olhar melhor para os números daqueles que sobreviveram ou não com sua classe social."
      ]
    },
    {
      "cell_type": "code",
      "metadata": {
        "id": "rYtdPG5kLqrt",
        "outputId": "09f046aa-a583-4e83-ea82-b7f0d5434696",
        "colab": {
          "base_uri": "https://localhost:8080/",
          "height": 136
        }
      },
      "source": [
        "# Determinando por classe social e se sobreviveu ou não\n",
        "classe_n = []\n",
        "classe_s = []\n",
        "\n",
        "# Loop pelas classes e aqueles que não sobreviveram\n",
        "for i in range(1, 4):\n",
        "  classe_n.append(len(treino[(treino.Pclass == i) & (treino.Survived == 0)]))\n",
        "\n",
        "# Loop pelas classes e aqueles que sobreviveram\n",
        "for i in range(1, 4):\n",
        "  classe_s.append(len(treino[(treino.Pclass == i) & (treino.Survived == 1)]))\n",
        "\n",
        "# Criando um dicionário com os valores acima\n",
        "dados = {'Alta': [classe_n[0], classe_s[0], (classe_s[0] + classe_n[0])],\n",
        "         'Média': [classe_n[1], classe_s[1], (classe_s[1] + classe_n[1])],\n",
        "         'Baixa': [classe_n[2], classe_s[2], (classe_s[2] + classe_n[2])],\n",
        "         'Total': [sum(classe_n), sum(classe_s), len(treino.Pclass)]}\n",
        "\n",
        "# Criando um Dataframe com o dicionário\n",
        "sobreviventes_classes = pd.DataFrame(dados, columns = ['Alta', 'Média', 'Baixa', 'Total'], index = ['Não sobreviveu', 'Sobreviveu', 'Total'])  \n",
        "sobreviventes_classes"
      ],
      "execution_count": 15,
      "outputs": [
        {
          "output_type": "execute_result",
          "data": {
            "text/html": [
              "<div>\n",
              "<style scoped>\n",
              "    .dataframe tbody tr th:only-of-type {\n",
              "        vertical-align: middle;\n",
              "    }\n",
              "\n",
              "    .dataframe tbody tr th {\n",
              "        vertical-align: top;\n",
              "    }\n",
              "\n",
              "    .dataframe thead th {\n",
              "        text-align: right;\n",
              "    }\n",
              "</style>\n",
              "<table border=\"1\" class=\"dataframe\">\n",
              "  <thead>\n",
              "    <tr style=\"text-align: right;\">\n",
              "      <th></th>\n",
              "      <th>Alta</th>\n",
              "      <th>Média</th>\n",
              "      <th>Baixa</th>\n",
              "      <th>Total</th>\n",
              "    </tr>\n",
              "  </thead>\n",
              "  <tbody>\n",
              "    <tr>\n",
              "      <th>Não sobreviveu</th>\n",
              "      <td>80</td>\n",
              "      <td>97</td>\n",
              "      <td>372</td>\n",
              "      <td>549</td>\n",
              "    </tr>\n",
              "    <tr>\n",
              "      <th>Sobreviveu</th>\n",
              "      <td>136</td>\n",
              "      <td>87</td>\n",
              "      <td>119</td>\n",
              "      <td>342</td>\n",
              "    </tr>\n",
              "    <tr>\n",
              "      <th>Total</th>\n",
              "      <td>216</td>\n",
              "      <td>184</td>\n",
              "      <td>491</td>\n",
              "      <td>891</td>\n",
              "    </tr>\n",
              "  </tbody>\n",
              "</table>\n",
              "</div>"
            ],
            "text/plain": [
              "                Alta  Média  Baixa  Total\n",
              "Não sobreviveu    80     97    372    549\n",
              "Sobreviveu       136     87    119    342\n",
              "Total            216    184    491    891"
            ]
          },
          "metadata": {
            "tags": []
          },
          "execution_count": 15
        }
      ]
    },
    {
      "cell_type": "markdown",
      "metadata": {
        "id": "BQafqsGr2jRR"
      },
      "source": [
        "####Classe social ('Pclass') vs Sexo ('Sex'):"
      ]
    },
    {
      "cell_type": "markdown",
      "metadata": {
        "id": "SySHMoSaRKAQ"
      },
      "source": [
        "Agora, analisaremos como as classes sociais se distribuem com os sexos."
      ]
    },
    {
      "cell_type": "code",
      "metadata": {
        "id": "CB2OvpSO3cbV",
        "outputId": "6121160b-789a-4df7-b21d-c1ac441b067d",
        "colab": {
          "base_uri": "https://localhost:8080/",
          "height": 400
        }
      },
      "source": [
        "sns.catplot(x = \"Sex\", hue=\"Sex\", col = 'Pclass', data = treino, kind = \"count\", dodge = False, height=5, aspect=1)\n",
        "plt.legend(['Homens', 'Mulheres'])"
      ],
      "execution_count": 33,
      "outputs": [
        {
          "output_type": "execute_result",
          "data": {
            "text/plain": [
              "<matplotlib.legend.Legend at 0x7f76110b72e8>"
            ]
          },
          "metadata": {
            "tags": []
          },
          "execution_count": 33
        },
        {
          "output_type": "display_data",
          "data": {
            "image/png": "[encoded data removed]",
            "text/plain": [
              "<Figure size 1080x360 with 3 Axes>"
            ]
          },
          "metadata": {
            "tags": [],
            "needs_background": "light"
          }
        }
      ]
    },
    {
      "cell_type": "markdown",
      "metadata": {
        "id": "7D-L5ov8-9Iw"
      },
      "source": [
        "Oberservamos que haviam muitos passageiros de classe baixa no navio e maioria era homem. Seguidos das pessoas de classe alta e por último aqueles de classe média. Em todas as classes, a quantidade de homens é superior ao número de mulheres.\n",
        "\n",
        "Agora olhemos uma tabela com os resultados dos números exatos do *dataset*."
      ]
    },
    {
      "cell_type": "code",
      "metadata": {
        "id": "7BpF9aVI9C9w",
        "outputId": "5838f2a0-0004-4d4f-b56a-0c9718f1230b",
        "colab": {
          "base_uri": "https://localhost:8080/",
          "height": 136
        }
      },
      "source": [
        "# Determinando por classe social e sexo\n",
        "classe_h = []\n",
        "classe_m = []\n",
        "\n",
        "# Loop pelas classes e aqueles que são homens\n",
        "for i in range(1, 4):\n",
        "  classe_h.append(len(treino[(treino.Pclass == i) & (treino.Sex == 'male')]))\n",
        "\n",
        "# Loop pelas classes e aqueles que são mulheres\n",
        "for i in range(1, 4):\n",
        "  classe_m.append(len(treino[(treino.Pclass == i) & (treino.Sex== 'female')]))\n",
        "\n",
        "# Criando um dicionário com os valores acima\n",
        "dados = {'Alta': [classe_h[0], classe_m[0], (classe_h[0] + classe_m[0])],\n",
        "         'Média': [classe_h[1], classe_m[1], (classe_h[1] + classe_m[1])],\n",
        "         'Baixa': [classe_h[2], classe_m[2], (classe_h[2] + classe_m[2])],\n",
        "         'Total': [sum(classe_h), sum(classe_m), len(treino.Pclass)]}\n",
        "\n",
        "# Criando um Dataframe com o dicionário\n",
        "classes_sex = pd.DataFrame(dados, columns = ['Alta', 'Média', 'Baixa', 'Total'], index = ['Homem', 'Mulher', 'Total'])  \n",
        "classes_sex"
      ],
      "execution_count": 37,
      "outputs": [
        {
          "output_type": "execute_result",
          "data": {
            "text/html": [
              "<div>\n",
              "<style scoped>\n",
              "    .dataframe tbody tr th:only-of-type {\n",
              "        vertical-align: middle;\n",
              "    }\n",
              "\n",
              "    .dataframe tbody tr th {\n",
              "        vertical-align: top;\n",
              "    }\n",
              "\n",
              "    .dataframe thead th {\n",
              "        text-align: right;\n",
              "    }\n",
              "</style>\n",
              "<table border=\"1\" class=\"dataframe\">\n",
              "  <thead>\n",
              "    <tr style=\"text-align: right;\">\n",
              "      <th></th>\n",
              "      <th>Alta</th>\n",
              "      <th>Média</th>\n",
              "      <th>Baixa</th>\n",
              "      <th>Total</th>\n",
              "    </tr>\n",
              "  </thead>\n",
              "  <tbody>\n",
              "    <tr>\n",
              "      <th>Homem</th>\n",
              "      <td>122</td>\n",
              "      <td>108</td>\n",
              "      <td>347</td>\n",
              "      <td>577</td>\n",
              "    </tr>\n",
              "    <tr>\n",
              "      <th>Mulher</th>\n",
              "      <td>94</td>\n",
              "      <td>76</td>\n",
              "      <td>144</td>\n",
              "      <td>314</td>\n",
              "    </tr>\n",
              "    <tr>\n",
              "      <th>Total</th>\n",
              "      <td>216</td>\n",
              "      <td>184</td>\n",
              "      <td>491</td>\n",
              "      <td>891</td>\n",
              "    </tr>\n",
              "  </tbody>\n",
              "</table>\n",
              "</div>"
            ],
            "text/plain": [
              "        Alta  Média  Baixa  Total\n",
              "Homem    122    108    347    577\n",
              "Mulher    94     76    144    314\n",
              "Total    216    184    491    891"
            ]
          },
          "metadata": {
            "tags": []
          },
          "execution_count": 37
        }
      ]
    },
    {
      "cell_type": "markdown",
      "metadata": {
        "id": "hXiaR8JXAYnv"
      },
      "source": [
        "Com a tabela acima podemos ter uma ideia mais exata da quantidade de homens e mulheres por classe social presentes no navio e confirmar o que observamos no gráfico anterior.\n",
        "\n",
        "Agora, analisemos algumas variáveis numéricas."
      ]
    },
    {
      "cell_type": "markdown",
      "metadata": {
        "id": "8S-b22pDBhfZ"
      },
      "source": [
        "##Variáveis Numéricas"
      ]
    },
    {
      "cell_type": "markdown",
      "metadata": {
        "id": "XVHGQfnaB-3U"
      },
      "source": [
        "Como primeira variável numérica, iremos analisar a variável 'Age', que é uma variável contínua e representa a idade dos passageiros em anos."
      ]
    },
    {
      "cell_type": "markdown",
      "metadata": {
        "id": "ZRaj9LT6CBIn"
      },
      "source": [
        "###Idade ('Age'):"
      ]
    },
    {
      "cell_type": "markdown",
      "metadata": {
        "id": "-NcqvMDSDJix"
      },
      "source": [
        "Comecemos plotando um histograma para essa variável."
      ]
    },
    {
      "cell_type": "code",
      "metadata": {
        "id": "myiGPejH-wq3",
        "outputId": "bcd3448b-efc2-4503-dee1-659b211aef5b",
        "colab": {
          "base_uri": "https://localhost:8080/",
          "height": 312
        }
      },
      "source": [
        " # Plotando histograma para variável contínua 'Age'\n",
        " sns.histplot(x = treino['Age'], kde = True)\n",
        " plt.title(\"Histograma para Idade\")\n",
        " plt.xlabel('Idade')\n",
        " plt.ylabel('Quantidade')\n",
        "\n",
        " #(treino['Age'].isna().sum())/len(treino['Age'])    - Quantidade de NaN na variável 'Age'"
      ],
      "execution_count": 57,
      "outputs": [
        {
          "output_type": "execute_result",
          "data": {
            "text/plain": [
              "Text(0, 0.5, 'Quantidade')"
            ]
          },
          "metadata": {
            "tags": []
          },
          "execution_count": 57
        },
        {
          "output_type": "display_data",
          "data": {
            "image/png": "[encoded data removed]",
            "text/plain": [
              "<Figure size 432x288 with 1 Axes>"
            ]
          },
          "metadata": {
            "tags": [],
            "needs_background": "light"
          }
        }
      ]
    },
    {
      "cell_type": "code",
      "metadata": {
        "id": "12hhKn01FcSs",
        "outputId": "a8e4a40e-8ec8-44ab-d81d-f741cd769a30",
        "colab": {
          "base_uri": "https://localhost:8080/"
        }
      },
      "source": [
        "treino['Age'].dropna()"
      ],
      "execution_count": 55,
      "outputs": [
        {
          "output_type": "stream",
          "text": [
            "891\n"
          ],
          "name": "stdout"
        }
      ]
    },
    {
      "cell_type": "code",
      "metadata": {
        "id": "3YEpyUrFKC7P"
      },
      "source": [
        ""
      ],
      "execution_count": null,
      "outputs": []
    }
  ]
}