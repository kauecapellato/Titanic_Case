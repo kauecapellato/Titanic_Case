{
  "nbformat": 4,
  "nbformat_minor": 0,
  "metadata": {
    "colab": {
      "name": "Titanic_Case.ipynb",
      "provenance": [],
      "authorship_tag": "ABX9TyM58/RnCbQ3Nj2sOeSF9hAY",
      "include_colab_link": true
    },
    "kernelspec": {
      "display_name": "Python 3",
      "name": "python3"
    }
  },
  "cells": [
    {
      "cell_type": "markdown",
      "metadata": {
        "id": "view-in-github",
        "colab_type": "text"
      },
      "source": [
        "<a href=\"https://colab.research.google.com/github/kauecapellato/Titanic_Case/blob/main/Titanic_Case.ipynb\" target=\"_parent\"><img src=\"https://colab.research.google.com/assets/colab-badge.svg\" alt=\"Open In Colab\"/></a>"
      ]
    },
    {
      "cell_type": "markdown",
      "metadata": {
        "id": "9l7ZegoKe_xY"
      },
      "source": [
        "#Introdução"
      ]
    },
    {
      "cell_type": "markdown",
      "metadata": {
        "id": "faMljV-nfKRS"
      },
      "source": [
        "Neste projeto analisaremos um conjunto de dados com informações de passageiros do Titanic. Os dados podem ser baixados do site do Kaggle: https://www.kaggle.com/c/titanic/data\n",
        "\n",
        "Os dados de treino contém 891 entradas e 12 features com informações de diversos passageiros do navio.\n",
        "\n",
        "Nosso objetivo é desenvolver e avaliar o desempenho de um modelo preditivo de sobreviventes ao desastre, começando pela abertura dos dados, análise descritiva das variáveis, criação de insights e a modelagem preditiva de classificação."
      ]
    },
    {
      "cell_type": "markdown",
      "metadata": {
        "id": "oa9Z0fUrgqpK"
      },
      "source": [
        "#Importando as bibliotecas para a manipulação e visualização dos dados"
      ]
    },
    {
      "cell_type": "code",
      "metadata": {
        "id": "EgMqVbXbgzib"
      },
      "source": [
        "import pandas as pd\n",
        "import seaborn as sns\n",
        "import numpy as np\n",
        "import matplotlib.pyplot as plt\n",
        "from sklearn import datasets\n",
        "from sklearn.metrics import r2_score, mean_squared_error, accuracy_score\n",
        "from sklearn.preprocessing import StandardScaler\n",
        "from sklearn.model_selection import train_test_split\n",
        "from sklearn.linear_model import LogisticRegression\n",
        "from google.colab import files"
      ],
      "execution_count": 64,
      "outputs": []
    },
    {
      "cell_type": "markdown",
      "metadata": {
        "id": "xpxJ_OLhhAyS"
      },
      "source": [
        "#Carregando os dados e criando um Dataframe"
      ]
    },
    {
      "cell_type": "markdown",
      "metadata": {
        "id": "tAwt0venLtXb"
      },
      "source": [
        "Foi fornecido pelo site do Kaggle 3 arquivos: dados de treino, teste e como o arquivo final deveria parecer. A partir disso, criaremos um dataframe com os dados de treino para melhor visualização e análise das variáveis.  \n",
        "\n",
        "A partir dos dados baixados do site em formato csv, criaremos um dataframe para facilitar a visualização e a manipulação dos dados mais para frente."
      ]
    },
    {
      "cell_type": "code",
      "metadata": {
        "id": "cPZP6IU8g7Hl"
      },
      "source": [
        "# Realizamos o upload dos arquivos necessários\n",
        "files.upload()\n"
      ],
      "execution_count": null,
      "outputs": []
    },
    {
      "cell_type": "code",
      "metadata": {
        "id": "7IXm13nljlMZ",
        "outputId": "84f828f0-e080-4a81-ec3a-91b89de07885",
        "colab": {
          "base_uri": "https://localhost:8080/"
        }
      },
      "source": [
        "# Criando o Dataframe\n",
        "treino = pd.read_csv('dados_treino.csv')\n",
        "teste = pd.read_csv('dados_teste.csv')\n",
        "\n",
        "# Formato do Dataframe\n",
        "print(\"---Treino---\")\n",
        "print(\"Linhas: \", treino.shape[0])\n",
        "print(\"Colunas: \", treino.shape[1])\n",
        "print()\n",
        "print(\"---Teste---\")\n",
        "print(\"Linhas: \", teste.shape[0])\n",
        "print(\"Colunas: \", teste.shape[1])"
      ],
      "execution_count": 3,
      "outputs": [
        {
          "output_type": "stream",
          "text": [
            "---Treino---\n",
            "Linhas:  891\n",
            "Colunas:  12\n",
            "\n",
            "---Teste---\n",
            "Linhas:  418\n",
            "Colunas:  11\n"
          ],
          "name": "stdout"
        }
      ]
    },
    {
      "cell_type": "markdown",
      "metadata": {
        "id": "HGLkJmQhwYZB"
      },
      "source": [
        "Assim, obervamos que o conjunto de dados de treino possui 891 observações e 12 variáveis, enquanto o de teste possui 418 obervações com 11 variáveis.\n",
        "Para saber quais são essas variáveis, executamos:"
      ]
    },
    {
      "cell_type": "code",
      "metadata": {
        "id": "ejNs2ZMQoL9_",
        "outputId": "09ff3650-ee55-421d-88bf-c10a73b9576c",
        "colab": {
          "base_uri": "https://localhost:8080/"
        }
      },
      "source": [
        "# Variáveis do dataset - Treino\n",
        "print(\"Variáveis - Treino: \")\n",
        "print(treino.keys())\n",
        "print()\n",
        "\n",
        "# Variáveis do dataset - Teste\n",
        "print(\"Variáveis - Teste: \")\n",
        "print(teste.keys())"
      ],
      "execution_count": 4,
      "outputs": [
        {
          "output_type": "stream",
          "text": [
            "Variáveis - Treino: \n",
            "Index(['PassengerId', 'Survived', 'Pclass', 'Name', 'Sex', 'Age', 'SibSp',\n",
            "       'Parch', 'Ticket', 'Fare', 'Cabin', 'Embarked'],\n",
            "      dtype='object')\n",
            "\n",
            "Variáveis - Teste: \n",
            "Index(['PassengerId', 'Pclass', 'Name', 'Sex', 'Age', 'SibSp', 'Parch',\n",
            "       'Ticket', 'Fare', 'Cabin', 'Embarked'],\n",
            "      dtype='object')\n"
          ],
          "name": "stdout"
        }
      ]
    },
    {
      "cell_type": "markdown",
      "metadata": {
        "id": "c9JHMYwXbxKT"
      },
      "source": [
        "Abaixo explicamos melhor o que cada variável significa."
      ]
    },
    {
      "cell_type": "markdown",
      "metadata": {
        "id": "sT7c78qWpCuB"
      },
      "source": [
        "##Informações sobre as variáveis\n",
        "\n",
        "1.   **Número de casos:** 891\n",
        "\n",
        "\n",
        "2.   **Variáveis (12 atributos):**\n",
        "\n",
        "* PassengerId - Identificação do passageiro\n",
        "* Survived - Variável dicotômica: 1 - Sobreviveu e 0 - Não sobreviveu\n",
        "* Pclass - Classe no ticket do passageiro\n",
        "* Name - Nome do passageiro\n",
        "* Sex - Sexo\n",
        "* Age - Idade em anos do passageiro\n",
        "* SibSp - Número de irmãos abordo\n",
        "* Parch - Número de pais abordo\n",
        "* Ticket - Número do ticket\n",
        "* Fare - Taxa da passagem\n",
        "* Cabin -Número da cabine\n",
        "* Embarked - Local de embarque: C = Cherbourg, Q = Queenstown, S = Southampton\n",
        "\n",
        "\n",
        "#####**Algumas notas sobre as variáveis:**\n",
        "\n",
        "**pclass:** Status Socio-Econômico (SSE)\n",
        "\n",
        "1ª = Classe alta\n",
        "\n",
        "2ª = Classe Média\n",
        "\n",
        "3ª = Classe baixa\n",
        "\n",
        "\n",
        "**age:** A idade é fracionária caso seja menor que 1. Se for estimada, então será da forma xx.5\n",
        "\n",
        "**sibsp:** O Dataset define as relações familiares da seguinte forma:\n",
        "\n",
        "Irmãos = irmão, irmã, meio-irmão, meia-irmã\n",
        "\n",
        "Cônjugues = marido, esposa (noivas e noivos foram ignorados)\n",
        "\n",
        "**parch:** O Dataset define as relações familiares da seguinte forma:\n",
        "\n",
        "Pais = mãe, pai\n",
        "\n",
        "Crianças = filha, filho, enteada, enteado\n",
        "\n",
        "Algumas crianças apenas estavam acompanhadas da babá, então parch=0 para elas."
      ]
    },
    {
      "cell_type": "markdown",
      "metadata": {
        "id": "JRRHmTB1uhgX"
      },
      "source": [
        "#Análise Exploratória dos Dados"
      ]
    },
    {
      "cell_type": "markdown",
      "metadata": {
        "id": "XaC9qaruvQPY"
      },
      "source": [
        "Para a criação de um modelo, é fundamental conhecer bem as variáveis presentes no Dataset. Nessa seção, faremos uma obervação dos dados e uma breve análise de possíveis variáveis correlacionadas. "
      ]
    },
    {
      "cell_type": "code",
      "metadata": {
        "id": "YjWlg6iyumj0",
        "outputId": "811f9273-069e-43ad-d505-e2d7c03277d2",
        "colab": {
          "base_uri": "https://localhost:8080/",
          "height": 491
        }
      },
      "source": [
        "# Primeiras 15 linhas do Dataframe\n",
        "treino.head(15)"
      ],
      "execution_count": 5,
      "outputs": [
        {
          "output_type": "execute_result",
          "data": {
            "text/html": [
              "<div>\n",
              "<style scoped>\n",
              "    .dataframe tbody tr th:only-of-type {\n",
              "        vertical-align: middle;\n",
              "    }\n",
              "\n",
              "    .dataframe tbody tr th {\n",
              "        vertical-align: top;\n",
              "    }\n",
              "\n",
              "    .dataframe thead th {\n",
              "        text-align: right;\n",
              "    }\n",
              "</style>\n",
              "<table border=\"1\" class=\"dataframe\">\n",
              "  <thead>\n",
              "    <tr style=\"text-align: right;\">\n",
              "      <th></th>\n",
              "      <th>PassengerId</th>\n",
              "      <th>Survived</th>\n",
              "      <th>Pclass</th>\n",
              "      <th>Name</th>\n",
              "      <th>Sex</th>\n",
              "      <th>Age</th>\n",
              "      <th>SibSp</th>\n",
              "      <th>Parch</th>\n",
              "      <th>Ticket</th>\n",
              "      <th>Fare</th>\n",
              "      <th>Cabin</th>\n",
              "      <th>Embarked</th>\n",
              "    </tr>\n",
              "  </thead>\n",
              "  <tbody>\n",
              "    <tr>\n",
              "      <th>0</th>\n",
              "      <td>1</td>\n",
              "      <td>0</td>\n",
              "      <td>3</td>\n",
              "      <td>Braund, Mr. Owen Harris</td>\n",
              "      <td>male</td>\n",
              "      <td>22.0</td>\n",
              "      <td>1</td>\n",
              "      <td>0</td>\n",
              "      <td>A/5 21171</td>\n",
              "      <td>7.2500</td>\n",
              "      <td>NaN</td>\n",
              "      <td>S</td>\n",
              "    </tr>\n",
              "    <tr>\n",
              "      <th>1</th>\n",
              "      <td>2</td>\n",
              "      <td>1</td>\n",
              "      <td>1</td>\n",
              "      <td>Cumings, Mrs. John Bradley (Florence Briggs Th...</td>\n",
              "      <td>female</td>\n",
              "      <td>38.0</td>\n",
              "      <td>1</td>\n",
              "      <td>0</td>\n",
              "      <td>PC 17599</td>\n",
              "      <td>71.2833</td>\n",
              "      <td>C85</td>\n",
              "      <td>C</td>\n",
              "    </tr>\n",
              "    <tr>\n",
              "      <th>2</th>\n",
              "      <td>3</td>\n",
              "      <td>1</td>\n",
              "      <td>3</td>\n",
              "      <td>Heikkinen, Miss. Laina</td>\n",
              "      <td>female</td>\n",
              "      <td>26.0</td>\n",
              "      <td>0</td>\n",
              "      <td>0</td>\n",
              "      <td>STON/O2. 3101282</td>\n",
              "      <td>7.9250</td>\n",
              "      <td>NaN</td>\n",
              "      <td>S</td>\n",
              "    </tr>\n",
              "    <tr>\n",
              "      <th>3</th>\n",
              "      <td>4</td>\n",
              "      <td>1</td>\n",
              "      <td>1</td>\n",
              "      <td>Futrelle, Mrs. Jacques Heath (Lily May Peel)</td>\n",
              "      <td>female</td>\n",
              "      <td>35.0</td>\n",
              "      <td>1</td>\n",
              "      <td>0</td>\n",
              "      <td>113803</td>\n",
              "      <td>53.1000</td>\n",
              "      <td>C123</td>\n",
              "      <td>S</td>\n",
              "    </tr>\n",
              "    <tr>\n",
              "      <th>4</th>\n",
              "      <td>5</td>\n",
              "      <td>0</td>\n",
              "      <td>3</td>\n",
              "      <td>Allen, Mr. William Henry</td>\n",
              "      <td>male</td>\n",
              "      <td>35.0</td>\n",
              "      <td>0</td>\n",
              "      <td>0</td>\n",
              "      <td>373450</td>\n",
              "      <td>8.0500</td>\n",
              "      <td>NaN</td>\n",
              "      <td>S</td>\n",
              "    </tr>\n",
              "    <tr>\n",
              "      <th>5</th>\n",
              "      <td>6</td>\n",
              "      <td>0</td>\n",
              "      <td>3</td>\n",
              "      <td>Moran, Mr. James</td>\n",
              "      <td>male</td>\n",
              "      <td>NaN</td>\n",
              "      <td>0</td>\n",
              "      <td>0</td>\n",
              "      <td>330877</td>\n",
              "      <td>8.4583</td>\n",
              "      <td>NaN</td>\n",
              "      <td>Q</td>\n",
              "    </tr>\n",
              "    <tr>\n",
              "      <th>6</th>\n",
              "      <td>7</td>\n",
              "      <td>0</td>\n",
              "      <td>1</td>\n",
              "      <td>McCarthy, Mr. Timothy J</td>\n",
              "      <td>male</td>\n",
              "      <td>54.0</td>\n",
              "      <td>0</td>\n",
              "      <td>0</td>\n",
              "      <td>17463</td>\n",
              "      <td>51.8625</td>\n",
              "      <td>E46</td>\n",
              "      <td>S</td>\n",
              "    </tr>\n",
              "    <tr>\n",
              "      <th>7</th>\n",
              "      <td>8</td>\n",
              "      <td>0</td>\n",
              "      <td>3</td>\n",
              "      <td>Palsson, Master. Gosta Leonard</td>\n",
              "      <td>male</td>\n",
              "      <td>2.0</td>\n",
              "      <td>3</td>\n",
              "      <td>1</td>\n",
              "      <td>349909</td>\n",
              "      <td>21.0750</td>\n",
              "      <td>NaN</td>\n",
              "      <td>S</td>\n",
              "    </tr>\n",
              "    <tr>\n",
              "      <th>8</th>\n",
              "      <td>9</td>\n",
              "      <td>1</td>\n",
              "      <td>3</td>\n",
              "      <td>Johnson, Mrs. Oscar W (Elisabeth Vilhelmina Berg)</td>\n",
              "      <td>female</td>\n",
              "      <td>27.0</td>\n",
              "      <td>0</td>\n",
              "      <td>2</td>\n",
              "      <td>347742</td>\n",
              "      <td>11.1333</td>\n",
              "      <td>NaN</td>\n",
              "      <td>S</td>\n",
              "    </tr>\n",
              "    <tr>\n",
              "      <th>9</th>\n",
              "      <td>10</td>\n",
              "      <td>1</td>\n",
              "      <td>2</td>\n",
              "      <td>Nasser, Mrs. Nicholas (Adele Achem)</td>\n",
              "      <td>female</td>\n",
              "      <td>14.0</td>\n",
              "      <td>1</td>\n",
              "      <td>0</td>\n",
              "      <td>237736</td>\n",
              "      <td>30.0708</td>\n",
              "      <td>NaN</td>\n",
              "      <td>C</td>\n",
              "    </tr>\n",
              "    <tr>\n",
              "      <th>10</th>\n",
              "      <td>11</td>\n",
              "      <td>1</td>\n",
              "      <td>3</td>\n",
              "      <td>Sandstrom, Miss. Marguerite Rut</td>\n",
              "      <td>female</td>\n",
              "      <td>4.0</td>\n",
              "      <td>1</td>\n",
              "      <td>1</td>\n",
              "      <td>PP 9549</td>\n",
              "      <td>16.7000</td>\n",
              "      <td>G6</td>\n",
              "      <td>S</td>\n",
              "    </tr>\n",
              "    <tr>\n",
              "      <th>11</th>\n",
              "      <td>12</td>\n",
              "      <td>1</td>\n",
              "      <td>1</td>\n",
              "      <td>Bonnell, Miss. Elizabeth</td>\n",
              "      <td>female</td>\n",
              "      <td>58.0</td>\n",
              "      <td>0</td>\n",
              "      <td>0</td>\n",
              "      <td>113783</td>\n",
              "      <td>26.5500</td>\n",
              "      <td>C103</td>\n",
              "      <td>S</td>\n",
              "    </tr>\n",
              "    <tr>\n",
              "      <th>12</th>\n",
              "      <td>13</td>\n",
              "      <td>0</td>\n",
              "      <td>3</td>\n",
              "      <td>Saundercock, Mr. William Henry</td>\n",
              "      <td>male</td>\n",
              "      <td>20.0</td>\n",
              "      <td>0</td>\n",
              "      <td>0</td>\n",
              "      <td>A/5. 2151</td>\n",
              "      <td>8.0500</td>\n",
              "      <td>NaN</td>\n",
              "      <td>S</td>\n",
              "    </tr>\n",
              "    <tr>\n",
              "      <th>13</th>\n",
              "      <td>14</td>\n",
              "      <td>0</td>\n",
              "      <td>3</td>\n",
              "      <td>Andersson, Mr. Anders Johan</td>\n",
              "      <td>male</td>\n",
              "      <td>39.0</td>\n",
              "      <td>1</td>\n",
              "      <td>5</td>\n",
              "      <td>347082</td>\n",
              "      <td>31.2750</td>\n",
              "      <td>NaN</td>\n",
              "      <td>S</td>\n",
              "    </tr>\n",
              "    <tr>\n",
              "      <th>14</th>\n",
              "      <td>15</td>\n",
              "      <td>0</td>\n",
              "      <td>3</td>\n",
              "      <td>Vestrom, Miss. Hulda Amanda Adolfina</td>\n",
              "      <td>female</td>\n",
              "      <td>14.0</td>\n",
              "      <td>0</td>\n",
              "      <td>0</td>\n",
              "      <td>350406</td>\n",
              "      <td>7.8542</td>\n",
              "      <td>NaN</td>\n",
              "      <td>S</td>\n",
              "    </tr>\n",
              "  </tbody>\n",
              "</table>\n",
              "</div>"
            ],
            "text/plain": [
              "    PassengerId  Survived  Pclass  ...     Fare Cabin  Embarked\n",
              "0             1         0       3  ...   7.2500   NaN         S\n",
              "1             2         1       1  ...  71.2833   C85         C\n",
              "2             3         1       3  ...   7.9250   NaN         S\n",
              "3             4         1       1  ...  53.1000  C123         S\n",
              "4             5         0       3  ...   8.0500   NaN         S\n",
              "5             6         0       3  ...   8.4583   NaN         Q\n",
              "6             7         0       1  ...  51.8625   E46         S\n",
              "7             8         0       3  ...  21.0750   NaN         S\n",
              "8             9         1       3  ...  11.1333   NaN         S\n",
              "9            10         1       2  ...  30.0708   NaN         C\n",
              "10           11         1       3  ...  16.7000    G6         S\n",
              "11           12         1       1  ...  26.5500  C103         S\n",
              "12           13         0       3  ...   8.0500   NaN         S\n",
              "13           14         0       3  ...  31.2750   NaN         S\n",
              "14           15         0       3  ...   7.8542   NaN         S\n",
              "\n",
              "[15 rows x 12 columns]"
            ]
          },
          "metadata": {
            "tags": []
          },
          "execution_count": 5
        }
      ]
    },
    {
      "cell_type": "markdown",
      "metadata": {
        "id": "GYOLoy5JAVSJ"
      },
      "source": [
        "Com essa primeira obervação de parte do dataset, percebe-se que as variáveis 'PassengerId', 'Survived', 'PClass', 'SiBsp' e 'Parch' assumem valores discretos, sendo confirmado nos tipos dos dados abaixo. Além disso, a variável que representa se o passageiro sobreviveu ou não ao desastre é dicotômica (assume apenas 2 valores, 0 ou 1 nesse caso), assim como a que representa o sexo do passageiro, porém é categórica.\n",
        "\n",
        "Ademais, nota-se a ausência de alguns valores (*missing values*) nas variáveis 'Age' e 'Cabin', podendo influenciar na atuação do nosso modelo.\n"
      ]
    },
    {
      "cell_type": "code",
      "metadata": {
        "id": "pYAX7w3xC4Nd",
        "outputId": "280cce31-b119-46ad-8829-f9d40ada8673",
        "colab": {
          "base_uri": "https://localhost:8080/"
        }
      },
      "source": [
        "# Tipos dos dados \n",
        "treino.dtypes"
      ],
      "execution_count": 6,
      "outputs": [
        {
          "output_type": "execute_result",
          "data": {
            "text/plain": [
              "PassengerId      int64\n",
              "Survived         int64\n",
              "Pclass           int64\n",
              "Name            object\n",
              "Sex             object\n",
              "Age            float64\n",
              "SibSp            int64\n",
              "Parch            int64\n",
              "Ticket          object\n",
              "Fare           float64\n",
              "Cabin           object\n",
              "Embarked        object\n",
              "dtype: object"
            ]
          },
          "metadata": {
            "tags": []
          },
          "execution_count": 6
        }
      ]
    },
    {
      "cell_type": "markdown",
      "metadata": {
        "id": "dPua8ce1Emcd"
      },
      "source": [
        "Para uma melhor descrição do Dataframe, utilizaremos o método *describe* do pandas."
      ]
    },
    {
      "cell_type": "code",
      "metadata": {
        "id": "42nFoVE4v8ED",
        "outputId": "046dbbf5-865d-4edf-8806-d5d7627ef14c",
        "colab": {
          "base_uri": "https://localhost:8080/",
          "height": 284
        }
      },
      "source": [
        "# Descrevendo o Dataframe\n",
        "treino.describe() "
      ],
      "execution_count": 7,
      "outputs": [
        {
          "output_type": "execute_result",
          "data": {
            "text/html": [
              "<div>\n",
              "<style scoped>\n",
              "    .dataframe tbody tr th:only-of-type {\n",
              "        vertical-align: middle;\n",
              "    }\n",
              "\n",
              "    .dataframe tbody tr th {\n",
              "        vertical-align: top;\n",
              "    }\n",
              "\n",
              "    .dataframe thead th {\n",
              "        text-align: right;\n",
              "    }\n",
              "</style>\n",
              "<table border=\"1\" class=\"dataframe\">\n",
              "  <thead>\n",
              "    <tr style=\"text-align: right;\">\n",
              "      <th></th>\n",
              "      <th>PassengerId</th>\n",
              "      <th>Survived</th>\n",
              "      <th>Pclass</th>\n",
              "      <th>Age</th>\n",
              "      <th>SibSp</th>\n",
              "      <th>Parch</th>\n",
              "      <th>Fare</th>\n",
              "    </tr>\n",
              "  </thead>\n",
              "  <tbody>\n",
              "    <tr>\n",
              "      <th>count</th>\n",
              "      <td>891.000000</td>\n",
              "      <td>891.000000</td>\n",
              "      <td>891.000000</td>\n",
              "      <td>714.000000</td>\n",
              "      <td>891.000000</td>\n",
              "      <td>891.000000</td>\n",
              "      <td>891.000000</td>\n",
              "    </tr>\n",
              "    <tr>\n",
              "      <th>mean</th>\n",
              "      <td>446.000000</td>\n",
              "      <td>0.383838</td>\n",
              "      <td>2.308642</td>\n",
              "      <td>29.699118</td>\n",
              "      <td>0.523008</td>\n",
              "      <td>0.381594</td>\n",
              "      <td>32.204208</td>\n",
              "    </tr>\n",
              "    <tr>\n",
              "      <th>std</th>\n",
              "      <td>257.353842</td>\n",
              "      <td>0.486592</td>\n",
              "      <td>0.836071</td>\n",
              "      <td>14.526497</td>\n",
              "      <td>1.102743</td>\n",
              "      <td>0.806057</td>\n",
              "      <td>49.693429</td>\n",
              "    </tr>\n",
              "    <tr>\n",
              "      <th>min</th>\n",
              "      <td>1.000000</td>\n",
              "      <td>0.000000</td>\n",
              "      <td>1.000000</td>\n",
              "      <td>0.420000</td>\n",
              "      <td>0.000000</td>\n",
              "      <td>0.000000</td>\n",
              "      <td>0.000000</td>\n",
              "    </tr>\n",
              "    <tr>\n",
              "      <th>25%</th>\n",
              "      <td>223.500000</td>\n",
              "      <td>0.000000</td>\n",
              "      <td>2.000000</td>\n",
              "      <td>20.125000</td>\n",
              "      <td>0.000000</td>\n",
              "      <td>0.000000</td>\n",
              "      <td>7.910400</td>\n",
              "    </tr>\n",
              "    <tr>\n",
              "      <th>50%</th>\n",
              "      <td>446.000000</td>\n",
              "      <td>0.000000</td>\n",
              "      <td>3.000000</td>\n",
              "      <td>28.000000</td>\n",
              "      <td>0.000000</td>\n",
              "      <td>0.000000</td>\n",
              "      <td>14.454200</td>\n",
              "    </tr>\n",
              "    <tr>\n",
              "      <th>75%</th>\n",
              "      <td>668.500000</td>\n",
              "      <td>1.000000</td>\n",
              "      <td>3.000000</td>\n",
              "      <td>38.000000</td>\n",
              "      <td>1.000000</td>\n",
              "      <td>0.000000</td>\n",
              "      <td>31.000000</td>\n",
              "    </tr>\n",
              "    <tr>\n",
              "      <th>max</th>\n",
              "      <td>891.000000</td>\n",
              "      <td>1.000000</td>\n",
              "      <td>3.000000</td>\n",
              "      <td>80.000000</td>\n",
              "      <td>8.000000</td>\n",
              "      <td>6.000000</td>\n",
              "      <td>512.329200</td>\n",
              "    </tr>\n",
              "  </tbody>\n",
              "</table>\n",
              "</div>"
            ],
            "text/plain": [
              "       PassengerId    Survived      Pclass  ...       SibSp       Parch        Fare\n",
              "count   891.000000  891.000000  891.000000  ...  891.000000  891.000000  891.000000\n",
              "mean    446.000000    0.383838    2.308642  ...    0.523008    0.381594   32.204208\n",
              "std     257.353842    0.486592    0.836071  ...    1.102743    0.806057   49.693429\n",
              "min       1.000000    0.000000    1.000000  ...    0.000000    0.000000    0.000000\n",
              "25%     223.500000    0.000000    2.000000  ...    0.000000    0.000000    7.910400\n",
              "50%     446.000000    0.000000    3.000000  ...    0.000000    0.000000   14.454200\n",
              "75%     668.500000    1.000000    3.000000  ...    1.000000    0.000000   31.000000\n",
              "max     891.000000    1.000000    3.000000  ...    8.000000    6.000000  512.329200\n",
              "\n",
              "[8 rows x 7 columns]"
            ]
          },
          "metadata": {
            "tags": []
          },
          "execution_count": 7
        }
      ]
    },
    {
      "cell_type": "markdown",
      "metadata": {
        "id": "AotQT8iIFC0F"
      },
      "source": [
        "A partir da descrição acima, podemos ter uma ideia sobre as distribuições das variáveis.\n",
        "\n",
        "Primeiramente, vale-se obervar a quantidade de cada variável. Como foi dito acima, percebeu-se a ausência de alguns valores na variável 'Age', o que confirma-se dado que o número de suas observações foi o menor.\n",
        "\n",
        "Quanto aos percentis, na variável 'Age', por exemplo, podemos ver que cerca de 75% dos passageiros têm até 38 anos, ou seja, muitas pessoas jovens estavam no navio. Além disso, para essa mesma variável, a média se aproxima da mediana(percentil 50), dando alguma ideia de maior concentração dos dados em torno da média. Para a variável 'Fare', o valor máximo é muito superior ao percentil 75 (ou 3° quartil), fornecendo uma ideia da presença de *outliers* (valores discrepantes)."
      ]
    },
    {
      "cell_type": "markdown",
      "metadata": {
        "id": "LoY0vbpNLLvr"
      },
      "source": [
        "##Visualização das variáveis"
      ]
    },
    {
      "cell_type": "markdown",
      "metadata": {
        "id": "2ksT8ZFnMYm5"
      },
      "source": [
        "Para a visualização das variáveis, ou seja, a criação de gráficos, utilizaremos as bibliotecas matplotlib e seaborn. Nosso objetivo é conhecer o comportamento de tais variáveis junto com suas distribuições. Comecemos olhando a matriz de correlação das *features* para depois analisar algumas dessas variáveis."
      ]
    },
    {
      "cell_type": "code",
      "metadata": {
        "id": "Vu441AIeipJP",
        "outputId": "3cf652ba-56b0-4d03-d879-6cb4d52d46d9",
        "colab": {
          "base_uri": "https://localhost:8080/",
          "height": 336
        }
      },
      "source": [
        "# Matriz de correlação - heatmap\n",
        "matriz_cor = treino.corr().round(2)\n",
        "plt.figure(figsize=(20,5))\n",
        "sns.heatmap(matriz_cor, annot = True, cmap = 'RdYlBu_r')\n",
        "plt.title(\"Matriz de Correlação para as features\")\n",
        "plt.show()"
      ],
      "execution_count": 8,
      "outputs": [
        {
          "output_type": "display_data",
          "data": {
            "image/png": "[encoded data removed]",
            "text/plain": [
              "<Figure size 1440x360 with 2 Axes>"
            ]
          },
          "metadata": {
            "tags": [],
            "needs_background": "light"
          }
        }
      ]
    },
    {
      "cell_type": "markdown",
      "metadata": {
        "id": "AnzZyBa_k6d3"
      },
      "source": [
        "Com a matriz acima podemos destacar algumas features, tais como 'Fare', 'Age', 'Pclass', 'Parch', 'Survived' e 'SibSp', que apresentaram uma correlação considerável. Veremos o comportamento delas e relacionadas entre si abaixo."
      ]
    },
    {
      "cell_type": "markdown",
      "metadata": {
        "id": "yuGLjqqg3_VS"
      },
      "source": [
        "##Variáveis categóricas"
      ]
    },
    {
      "cell_type": "markdown",
      "metadata": {
        "id": "5n_flptz1xW_"
      },
      "source": [
        "### Sobreviventes ('Survived'):"
      ]
    },
    {
      "cell_type": "markdown",
      "metadata": {
        "id": "YTKpRvQrS5QN"
      },
      "source": [
        "A primeira variável a ser analisada é a 'Survived', a variável *dummy*, e que representa a quantidade de sobreviventes ao desastre do Titanic. Por ser uma variável dicotômica (assume apenas 2 valores), o *dataset* definiu como 0 quem não sobreviveu e 1 quem sobreviveu ao desastre."
      ]
    },
    {
      "cell_type": "code",
      "metadata": {
        "id": "7ZNi8NRVK4rA",
        "outputId": "530637cc-006b-412b-811a-4f0235651d22",
        "colab": {
          "base_uri": "https://localhost:8080/",
          "height": 0
        }
      },
      "source": [
        "# Quantidade de sobreviventes ao desastre\n",
        "plt.figure(figsize = (7,5))\n",
        "sns.countplot(x = 'Survived', hue = 'Survived', data = treino, dodge = False)\n",
        "plt.title(\"Número de sobreviventes ao desatre\")\n",
        "plt.legend(['Não sobreviveu', 'Sobreviveu'])\n",
        "plt.xlabel(\"Sobreviventes\")\n",
        "plt.ylabel(\"Quantidade\")\n",
        "plt.show()"
      ],
      "execution_count": 9,
      "outputs": [
        {
          "output_type": "display_data",
          "data": {
            "image/png": "[encoded data removed]",
            "text/plain": [
              "<Figure size 504x360 with 1 Axes>"
            ]
          },
          "metadata": {
            "tags": [],
            "needs_background": "light"
          }
        }
      ]
    },
    {
      "cell_type": "markdown",
      "metadata": {
        "id": "KShWEdoKW7PL"
      },
      "source": [
        "E a quantidade exata em total e frequência:"
      ]
    },
    {
      "cell_type": "code",
      "metadata": {
        "id": "fil-up2BNj8K",
        "outputId": "e58426c9-75d4-4081-fd41-9afdac30747e",
        "colab": {
          "base_uri": "https://localhost:8080/"
        }
      },
      "source": [
        "# A quantidade exata de sobreviventes:\n",
        "print(\"Quantidade de sobreviventes\\n\")\n",
        "print(\"Quantidade\")\n",
        "print(treino['Survived'].value_counts())\n",
        "print()\n",
        "print(\"Frequência\")\n",
        "# A quantidade de sobreviventes em frequência:\n",
        "print(treino[\"Survived\"].value_counts(normalize = True))"
      ],
      "execution_count": 10,
      "outputs": [
        {
          "output_type": "stream",
          "text": [
            "Quantidade de sobreviventes\n",
            "\n",
            "Quantidade\n",
            "0    549\n",
            "1    342\n",
            "Name: Survived, dtype: int64\n",
            "\n",
            "Frequência\n",
            "0    0.616162\n",
            "1    0.383838\n",
            "Name: Survived, dtype: float64\n"
          ],
          "name": "stdout"
        }
      ]
    },
    {
      "cell_type": "markdown",
      "metadata": {
        "id": "myKBhV777N6s"
      },
      "source": [
        "Assim, temos que para o nosso conjunto de dados inteiro, aproximadamente 61,61% dos passageiros não sobreviveram e 38,39% sobreviveram ao desastre"
      ]
    },
    {
      "cell_type": "markdown",
      "metadata": {
        "id": "Z6YoSJsnn13P"
      },
      "source": [
        "###Sexo ('Sex')\n"
      ]
    },
    {
      "cell_type": "markdown",
      "metadata": {
        "id": "yhz7D05IoDKm"
      },
      "source": [
        "Vejamos como é a distribuição dos sexos dos passageiros. "
      ]
    },
    {
      "cell_type": "code",
      "metadata": {
        "id": "LxCV4DuPoB63",
        "outputId": "2523126e-3b7a-4cfb-eb54-116d92ee673b",
        "colab": {
          "base_uri": "https://localhost:8080/",
          "height": 0
        }
      },
      "source": [
        "# Countplot de homens e mulheres presentes\n",
        "plt.figure(figsize = (7,5))\n",
        "sns.countplot(x = 'Sex', hue = 'Sex', data = treino, dodge = False)\n",
        "plt.title(\"Distribuição dos sexos dos passageiros\", size = 15)\n",
        "plt.legend(['Masculino', 'Feminino'], prop={'size': 13})\n",
        "plt.xlabel(\"Sexos\", size = 13)\n",
        "plt.ylabel(\"Quantidade\", size = 13)\n",
        "plt.show()"
      ],
      "execution_count": 11,
      "outputs": [
        {
          "output_type": "display_data",
          "data": {
            "image/png": "[encoded data removed]",
            "text/plain": [
              "<Figure size 504x360 with 1 Axes>"
            ]
          },
          "metadata": {
            "tags": [],
            "needs_background": "light"
          }
        }
      ]
    },
    {
      "cell_type": "markdown",
      "metadata": {
        "id": "Tga0yXd1pes9"
      },
      "source": [
        "E a quantidade exata e relativa:"
      ]
    },
    {
      "cell_type": "code",
      "metadata": {
        "id": "HHm9WtcTpjNI",
        "outputId": "9fbc3647-3125-4b56-a580-84b1d15aece1",
        "colab": {
          "base_uri": "https://localhost:8080/"
        }
      },
      "source": [
        "# A quantidade exata de homens e mulheres:\n",
        "print(\"Quantidade de homens e mulheres\\n\")\n",
        "print(\"Quantidade\")\n",
        "print(treino['Sex'].value_counts())\n",
        "print()\n",
        "print(\"Frequência\")\n",
        "# Frequência:\n",
        "print(treino[\"Sex\"].value_counts(normalize = True))"
      ],
      "execution_count": 12,
      "outputs": [
        {
          "output_type": "stream",
          "text": [
            "Quantidade de homens e mulheres\n",
            "\n",
            "Quantidade\n",
            "male      577\n",
            "female    314\n",
            "Name: Sex, dtype: int64\n",
            "\n",
            "Frequência\n",
            "male      0.647587\n",
            "female    0.352413\n",
            "Name: Sex, dtype: float64\n"
          ],
          "name": "stdout"
        }
      ]
    },
    {
      "cell_type": "markdown",
      "metadata": {
        "id": "Qfrk01pmp_Fh"
      },
      "source": [
        "Assim podemos obervar que mais homens estavam presentes na embarcação naquele dia."
      ]
    },
    {
      "cell_type": "markdown",
      "metadata": {
        "id": "kJBSUvV-qd_D"
      },
      "source": [
        "###Classe socio-econômica ('Pclass')"
      ]
    },
    {
      "cell_type": "markdown",
      "metadata": {
        "id": "BYVv3KZgq6vR"
      },
      "source": [
        "Olharemos agora para a variável 'Pclass' que representa a classe social do passageiro, sendo que 1 representa classe alta, 2 classe média e 3 classe baixa."
      ]
    },
    {
      "cell_type": "code",
      "metadata": {
        "id": "f049J2ZyqkYE",
        "outputId": "6417f7ba-b18b-4d13-9330-2a55f40f7b91",
        "colab": {
          "base_uri": "https://localhost:8080/",
          "height": 0
        }
      },
      "source": [
        "# Countplot\n",
        "plt.figure(figsize = (8,5))\n",
        "sns.countplot(x = 'Pclass', hue = 'Pclass', data = treino, dodge = False)\n",
        "plt.title(\"Classe socio-econômica dos passageiros\", size = 15)\n",
        "plt.ylabel(\"Quantidade\")\n",
        "plt.legend(['Alta', 'Média', 'Baixa'], prop={'size': 13})\n",
        "plt.show()"
      ],
      "execution_count": 13,
      "outputs": [
        {
          "output_type": "display_data",
          "data": {
            "image/png": "[encoded data removed]",
            "text/plain": [
              "<Figure size 576x360 with 1 Axes>"
            ]
          },
          "metadata": {
            "tags": [],
            "needs_background": "light"
          }
        }
      ]
    },
    {
      "cell_type": "markdown",
      "metadata": {
        "id": "xG6SUVELs89n"
      },
      "source": [
        "E em valores totais e relativos:"
      ]
    },
    {
      "cell_type": "code",
      "metadata": {
        "id": "DAxdVxkPtD3x",
        "outputId": "4764cd03-9da8-498a-fefa-19ee8aa55389",
        "colab": {
          "base_uri": "https://localhost:8080/"
        }
      },
      "source": [
        "# A quantidade exata de cada classe:\n",
        "print(\"Quantidade de passageiros por classe\\n\")\n",
        "print(\"Quantidade\")\n",
        "print(treino['Pclass'].value_counts())\n",
        "print()\n",
        "print(\"Frequência\")\n",
        "# Frequência:\n",
        "print(treino[\"Pclass\"].value_counts(normalize = True))"
      ],
      "execution_count": 14,
      "outputs": [
        {
          "output_type": "stream",
          "text": [
            "Quantidade de passageiros por classe\n",
            "\n",
            "Quantidade\n",
            "3    491\n",
            "1    216\n",
            "2    184\n",
            "Name: Pclass, dtype: int64\n",
            "\n",
            "Frequência\n",
            "3    0.551066\n",
            "1    0.242424\n",
            "2    0.206510\n",
            "Name: Pclass, dtype: float64\n"
          ],
          "name": "stdout"
        }
      ]
    },
    {
      "cell_type": "markdown",
      "metadata": {
        "id": "770DeU01tN7y"
      },
      "source": [
        "Com os números acima podemos perceber que a maior parte das pessoas a bordo eram de classe baixa, seguidos pelos passageiros de classe média e por úlyimo os de classe alta.\n",
        "\n",
        "Agora analisaremos como essas variáveis se relacionam com as outras. "
      ]
    },
    {
      "cell_type": "markdown",
      "metadata": {
        "id": "-YjDndJQ2Bdq"
      },
      "source": [
        "###Sobreviventes ('Survived')  x  Sexo ('Sex'):"
      ]
    },
    {
      "cell_type": "markdown",
      "metadata": {
        "id": "OY2LBrE_XfAr"
      },
      "source": [
        "Ainda sobre essas variáveis e relacionando com variáveis categóricas como sexo e a classe social do passageiro, podemos ter informações mais específicas sobre os sobreviventes do desastre.\n",
        "\n",
        "Primeiramente, olhemos a relação das variáveis 'Survived' e 'Sex'."
      ]
    },
    {
      "cell_type": "code",
      "metadata": {
        "id": "0Ow5gDvNXcHC",
        "outputId": "b04406f1-c418-40d4-faf1-daea1e988f81",
        "colab": {
          "base_uri": "https://localhost:8080/",
          "height": 0
        }
      },
      "source": [
        "sns.catplot(x = \"Sex\", hue=\"Sex\", col = 'Survived', data = treino, kind = \"count\", dodge = False, height=5, aspect=1)\n",
        "plt.legend(['Homens', 'Mulheres'], prop={'size': 13})\n",
        "plt.show()"
      ],
      "execution_count": 15,
      "outputs": [
        {
          "output_type": "display_data",
          "data": {
            "image/png": "[encoded data removed]",
            "text/plain": [
              "<Figure size 720x360 with 2 Axes>"
            ]
          },
          "metadata": {
            "tags": [],
            "needs_background": "light"
          }
        }
      ]
    },
    {
      "cell_type": "markdown",
      "metadata": {
        "id": "ftr8_dt1bTYY"
      },
      "source": [
        "Obervamos claramente dessa maneira que mais homens não sobreviveram ao desastre enquanto que mais mulheres sobreviram. Para saber com exatidão, criaremos um Dataframe com a quantidade de sobreviventes por sexo:"
      ]
    },
    {
      "cell_type": "code",
      "metadata": {
        "id": "jpLGBDnKa7-r",
        "outputId": "04f6057a-e2a9-42ba-b4f9-41c04cf452d4",
        "colab": {
          "base_uri": "https://localhost:8080/",
          "height": 0
        }
      },
      "source": [
        "# Determinando por sexo e se sobreviveu ou não\n",
        "homens_n = len(treino[(treino.Sex == 'male') & (treino.Survived == 0)])\n",
        "mulheres_n = len(treino[(treino.Sex == 'female') & (treino.Survived == 0)])\n",
        "homens_s = len(treino[(treino.Sex == 'male') & (treino.Survived == 1)])\n",
        "mulheres_s = len(treino[(treino.Sex == 'female') & (treino.Survived == 1)])\n",
        "\n",
        "# Criando um dicionário com os valores acima\n",
        "dados = {'Homem': [homens_n, homens_s, (homens_n + homens_s)],\n",
        "        'Mulher': [mulheres_n, mulheres_s, (mulheres_n + mulheres_s)],\n",
        "         'Total': [(homens_n + mulheres_n), (homens_s + mulheres_s), len(treino.Survived)]}\n",
        "\n",
        "# Criando um Dataframe com o dicionário\n",
        "sobreviventes = pd.DataFrame(dados, columns = ['Homem', 'Mulher', 'Total'], index = ['Não sobreviveu', 'Sobreviveu', 'Total'])  \n",
        "sobreviventes"
      ],
      "execution_count": 16,
      "outputs": [
        {
          "output_type": "execute_result",
          "data": {
            "text/html": [
              "<div>\n",
              "<style scoped>\n",
              "    .dataframe tbody tr th:only-of-type {\n",
              "        vertical-align: middle;\n",
              "    }\n",
              "\n",
              "    .dataframe tbody tr th {\n",
              "        vertical-align: top;\n",
              "    }\n",
              "\n",
              "    .dataframe thead th {\n",
              "        text-align: right;\n",
              "    }\n",
              "</style>\n",
              "<table border=\"1\" class=\"dataframe\">\n",
              "  <thead>\n",
              "    <tr style=\"text-align: right;\">\n",
              "      <th></th>\n",
              "      <th>Homem</th>\n",
              "      <th>Mulher</th>\n",
              "      <th>Total</th>\n",
              "    </tr>\n",
              "  </thead>\n",
              "  <tbody>\n",
              "    <tr>\n",
              "      <th>Não sobreviveu</th>\n",
              "      <td>468</td>\n",
              "      <td>81</td>\n",
              "      <td>549</td>\n",
              "    </tr>\n",
              "    <tr>\n",
              "      <th>Sobreviveu</th>\n",
              "      <td>109</td>\n",
              "      <td>233</td>\n",
              "      <td>342</td>\n",
              "    </tr>\n",
              "    <tr>\n",
              "      <th>Total</th>\n",
              "      <td>577</td>\n",
              "      <td>314</td>\n",
              "      <td>891</td>\n",
              "    </tr>\n",
              "  </tbody>\n",
              "</table>\n",
              "</div>"
            ],
            "text/plain": [
              "                Homem  Mulher  Total\n",
              "Não sobreviveu    468      81    549\n",
              "Sobreviveu        109     233    342\n",
              "Total             577     314    891"
            ]
          },
          "metadata": {
            "tags": []
          },
          "execution_count": 16
        }
      ]
    },
    {
      "cell_type": "markdown",
      "metadata": {
        "id": "zDPOc6K-Eud8"
      },
      "source": [
        "Com o Dataframe acima podemos ter com exatidão os sobreviventes totais pelo seu sexo no conjunto de dados fornecido."
      ]
    },
    {
      "cell_type": "markdown",
      "metadata": {
        "id": "TQcg7jQu2SWe"
      },
      "source": [
        "###Sobreviventes ('Survived') x Classe social ('Pclass'):"
      ]
    },
    {
      "cell_type": "markdown",
      "metadata": {
        "id": "5lPbpURH2fLl"
      },
      "source": [
        "Agora, analisaremos as relações das variáveis 'Survived' e 'Class', para ter uma ideia dos sobreviventes e suas condições sociais."
      ]
    },
    {
      "cell_type": "code",
      "metadata": {
        "id": "3pDQizgnYgvh",
        "outputId": "2e204dc6-17c3-433c-8b43-7721a0257806",
        "colab": {
          "base_uri": "https://localhost:8080/",
          "height": 383
        }
      },
      "source": [
        "sns.catplot(x = \"Pclass\", hue=\"Pclass\", col = 'Survived', data = treino, kind = \"count\", dodge = False, height=5, aspect=1)\n",
        "plt.legend(['1 - Alta', '2 - Média', '3 - Baixa'], prop={'size': 12})\n",
        "plt.show()"
      ],
      "execution_count": 17,
      "outputs": [
        {
          "output_type": "display_data",
          "data": {
            "image/png": "[encoded data removed]",
            "text/plain": [
              "<Figure size 720x360 with 2 Axes>"
            ]
          },
          "metadata": {
            "tags": [],
            "needs_background": "light"
          }
        }
      ]
    },
    {
      "cell_type": "markdown",
      "metadata": {
        "id": "l49n1XWbKD5a"
      },
      "source": [
        "Com o gráfico de barras acima podemos observar que dos passageiros que não sobreviveram, a maioria era de um *status* social menor (classe baixa) seguidos daqueles de classe média e por fim os de classe alta, que foram os que mais sobreviveram. Abaixo podemos olhar melhor para os números daqueles que sobreviveram ou não com sua classe social."
      ]
    },
    {
      "cell_type": "code",
      "metadata": {
        "id": "rYtdPG5kLqrt",
        "outputId": "ad2cfbd4-7dc7-4662-e29b-725a62109368",
        "colab": {
          "base_uri": "https://localhost:8080/",
          "height": 136
        }
      },
      "source": [
        "# Determinando por classe social e se sobreviveu ou não\n",
        "classe_n = []\n",
        "classe_s = []\n",
        "\n",
        "# Loop pelas classes e aqueles que não sobreviveram\n",
        "for i in range(1, 4):\n",
        "  classe_n.append(len(treino[(treino.Pclass == i) & (treino.Survived == 0)]))\n",
        "\n",
        "# Loop pelas classes e aqueles que sobreviveram\n",
        "for i in range(1, 4):\n",
        "  classe_s.append(len(treino[(treino.Pclass == i) & (treino.Survived == 1)]))\n",
        "\n",
        "# Criando um dicionário com os valores acima\n",
        "dados = {'Alta': [classe_n[0], classe_s[0], (classe_s[0] + classe_n[0])],\n",
        "         'Média': [classe_n[1], classe_s[1], (classe_s[1] + classe_n[1])],\n",
        "         'Baixa': [classe_n[2], classe_s[2], (classe_s[2] + classe_n[2])],\n",
        "         'Total': [sum(classe_n), sum(classe_s), len(treino.Pclass)]}\n",
        "\n",
        "# Criando um Dataframe com o dicionário\n",
        "sobreviventes_classes = pd.DataFrame(dados, columns = ['Alta', 'Média', 'Baixa', 'Total'], index = ['Não sobreviveu', 'Sobreviveu', 'Total'])  \n",
        "sobreviventes_classes"
      ],
      "execution_count": 18,
      "outputs": [
        {
          "output_type": "execute_result",
          "data": {
            "text/html": [
              "<div>\n",
              "<style scoped>\n",
              "    .dataframe tbody tr th:only-of-type {\n",
              "        vertical-align: middle;\n",
              "    }\n",
              "\n",
              "    .dataframe tbody tr th {\n",
              "        vertical-align: top;\n",
              "    }\n",
              "\n",
              "    .dataframe thead th {\n",
              "        text-align: right;\n",
              "    }\n",
              "</style>\n",
              "<table border=\"1\" class=\"dataframe\">\n",
              "  <thead>\n",
              "    <tr style=\"text-align: right;\">\n",
              "      <th></th>\n",
              "      <th>Alta</th>\n",
              "      <th>Média</th>\n",
              "      <th>Baixa</th>\n",
              "      <th>Total</th>\n",
              "    </tr>\n",
              "  </thead>\n",
              "  <tbody>\n",
              "    <tr>\n",
              "      <th>Não sobreviveu</th>\n",
              "      <td>80</td>\n",
              "      <td>97</td>\n",
              "      <td>372</td>\n",
              "      <td>549</td>\n",
              "    </tr>\n",
              "    <tr>\n",
              "      <th>Sobreviveu</th>\n",
              "      <td>136</td>\n",
              "      <td>87</td>\n",
              "      <td>119</td>\n",
              "      <td>342</td>\n",
              "    </tr>\n",
              "    <tr>\n",
              "      <th>Total</th>\n",
              "      <td>216</td>\n",
              "      <td>184</td>\n",
              "      <td>491</td>\n",
              "      <td>891</td>\n",
              "    </tr>\n",
              "  </tbody>\n",
              "</table>\n",
              "</div>"
            ],
            "text/plain": [
              "                Alta  Média  Baixa  Total\n",
              "Não sobreviveu    80     97    372    549\n",
              "Sobreviveu       136     87    119    342\n",
              "Total            216    184    491    891"
            ]
          },
          "metadata": {
            "tags": []
          },
          "execution_count": 18
        }
      ]
    },
    {
      "cell_type": "markdown",
      "metadata": {
        "id": "BQafqsGr2jRR"
      },
      "source": [
        "###Classe social ('Pclass') x Sexo ('Sex'):"
      ]
    },
    {
      "cell_type": "markdown",
      "metadata": {
        "id": "SySHMoSaRKAQ"
      },
      "source": [
        "Agora, analisaremos como as classes sociais se distribuem com os sexos."
      ]
    },
    {
      "cell_type": "code",
      "metadata": {
        "id": "CB2OvpSO3cbV",
        "outputId": "3ebeabd5-b5bd-4593-c8ed-5acbc0f3d40a",
        "colab": {
          "base_uri": "https://localhost:8080/",
          "height": 0
        }
      },
      "source": [
        "sns.catplot(x = \"Sex\", hue=\"Sex\", col = 'Pclass', data = treino, kind = \"count\", dodge = False, height=5, aspect=1)\n",
        "plt.legend(['Homens', 'Mulheres'],prop={'size': 12})\n",
        "plt.show()"
      ],
      "execution_count": 19,
      "outputs": [
        {
          "output_type": "display_data",
          "data": {
            "image/png": "[encoded data removed]",
            "text/plain": [
              "<Figure size 1080x360 with 3 Axes>"
            ]
          },
          "metadata": {
            "tags": [],
            "needs_background": "light"
          }
        }
      ]
    },
    {
      "cell_type": "markdown",
      "metadata": {
        "id": "7D-L5ov8-9Iw"
      },
      "source": [
        "Oberservamos que haviam muitos passageiros de classe baixa no navio e maioria era homem. Seguidos das pessoas de classe alta e por último aqueles de classe média. Em todas as classes, a quantidade de homens é superior ao número de mulheres.\n",
        "\n",
        "Agora olhemos uma tabela com os resultados dos números exatos do *dataset*."
      ]
    },
    {
      "cell_type": "code",
      "metadata": {
        "id": "7BpF9aVI9C9w",
        "outputId": "b512d181-0bd2-4396-cd93-9748fbe53037",
        "colab": {
          "base_uri": "https://localhost:8080/",
          "height": 0
        }
      },
      "source": [
        "# Determinando por classe social e sexo\n",
        "classe_h = []\n",
        "classe_m = []\n",
        "\n",
        "# Loop pelas classes e aqueles que são homens\n",
        "for i in range(1, 4):\n",
        "  classe_h.append(len(treino[(treino.Pclass == i) & (treino.Sex == 'male')]))\n",
        "\n",
        "# Loop pelas classes e aqueles que são mulheres\n",
        "for i in range(1, 4):\n",
        "  classe_m.append(len(treino[(treino.Pclass == i) & (treino.Sex== 'female')]))\n",
        "\n",
        "# Criando um dicionário com os valores acima\n",
        "dados = {'Alta': [classe_h[0], classe_m[0], (classe_h[0] + classe_m[0])],\n",
        "         'Média': [classe_h[1], classe_m[1], (classe_h[1] + classe_m[1])],\n",
        "         'Baixa': [classe_h[2], classe_m[2], (classe_h[2] + classe_m[2])],\n",
        "         'Total': [sum(classe_h), sum(classe_m), len(treino.Pclass)]}\n",
        "\n",
        "# Criando um Dataframe com o dicionário\n",
        "classes_sex = pd.DataFrame(dados, columns = ['Alta', 'Média', 'Baixa', 'Total'], index = ['Homem', 'Mulher', 'Total'])  \n",
        "classes_sex"
      ],
      "execution_count": 20,
      "outputs": [
        {
          "output_type": "execute_result",
          "data": {
            "text/html": [
              "<div>\n",
              "<style scoped>\n",
              "    .dataframe tbody tr th:only-of-type {\n",
              "        vertical-align: middle;\n",
              "    }\n",
              "\n",
              "    .dataframe tbody tr th {\n",
              "        vertical-align: top;\n",
              "    }\n",
              "\n",
              "    .dataframe thead th {\n",
              "        text-align: right;\n",
              "    }\n",
              "</style>\n",
              "<table border=\"1\" class=\"dataframe\">\n",
              "  <thead>\n",
              "    <tr style=\"text-align: right;\">\n",
              "      <th></th>\n",
              "      <th>Alta</th>\n",
              "      <th>Média</th>\n",
              "      <th>Baixa</th>\n",
              "      <th>Total</th>\n",
              "    </tr>\n",
              "  </thead>\n",
              "  <tbody>\n",
              "    <tr>\n",
              "      <th>Homem</th>\n",
              "      <td>122</td>\n",
              "      <td>108</td>\n",
              "      <td>347</td>\n",
              "      <td>577</td>\n",
              "    </tr>\n",
              "    <tr>\n",
              "      <th>Mulher</th>\n",
              "      <td>94</td>\n",
              "      <td>76</td>\n",
              "      <td>144</td>\n",
              "      <td>314</td>\n",
              "    </tr>\n",
              "    <tr>\n",
              "      <th>Total</th>\n",
              "      <td>216</td>\n",
              "      <td>184</td>\n",
              "      <td>491</td>\n",
              "      <td>891</td>\n",
              "    </tr>\n",
              "  </tbody>\n",
              "</table>\n",
              "</div>"
            ],
            "text/plain": [
              "        Alta  Média  Baixa  Total\n",
              "Homem    122    108    347    577\n",
              "Mulher    94     76    144    314\n",
              "Total    216    184    491    891"
            ]
          },
          "metadata": {
            "tags": []
          },
          "execution_count": 20
        }
      ]
    },
    {
      "cell_type": "markdown",
      "metadata": {
        "id": "hXiaR8JXAYnv"
      },
      "source": [
        "Com a tabela acima podemos ter uma ideia mais exata da quantidade de homens e mulheres por classe social presentes no navio e confirmar o que observamos no gráfico anterior.\n",
        "\n",
        "Agora, analisemos algumas variáveis numéricas."
      ]
    },
    {
      "cell_type": "markdown",
      "metadata": {
        "id": "8S-b22pDBhfZ"
      },
      "source": [
        "##Variáveis Numéricas"
      ]
    },
    {
      "cell_type": "markdown",
      "metadata": {
        "id": "XVHGQfnaB-3U"
      },
      "source": [
        "Como primeira variável numérica, iremos analisar a variável 'Age', que é uma variável contínua e representa a idade dos passageiros em anos."
      ]
    },
    {
      "cell_type": "markdown",
      "metadata": {
        "id": "ZRaj9LT6CBIn"
      },
      "source": [
        "###Idade ('Age'):"
      ]
    },
    {
      "cell_type": "markdown",
      "metadata": {
        "id": "-NcqvMDSDJix"
      },
      "source": [
        "Comecemos plotando um histograma para essa variável."
      ]
    },
    {
      "cell_type": "code",
      "metadata": {
        "id": "myiGPejH-wq3",
        "outputId": "f03e901f-d983-4575-c16a-38c029446799",
        "colab": {
          "base_uri": "https://localhost:8080/",
          "height": 0
        }
      },
      "source": [
        "# Plotando histograma para variável contínua 'Age'\n",
        "plt.figure(figsize = (10,7))\n",
        "sns.histplot(x = treino['Age'], kde = True)\n",
        "plt.title(\"Histograma para Idade\")\n",
        "plt.xlabel('Idade')\n",
        "plt.ylabel('Quantidade')\n",
        "plt.show()"
      ],
      "execution_count": 21,
      "outputs": [
        {
          "output_type": "display_data",
          "data": {
            "image/png": "[encoded data removed]",
            "text/plain": [
              "<Figure size 720x504 with 1 Axes>"
            ]
          },
          "metadata": {
            "tags": [],
            "needs_background": "light"
          }
        }
      ]
    },
    {
      "cell_type": "markdown",
      "metadata": {
        "id": "3uJFb_TfMhRa"
      },
      "source": [
        "No histograma acima utilizamos o kde (kernel density estimator) para estimar a função de densidade para esse histograma. Para mais informações descritivas podemos agora plotar um *boxplot*."
      ]
    },
    {
      "cell_type": "code",
      "metadata": {
        "id": "12hhKn01FcSs",
        "outputId": "6fda6099-9039-4236-cc51-4afadb5f3d69",
        "colab": {
          "base_uri": "https://localhost:8080/",
          "height": 0
        }
      },
      "source": [
        "plt.figure(figsize = (10,7))\n",
        "sns.boxplot(y = 'Age', data = treino)\n",
        "plt.title(\"Boxplot para Idade\")\n",
        "plt.ylabel('Idade')\n",
        "plt.show()"
      ],
      "execution_count": 22,
      "outputs": [
        {
          "output_type": "display_data",
          "data": {
            "image/png": "[encoded data removed]",
            "text/plain": [
              "<Figure size 720x504 with 1 Axes>"
            ]
          },
          "metadata": {
            "tags": [],
            "needs_background": "light"
          }
        }
      ]
    },
    {
      "cell_type": "markdown",
      "metadata": {
        "id": "f1cXReZPdYNy"
      },
      "source": [
        "Aplicando o método *describe()* para essa variável:"
      ]
    },
    {
      "cell_type": "code",
      "metadata": {
        "id": "PJlMWWTTdeU6",
        "outputId": "f7457b48-67fb-4af4-fe99-a6a40c359997",
        "colab": {
          "base_uri": "https://localhost:8080/"
        }
      },
      "source": [
        "print(\"Descrição da variável 'Age'\", '\\n')\n",
        "treino['Age'].describe()"
      ],
      "execution_count": 23,
      "outputs": [
        {
          "output_type": "stream",
          "text": [
            "Descrição da variável 'Age' \n",
            "\n"
          ],
          "name": "stdout"
        },
        {
          "output_type": "execute_result",
          "data": {
            "text/plain": [
              "count    714.000000\n",
              "mean      29.699118\n",
              "std       14.526497\n",
              "min        0.420000\n",
              "25%       20.125000\n",
              "50%       28.000000\n",
              "75%       38.000000\n",
              "max       80.000000\n",
              "Name: Age, dtype: float64"
            ]
          },
          "metadata": {
            "tags": []
          },
          "execution_count": 23
        }
      ]
    },
    {
      "cell_type": "markdown",
      "metadata": {
        "id": "_KO2u6qrO2sd"
      },
      "source": [
        "Com o boxplot e a descrição temos muitas informações importantes sobre essa variável. Por exemplo, podemos confirmar o que dissemos acima sobre a maioria das pessoas serem jovens como pode-se perceber pelos quartis, com uma idade média de 29 anos. Além disso, como 75% dos passageiros tem até 40 anos, idades muito superiores foram vistas como *outliers* (valores discrepantes).\n",
        "\n",
        "Além disso, exitem 177 *missing values* que poderão ser substituídos pela mediana das observações na hora de treinar o modelo."
      ]
    },
    {
      "cell_type": "markdown",
      "metadata": {
        "id": "Zxtg1OTKRX7i"
      },
      "source": [
        "###Valor da passagem ('Fare'):"
      ]
    },
    {
      "cell_type": "markdown",
      "metadata": {
        "id": "XxX2LM6VReX6"
      },
      "source": [
        "Agora analisemos os valores de cada passagem."
      ]
    },
    {
      "cell_type": "code",
      "metadata": {
        "id": "UTInsqCyYZkC",
        "outputId": "7b71d4c1-f7e0-426a-8964-f88c6b1cf9b6",
        "colab": {
          "base_uri": "https://localhost:8080/",
          "height": 0
        }
      },
      "source": [
        "# Histrograma\n",
        "plt.figure(figsize = (10,7))\n",
        "sns.displot(x = treino['Fare'], aspect = 2, kind = 'hist')\n",
        "plt.title(\"Histograma para a Taxa\")\n",
        "sns.displot(x = treino['Fare'], aspect = 2, kind = 'kde')\n",
        "plt.title(\"KDE para a Taxa\")\n",
        "plt.show()"
      ],
      "execution_count": 24,
      "outputs": [
        {
          "output_type": "display_data",
          "data": {
            "text/plain": [
              "<Figure size 720x504 with 0 Axes>"
            ]
          },
          "metadata": {
            "tags": []
          }
        },
        {
          "output_type": "display_data",
          "data": {
            "image/png": "[encoded data removed]",
            "text/plain": [
              "<Figure size 720x360 with 1 Axes>"
            ]
          },
          "metadata": {
            "tags": [],
            "needs_background": "light"
          }
        },
        {
          "output_type": "display_data",
          "data": {
            "image/png": "[encoded data removed]",
            "text/plain": [
              "<Figure size 720x360 with 1 Axes>"
            ]
          },
          "metadata": {
            "tags": [],
            "needs_background": "light"
          }
        }
      ]
    },
    {
      "cell_type": "markdown",
      "metadata": {
        "id": "jBsKf-DdTsYT"
      },
      "source": [
        "Através do histograma e sua suavização com o kde, pode-se notar uma grande assimetria à direita. Além da presença de valores de passagens muito distantes em relação à maior concentração dos dados. Podemos conferir isso com o boxplot abaixo assim como a descrição dessa variável. "
      ]
    },
    {
      "cell_type": "code",
      "metadata": {
        "id": "6pgJlZTuR9-Z",
        "outputId": "fa27663e-43b6-4b2f-8fff-9cf88ea7ec81",
        "colab": {
          "base_uri": "https://localhost:8080/",
          "height": 0
        }
      },
      "source": [
        "# Boxplot\n",
        "plt.figure(figsize = (10, 7))\n",
        "sns.boxplot(y = 'Fare', data = treino)\n",
        "plt.ylabel(\"Taxa\")\n",
        "plt.title(\"Boxplot para Taxa da passagem\")\n",
        "plt.show()"
      ],
      "execution_count": 25,
      "outputs": [
        {
          "output_type": "display_data",
          "data": {
            "image/png": "[encoded data removed]",
            "text/plain": [
              "<Figure size 720x504 with 1 Axes>"
            ]
          },
          "metadata": {
            "tags": [],
            "needs_background": "light"
          }
        }
      ]
    },
    {
      "cell_type": "markdown",
      "metadata": {
        "id": "8phAKi5mWDOo"
      },
      "source": [
        "E, utilizando o método *describe()*:\n",
        "\n",
        "\n"
      ]
    },
    {
      "cell_type": "code",
      "metadata": {
        "id": "y96h8z8pVzIq",
        "outputId": "babcae9a-df7a-4ed8-dac8-aff6fe1a267a",
        "colab": {
          "base_uri": "https://localhost:8080/"
        }
      },
      "source": [
        "treino['Fare'].describe()"
      ],
      "execution_count": 26,
      "outputs": [
        {
          "output_type": "execute_result",
          "data": {
            "text/plain": [
              "count    891.000000\n",
              "mean      32.204208\n",
              "std       49.693429\n",
              "min        0.000000\n",
              "25%        7.910400\n",
              "50%       14.454200\n",
              "75%       31.000000\n",
              "max      512.329200\n",
              "Name: Fare, dtype: float64"
            ]
          },
          "metadata": {
            "tags": []
          },
          "execution_count": 26
        }
      ]
    },
    {
      "cell_type": "markdown",
      "metadata": {
        "id": "T4U2QDVkVhkO"
      },
      "source": [
        "Assim, confirmamos o que foi dito acima, cerca de 75% das observações têm até 31.0 libras (valor da época) como preço da passagem, valor este que está próximo da média, porém o valor máximo das obervações foi de 512.3292 libras, reforçando a visão inicial da presença de outliers. Além de visualmente grande parte dos dados estarem abaixo da taxa de 100 libras, o que percebe-se também pelos quantis da variável.\n"
      ]
    },
    {
      "cell_type": "markdown",
      "metadata": {
        "id": "rhPOoxOGcyFM"
      },
      "source": [
        "###Idade ('Age')  vs  Taxa ('Fare'):"
      ]
    },
    {
      "cell_type": "markdown",
      "metadata": {
        "id": "rlPFFkDWePyy"
      },
      "source": [
        "Agora veremos se a idade parece ter alguma relação com a taxa da passagem, para isso usaremos um *scatterplot* e depois calcularemos o coeficiente de correlação de Pearson."
      ]
    },
    {
      "cell_type": "code",
      "metadata": {
        "id": "iq0SEo54bLUm",
        "outputId": "9d5c4088-e4b1-4f22-9907-ef9a521df5ad",
        "colab": {
          "base_uri": "https://localhost:8080/",
          "height": 0
        }
      },
      "source": [
        "# Scatterplot\n",
        "sns.scatterplot(x = 'Age', y = 'Fare', data = treino)\n",
        "plt.title(\"Gráfico de dispersão para Age x Fare\")\n",
        "plt.show()"
      ],
      "execution_count": 27,
      "outputs": [
        {
          "output_type": "display_data",
          "data": {
            "image/png": "[encoded data removed]",
            "text/plain": [
              "<Figure size 432x288 with 1 Axes>"
            ]
          },
          "metadata": {
            "tags": [],
            "needs_background": "light"
          }
        }
      ]
    },
    {
      "cell_type": "markdown",
      "metadata": {
        "id": "4kJv-Ww_fRDq"
      },
      "source": [
        "Visualmente as duas variáveis parecem não serem correlacionadas. Podemos confirmar isso com o coeficiente de Pearson:"
      ]
    },
    {
      "cell_type": "code",
      "metadata": {
        "id": "nqCRTx-Iewg-",
        "outputId": "47b6b4a6-d628-4548-8a40-f8d8a98e5314",
        "colab": {
          "base_uri": "https://localhost:8080/"
        }
      },
      "source": [
        "print('Correlação de Pearson: ', round(treino.corr()['Age']['Fare'], 4))"
      ],
      "execution_count": 28,
      "outputs": [
        {
          "output_type": "stream",
          "text": [
            "Correlação de Pearson:  0.0961\n"
          ],
          "name": "stdout"
        }
      ]
    },
    {
      "cell_type": "markdown",
      "metadata": {
        "id": "cKUtKNOgiLEX"
      },
      "source": [
        "Como a correlação é um valor muito pequeno, as variáveis Idade ('Age') e Taxa ('Fare') não são correlacionadas."
      ]
    },
    {
      "cell_type": "markdown",
      "metadata": {
        "id": "haa3VAKri6R7"
      },
      "source": [
        "##Variáveis Categóricas x Variáveis Numéricas"
      ]
    },
    {
      "cell_type": "markdown",
      "metadata": {
        "id": "zU27f3_1jL8M"
      },
      "source": [
        "Agora faremos algumas análises sobre as relações entre algumas variáveis categóricas e numéricas."
      ]
    },
    {
      "cell_type": "markdown",
      "metadata": {
        "id": "kQhJbRK0mXRy"
      },
      "source": [
        "###Sobreviventes ('Survived') x Idade ('Age')"
      ]
    },
    {
      "cell_type": "markdown",
      "metadata": {
        "id": "ortIXD7cvTpF"
      },
      "source": [
        "Comecemos analisando se o fato do passageiro ter sobrevivido tem alguma relação com as idades dos mesmos. Para isso utilizaremos um histograma e um *boxplot*."
      ]
    },
    {
      "cell_type": "code",
      "metadata": {
        "id": "YW32-l0LdinZ",
        "outputId": "a23b37e0-cb08-4ff6-9c67-153f8a05135c",
        "colab": {
          "base_uri": "https://localhost:8080/",
          "height": 0
        }
      },
      "source": [
        "figure = plt.figure(figsize=(10,7))\n",
        "\n",
        "# Histograma com 2 barras, uma sobre os sobreviventes e outra com os que não sobreviveram\n",
        "plt.hist([treino[treino['Survived'] == 1]['Age'], treino[treino['Survived'] == 0]['Age']], bins=15, label=['Sobreviveram','Não sobreviveram'], color = ['g','r'])\n",
        "plt.legend()\n",
        "plt.xlabel('Idade')\n",
        "plt.ylabel('Quantidade de passageiros')\n",
        "plt.show()"
      ],
      "execution_count": 29,
      "outputs": [
        {
          "output_type": "display_data",
          "data": {
            "image/png": "[encoded data removed]",
            "text/plain": [
              "<Figure size 720x504 with 1 Axes>"
            ]
          },
          "metadata": {
            "tags": [],
            "needs_background": "light"
          }
        }
      ]
    },
    {
      "cell_type": "markdown",
      "metadata": {
        "id": "QajiDTL0e2_8"
      },
      "source": [
        "Com o histograma da variável 'Survived' agrupado pelas idades, percebe-se que pessoas mais jovens tendem a sobreviver mais que pessoas mais velhas. Agora, observemos o boxplot sobre essas duas variáveis. "
      ]
    },
    {
      "cell_type": "code",
      "metadata": {
        "id": "Z9dRidpAWB6a",
        "outputId": "581df1fb-a282-4ab7-fca1-9d58e6f154ff",
        "colab": {
          "base_uri": "https://localhost:8080/",
          "height": 0
        }
      },
      "source": [
        "plt.figure(figsize = (10,7))\n",
        "sns.boxplot(y = 'Age', x = 'Survived', hue = 'Survived', dodge = False, data = treino)\n",
        "plt.show()"
      ],
      "execution_count": 30,
      "outputs": [
        {
          "output_type": "display_data",
          "data": {
            "image/png": "[encoded data removed]",
            "text/plain": [
              "<Figure size 720x504 with 1 Axes>"
            ]
          },
          "metadata": {
            "tags": [],
            "needs_background": "light"
          }
        }
      ]
    },
    {
      "cell_type": "markdown",
      "metadata": {
        "id": "ROovEAb2ozoJ"
      },
      "source": [
        "###Classe social ('Pclass') x Idade ('Age')"
      ]
    },
    {
      "cell_type": "markdown",
      "metadata": {
        "id": "m_vXqnSjptOH"
      },
      "source": [
        "Analisaremos agora as variáveis que representam a classe social dos passageiros com a idade dos mesmos. "
      ]
    },
    {
      "cell_type": "code",
      "metadata": {
        "id": "0Q80qPTNayjJ",
        "outputId": "f66bbf2c-3c41-407b-c73a-a14946dc7434",
        "colab": {
          "base_uri": "https://localhost:8080/",
          "height": 442
        }
      },
      "source": [
        "figure = plt.figure(figsize=(10,7))\n",
        "\n",
        "# Histograma com 3 barras ( 3 classes sociais) com idades\n",
        "plt.hist([treino[treino['Pclass'] == 1]['Age'], treino[treino['Pclass'] == 2]['Age'], treino[treino['Pclass'] == 3]['Age']], bins=15, label=['Classe alta','Classe média', 'Classe baixa'], color = ['r','b','g'])\n",
        "plt.legend()\n",
        "plt.xlabel('Idade')\n",
        "plt.ylabel('Quantidade')\n",
        "plt.show()"
      ],
      "execution_count": 31,
      "outputs": [
        {
          "output_type": "display_data",
          "data": {
            "image/png": "[encoded data removed]",
            "text/plain": [
              "<Figure size 720x504 with 1 Axes>"
            ]
          },
          "metadata": {
            "tags": [],
            "needs_background": "light"
          }
        }
      ]
    },
    {
      "cell_type": "markdown",
      "metadata": {
        "id": "LuCOIvIXsZh1"
      },
      "source": [
        "Com o histograma das idades separado pelas classes acima, percebemos que a grande maioria das pessoas de até 30 anos eram de classe baixa, seguidos pelos de classe média, por sua vez, os passageiros com mais de 40 anos, em sua maioria, eram de classe alta. "
      ]
    },
    {
      "cell_type": "markdown",
      "metadata": {
        "id": "kr61tdwRcMir"
      },
      "source": [
        "###Classe social ('Pclass') x Taxa ('Fare')"
      ]
    },
    {
      "cell_type": "markdown",
      "metadata": {
        "id": "X0LnEkQ2cyY7"
      },
      "source": [
        "Analisaremos agora como o preço da passagem se relaciona com a classe socio-econômica dos passageiros."
      ]
    },
    {
      "cell_type": "code",
      "metadata": {
        "id": "BCOMxJYvqXy9"
      },
      "source": [
        ""
      ],
      "execution_count": 44,
      "outputs": []
    },
    {
      "cell_type": "markdown",
      "metadata": {
        "id": "ByqgFVrTh3aY"
      },
      "source": [
        "#Modelagem"
      ]
    },
    {
      "cell_type": "markdown",
      "metadata": {
        "id": "We0TC3TnzKTE"
      },
      "source": [
        "##*Missing Values*:"
      ]
    },
    {
      "cell_type": "markdown",
      "metadata": {
        "id": "i_b02Not5nXn"
      },
      "source": [
        "###Dados de treino"
      ]
    },
    {
      "cell_type": "markdown",
      "metadata": {
        "id": "b6C7j6msn_T-"
      },
      "source": [
        "Agora faremos as mudanças necessárias para a construção do modelo de classificação. \n",
        "\n",
        "Primeiramente, vale salientar a presença de valores *missing* no conjunto de dados. Veremos em quais variáveis abaixo."
      ]
    },
    {
      "cell_type": "code",
      "metadata": {
        "id": "rSSWi6X9n-f-",
        "outputId": "9144d919-cc49-4460-84f4-602c83119e24",
        "colab": {
          "base_uri": "https://localhost:8080/"
        }
      },
      "source": [
        "# Quantidade de missing values\n",
        "treino.isna().sum()"
      ],
      "execution_count": 32,
      "outputs": [
        {
          "output_type": "execute_result",
          "data": {
            "text/plain": [
              "PassengerId      0\n",
              "Survived         0\n",
              "Pclass           0\n",
              "Name             0\n",
              "Sex              0\n",
              "Age            177\n",
              "SibSp            0\n",
              "Parch            0\n",
              "Ticket           0\n",
              "Fare             0\n",
              "Cabin          687\n",
              "Embarked         2\n",
              "dtype: int64"
            ]
          },
          "metadata": {
            "tags": []
          },
          "execution_count": 32
        }
      ]
    },
    {
      "cell_type": "markdown",
      "metadata": {
        "id": "aOzNPDzLou0y"
      },
      "source": [
        "Criando um *dataframe* com o total e as frequências dos valores faltantes:"
      ]
    },
    {
      "cell_type": "code",
      "metadata": {
        "id": "fVgRKujjd6sB",
        "outputId": "51fef830-e9bd-44cf-bf66-5e412a1efa66",
        "colab": {
          "base_uri": "https://localhost:8080/",
          "height": 153
        }
      },
      "source": [
        "# Criando um dataframe com os valores faltantes e suas respectivas frequências \n",
        "totalage, total1 = treino['Age'].isna().sum(), len(treino.Age)\n",
        "totalcabin, total2 = treino['Cabin'].isna().sum(), len(treino.Cabin)\n",
        "totalemb, total3 = treino['Embarked'].isna().sum(), len(treino.Embarked)\n",
        "\n",
        "data = {'Total': [totalcabin, totalage, totalemb] , 'Frequência (%)': [(totalcabin/total2)*100, (totalage/total1)*100, (totalemb/total3)*100]}\n",
        "dataframe_treino = pd.DataFrame(data, index = ['Cabin', 'Age', 'Embarked'], columns = ['Total', 'Frequência (%)'])\n",
        "\n",
        "print(\"DataFrame com as quantidades totais e relativas de valores faltantes - Conjunto de Treino: \")\n",
        "dataframe_treino"
      ],
      "execution_count": 33,
      "outputs": [
        {
          "output_type": "stream",
          "text": [
            "DataFrame com as quantidades totais e relativas de valores faltantes - Conjunto de Treino: \n"
          ],
          "name": "stdout"
        },
        {
          "output_type": "execute_result",
          "data": {
            "text/html": [
              "<div>\n",
              "<style scoped>\n",
              "    .dataframe tbody tr th:only-of-type {\n",
              "        vertical-align: middle;\n",
              "    }\n",
              "\n",
              "    .dataframe tbody tr th {\n",
              "        vertical-align: top;\n",
              "    }\n",
              "\n",
              "    .dataframe thead th {\n",
              "        text-align: right;\n",
              "    }\n",
              "</style>\n",
              "<table border=\"1\" class=\"dataframe\">\n",
              "  <thead>\n",
              "    <tr style=\"text-align: right;\">\n",
              "      <th></th>\n",
              "      <th>Total</th>\n",
              "      <th>Frequência (%)</th>\n",
              "    </tr>\n",
              "  </thead>\n",
              "  <tbody>\n",
              "    <tr>\n",
              "      <th>Cabin</th>\n",
              "      <td>687</td>\n",
              "      <td>77.104377</td>\n",
              "    </tr>\n",
              "    <tr>\n",
              "      <th>Age</th>\n",
              "      <td>177</td>\n",
              "      <td>19.865320</td>\n",
              "    </tr>\n",
              "    <tr>\n",
              "      <th>Embarked</th>\n",
              "      <td>2</td>\n",
              "      <td>0.224467</td>\n",
              "    </tr>\n",
              "  </tbody>\n",
              "</table>\n",
              "</div>"
            ],
            "text/plain": [
              "          Total  Frequência (%)\n",
              "Cabin       687       77.104377\n",
              "Age         177       19.865320\n",
              "Embarked      2        0.224467"
            ]
          },
          "metadata": {
            "tags": []
          },
          "execution_count": 33
        }
      ]
    },
    {
      "cell_type": "markdown",
      "metadata": {
        "id": "J616q96asEuC"
      },
      "source": [
        "Criando um gráfico de barras para facilitar a visualização:"
      ]
    },
    {
      "cell_type": "code",
      "metadata": {
        "id": "SRjeEhpDqXGi",
        "outputId": "74b4ee42-f166-4a92-ff23-8ace97adcfb2",
        "colab": {
          "base_uri": "https://localhost:8080/",
          "height": 444
        }
      },
      "source": [
        "plt.figure(figsize = (10,7))\n",
        "sns.barplot(x = dataframe_treino.index, y = dataframe_treino['Frequência (%)'])\n",
        "plt.title(\"Gráfico de barras - Missing Values (Dados de Treino)\", size = 13)\n",
        "plt.ylabel(\"Porcentagem\", size = 13)\n",
        "plt.show()"
      ],
      "execution_count": 34,
      "outputs": [
        {
          "output_type": "display_data",
          "data": {
            "image/png": "[encoded data removed]",
            "text/plain": [
              "<Figure size 720x504 with 1 Axes>"
            ]
          },
          "metadata": {
            "tags": [],
            "needs_background": "light"
          }
        }
      ]
    },
    {
      "cell_type": "markdown",
      "metadata": {
        "id": "YEIJVMeNuF_r"
      },
      "source": [
        "Assim, podemos perceber que para as variáveis 'Age' e 'Cabin', a ausência de valores é muito considerável. Para isso, para a variável 'Age', que é uma variável numérica contínua, trataremos substituindo tais valores pela mediana das observações, uma vez que pela presença de outliers, a média seja afetada."
      ]
    },
    {
      "cell_type": "code",
      "metadata": {
        "id": "qdJa_aVLq-1C",
        "outputId": "903eadc8-ba21-46e8-f8d1-ea837fdb18bb",
        "colab": {
          "base_uri": "https://localhost:8080/"
        }
      },
      "source": [
        "# Inputando a mediana nos valores que estão faltando\n",
        "treino['Age'] = treino['Age'].fillna(value = treino['Age'].median())\n",
        "print(\"Número de missing values (Dados de Treino): \", treino['Age'].isna().sum())"
      ],
      "execution_count": 35,
      "outputs": [
        {
          "output_type": "stream",
          "text": [
            "Número de missing values (Dados de Treino):  0\n"
          ],
          "name": "stdout"
        }
      ]
    },
    {
      "cell_type": "markdown",
      "metadata": {
        "id": "1rcu1x5S1r9H"
      },
      "source": [
        "Para a variável 'Cabin', que é uma variável categórica, faremos o *input* utilizando o método get_dummies() do pandas."
      ]
    },
    {
      "cell_type": "code",
      "metadata": {
        "id": "JvlfVJ5uz__c",
        "outputId": "fc18a210-786e-496e-89e3-adcbb95c5be8",
        "colab": {
          "base_uri": "https://localhost:8080/",
          "height": 409
        }
      },
      "source": [
        "# Dados de treino\n",
        "treino_no_name = treino.drop(columns = [\"Name\"])\n",
        "treino['Cabin'] = treino_no_name['Cabin'].isna()\n",
        "treino = pd.get_dummies(treino_no_name)\n",
        "\n",
        "# Parte do novo dataframe de treino após o método get_dummies()\n",
        "treino.head(5)"
      ],
      "execution_count": 36,
      "outputs": [
        {
          "output_type": "execute_result",
          "data": {
            "text/html": [
              "<div>\n",
              "<style scoped>\n",
              "    .dataframe tbody tr th:only-of-type {\n",
              "        vertical-align: middle;\n",
              "    }\n",
              "\n",
              "    .dataframe tbody tr th {\n",
              "        vertical-align: top;\n",
              "    }\n",
              "\n",
              "    .dataframe thead th {\n",
              "        text-align: right;\n",
              "    }\n",
              "</style>\n",
              "<table border=\"1\" class=\"dataframe\">\n",
              "  <thead>\n",
              "    <tr style=\"text-align: right;\">\n",
              "      <th></th>\n",
              "      <th>PassengerId</th>\n",
              "      <th>Survived</th>\n",
              "      <th>Pclass</th>\n",
              "      <th>Age</th>\n",
              "      <th>SibSp</th>\n",
              "      <th>Parch</th>\n",
              "      <th>Fare</th>\n",
              "      <th>Sex_female</th>\n",
              "      <th>Sex_male</th>\n",
              "      <th>Ticket_110152</th>\n",
              "      <th>Ticket_110413</th>\n",
              "      <th>Ticket_110465</th>\n",
              "      <th>Ticket_110564</th>\n",
              "      <th>Ticket_110813</th>\n",
              "      <th>Ticket_111240</th>\n",
              "      <th>Ticket_111320</th>\n",
              "      <th>Ticket_111361</th>\n",
              "      <th>Ticket_111369</th>\n",
              "      <th>Ticket_111426</th>\n",
              "      <th>Ticket_111427</th>\n",
              "      <th>Ticket_111428</th>\n",
              "      <th>Ticket_112050</th>\n",
              "      <th>Ticket_112052</th>\n",
              "      <th>Ticket_112053</th>\n",
              "      <th>Ticket_112058</th>\n",
              "      <th>Ticket_112059</th>\n",
              "      <th>Ticket_112277</th>\n",
              "      <th>Ticket_112379</th>\n",
              "      <th>Ticket_113028</th>\n",
              "      <th>Ticket_113043</th>\n",
              "      <th>Ticket_113050</th>\n",
              "      <th>Ticket_113051</th>\n",
              "      <th>Ticket_113055</th>\n",
              "      <th>Ticket_113056</th>\n",
              "      <th>Ticket_113059</th>\n",
              "      <th>Ticket_113501</th>\n",
              "      <th>Ticket_113503</th>\n",
              "      <th>Ticket_113505</th>\n",
              "      <th>Ticket_113509</th>\n",
              "      <th>Ticket_113510</th>\n",
              "      <th>...</th>\n",
              "      <th>Cabin_D50</th>\n",
              "      <th>Cabin_D56</th>\n",
              "      <th>Cabin_D6</th>\n",
              "      <th>Cabin_D7</th>\n",
              "      <th>Cabin_D9</th>\n",
              "      <th>Cabin_E10</th>\n",
              "      <th>Cabin_E101</th>\n",
              "      <th>Cabin_E12</th>\n",
              "      <th>Cabin_E121</th>\n",
              "      <th>Cabin_E17</th>\n",
              "      <th>Cabin_E24</th>\n",
              "      <th>Cabin_E25</th>\n",
              "      <th>Cabin_E31</th>\n",
              "      <th>Cabin_E33</th>\n",
              "      <th>Cabin_E34</th>\n",
              "      <th>Cabin_E36</th>\n",
              "      <th>Cabin_E38</th>\n",
              "      <th>Cabin_E40</th>\n",
              "      <th>Cabin_E44</th>\n",
              "      <th>Cabin_E46</th>\n",
              "      <th>Cabin_E49</th>\n",
              "      <th>Cabin_E50</th>\n",
              "      <th>Cabin_E58</th>\n",
              "      <th>Cabin_E63</th>\n",
              "      <th>Cabin_E67</th>\n",
              "      <th>Cabin_E68</th>\n",
              "      <th>Cabin_E77</th>\n",
              "      <th>Cabin_E8</th>\n",
              "      <th>Cabin_F E69</th>\n",
              "      <th>Cabin_F G63</th>\n",
              "      <th>Cabin_F G73</th>\n",
              "      <th>Cabin_F2</th>\n",
              "      <th>Cabin_F33</th>\n",
              "      <th>Cabin_F38</th>\n",
              "      <th>Cabin_F4</th>\n",
              "      <th>Cabin_G6</th>\n",
              "      <th>Cabin_T</th>\n",
              "      <th>Embarked_C</th>\n",
              "      <th>Embarked_Q</th>\n",
              "      <th>Embarked_S</th>\n",
              "    </tr>\n",
              "  </thead>\n",
              "  <tbody>\n",
              "    <tr>\n",
              "      <th>0</th>\n",
              "      <td>1</td>\n",
              "      <td>0</td>\n",
              "      <td>3</td>\n",
              "      <td>22.0</td>\n",
              "      <td>1</td>\n",
              "      <td>0</td>\n",
              "      <td>7.2500</td>\n",
              "      <td>0</td>\n",
              "      <td>1</td>\n",
              "      <td>0</td>\n",
              "      <td>0</td>\n",
              "      <td>0</td>\n",
              "      <td>0</td>\n",
              "      <td>0</td>\n",
              "      <td>0</td>\n",
              "      <td>0</td>\n",
              "      <td>0</td>\n",
              "      <td>0</td>\n",
              "      <td>0</td>\n",
              "      <td>0</td>\n",
              "      <td>0</td>\n",
              "      <td>0</td>\n",
              "      <td>0</td>\n",
              "      <td>0</td>\n",
              "      <td>0</td>\n",
              "      <td>0</td>\n",
              "      <td>0</td>\n",
              "      <td>0</td>\n",
              "      <td>0</td>\n",
              "      <td>0</td>\n",
              "      <td>0</td>\n",
              "      <td>0</td>\n",
              "      <td>0</td>\n",
              "      <td>0</td>\n",
              "      <td>0</td>\n",
              "      <td>0</td>\n",
              "      <td>0</td>\n",
              "      <td>0</td>\n",
              "      <td>0</td>\n",
              "      <td>0</td>\n",
              "      <td>...</td>\n",
              "      <td>0</td>\n",
              "      <td>0</td>\n",
              "      <td>0</td>\n",
              "      <td>0</td>\n",
              "      <td>0</td>\n",
              "      <td>0</td>\n",
              "      <td>0</td>\n",
              "      <td>0</td>\n",
              "      <td>0</td>\n",
              "      <td>0</td>\n",
              "      <td>0</td>\n",
              "      <td>0</td>\n",
              "      <td>0</td>\n",
              "      <td>0</td>\n",
              "      <td>0</td>\n",
              "      <td>0</td>\n",
              "      <td>0</td>\n",
              "      <td>0</td>\n",
              "      <td>0</td>\n",
              "      <td>0</td>\n",
              "      <td>0</td>\n",
              "      <td>0</td>\n",
              "      <td>0</td>\n",
              "      <td>0</td>\n",
              "      <td>0</td>\n",
              "      <td>0</td>\n",
              "      <td>0</td>\n",
              "      <td>0</td>\n",
              "      <td>0</td>\n",
              "      <td>0</td>\n",
              "      <td>0</td>\n",
              "      <td>0</td>\n",
              "      <td>0</td>\n",
              "      <td>0</td>\n",
              "      <td>0</td>\n",
              "      <td>0</td>\n",
              "      <td>0</td>\n",
              "      <td>0</td>\n",
              "      <td>0</td>\n",
              "      <td>1</td>\n",
              "    </tr>\n",
              "    <tr>\n",
              "      <th>1</th>\n",
              "      <td>2</td>\n",
              "      <td>1</td>\n",
              "      <td>1</td>\n",
              "      <td>38.0</td>\n",
              "      <td>1</td>\n",
              "      <td>0</td>\n",
              "      <td>71.2833</td>\n",
              "      <td>1</td>\n",
              "      <td>0</td>\n",
              "      <td>0</td>\n",
              "      <td>0</td>\n",
              "      <td>0</td>\n",
              "      <td>0</td>\n",
              "      <td>0</td>\n",
              "      <td>0</td>\n",
              "      <td>0</td>\n",
              "      <td>0</td>\n",
              "      <td>0</td>\n",
              "      <td>0</td>\n",
              "      <td>0</td>\n",
              "      <td>0</td>\n",
              "      <td>0</td>\n",
              "      <td>0</td>\n",
              "      <td>0</td>\n",
              "      <td>0</td>\n",
              "      <td>0</td>\n",
              "      <td>0</td>\n",
              "      <td>0</td>\n",
              "      <td>0</td>\n",
              "      <td>0</td>\n",
              "      <td>0</td>\n",
              "      <td>0</td>\n",
              "      <td>0</td>\n",
              "      <td>0</td>\n",
              "      <td>0</td>\n",
              "      <td>0</td>\n",
              "      <td>0</td>\n",
              "      <td>0</td>\n",
              "      <td>0</td>\n",
              "      <td>0</td>\n",
              "      <td>...</td>\n",
              "      <td>0</td>\n",
              "      <td>0</td>\n",
              "      <td>0</td>\n",
              "      <td>0</td>\n",
              "      <td>0</td>\n",
              "      <td>0</td>\n",
              "      <td>0</td>\n",
              "      <td>0</td>\n",
              "      <td>0</td>\n",
              "      <td>0</td>\n",
              "      <td>0</td>\n",
              "      <td>0</td>\n",
              "      <td>0</td>\n",
              "      <td>0</td>\n",
              "      <td>0</td>\n",
              "      <td>0</td>\n",
              "      <td>0</td>\n",
              "      <td>0</td>\n",
              "      <td>0</td>\n",
              "      <td>0</td>\n",
              "      <td>0</td>\n",
              "      <td>0</td>\n",
              "      <td>0</td>\n",
              "      <td>0</td>\n",
              "      <td>0</td>\n",
              "      <td>0</td>\n",
              "      <td>0</td>\n",
              "      <td>0</td>\n",
              "      <td>0</td>\n",
              "      <td>0</td>\n",
              "      <td>0</td>\n",
              "      <td>0</td>\n",
              "      <td>0</td>\n",
              "      <td>0</td>\n",
              "      <td>0</td>\n",
              "      <td>0</td>\n",
              "      <td>0</td>\n",
              "      <td>1</td>\n",
              "      <td>0</td>\n",
              "      <td>0</td>\n",
              "    </tr>\n",
              "    <tr>\n",
              "      <th>2</th>\n",
              "      <td>3</td>\n",
              "      <td>1</td>\n",
              "      <td>3</td>\n",
              "      <td>26.0</td>\n",
              "      <td>0</td>\n",
              "      <td>0</td>\n",
              "      <td>7.9250</td>\n",
              "      <td>1</td>\n",
              "      <td>0</td>\n",
              "      <td>0</td>\n",
              "      <td>0</td>\n",
              "      <td>0</td>\n",
              "      <td>0</td>\n",
              "      <td>0</td>\n",
              "      <td>0</td>\n",
              "      <td>0</td>\n",
              "      <td>0</td>\n",
              "      <td>0</td>\n",
              "      <td>0</td>\n",
              "      <td>0</td>\n",
              "      <td>0</td>\n",
              "      <td>0</td>\n",
              "      <td>0</td>\n",
              "      <td>0</td>\n",
              "      <td>0</td>\n",
              "      <td>0</td>\n",
              "      <td>0</td>\n",
              "      <td>0</td>\n",
              "      <td>0</td>\n",
              "      <td>0</td>\n",
              "      <td>0</td>\n",
              "      <td>0</td>\n",
              "      <td>0</td>\n",
              "      <td>0</td>\n",
              "      <td>0</td>\n",
              "      <td>0</td>\n",
              "      <td>0</td>\n",
              "      <td>0</td>\n",
              "      <td>0</td>\n",
              "      <td>0</td>\n",
              "      <td>...</td>\n",
              "      <td>0</td>\n",
              "      <td>0</td>\n",
              "      <td>0</td>\n",
              "      <td>0</td>\n",
              "      <td>0</td>\n",
              "      <td>0</td>\n",
              "      <td>0</td>\n",
              "      <td>0</td>\n",
              "      <td>0</td>\n",
              "      <td>0</td>\n",
              "      <td>0</td>\n",
              "      <td>0</td>\n",
              "      <td>0</td>\n",
              "      <td>0</td>\n",
              "      <td>0</td>\n",
              "      <td>0</td>\n",
              "      <td>0</td>\n",
              "      <td>0</td>\n",
              "      <td>0</td>\n",
              "      <td>0</td>\n",
              "      <td>0</td>\n",
              "      <td>0</td>\n",
              "      <td>0</td>\n",
              "      <td>0</td>\n",
              "      <td>0</td>\n",
              "      <td>0</td>\n",
              "      <td>0</td>\n",
              "      <td>0</td>\n",
              "      <td>0</td>\n",
              "      <td>0</td>\n",
              "      <td>0</td>\n",
              "      <td>0</td>\n",
              "      <td>0</td>\n",
              "      <td>0</td>\n",
              "      <td>0</td>\n",
              "      <td>0</td>\n",
              "      <td>0</td>\n",
              "      <td>0</td>\n",
              "      <td>0</td>\n",
              "      <td>1</td>\n",
              "    </tr>\n",
              "    <tr>\n",
              "      <th>3</th>\n",
              "      <td>4</td>\n",
              "      <td>1</td>\n",
              "      <td>1</td>\n",
              "      <td>35.0</td>\n",
              "      <td>1</td>\n",
              "      <td>0</td>\n",
              "      <td>53.1000</td>\n",
              "      <td>1</td>\n",
              "      <td>0</td>\n",
              "      <td>0</td>\n",
              "      <td>0</td>\n",
              "      <td>0</td>\n",
              "      <td>0</td>\n",
              "      <td>0</td>\n",
              "      <td>0</td>\n",
              "      <td>0</td>\n",
              "      <td>0</td>\n",
              "      <td>0</td>\n",
              "      <td>0</td>\n",
              "      <td>0</td>\n",
              "      <td>0</td>\n",
              "      <td>0</td>\n",
              "      <td>0</td>\n",
              "      <td>0</td>\n",
              "      <td>0</td>\n",
              "      <td>0</td>\n",
              "      <td>0</td>\n",
              "      <td>0</td>\n",
              "      <td>0</td>\n",
              "      <td>0</td>\n",
              "      <td>0</td>\n",
              "      <td>0</td>\n",
              "      <td>0</td>\n",
              "      <td>0</td>\n",
              "      <td>0</td>\n",
              "      <td>0</td>\n",
              "      <td>0</td>\n",
              "      <td>0</td>\n",
              "      <td>0</td>\n",
              "      <td>0</td>\n",
              "      <td>...</td>\n",
              "      <td>0</td>\n",
              "      <td>0</td>\n",
              "      <td>0</td>\n",
              "      <td>0</td>\n",
              "      <td>0</td>\n",
              "      <td>0</td>\n",
              "      <td>0</td>\n",
              "      <td>0</td>\n",
              "      <td>0</td>\n",
              "      <td>0</td>\n",
              "      <td>0</td>\n",
              "      <td>0</td>\n",
              "      <td>0</td>\n",
              "      <td>0</td>\n",
              "      <td>0</td>\n",
              "      <td>0</td>\n",
              "      <td>0</td>\n",
              "      <td>0</td>\n",
              "      <td>0</td>\n",
              "      <td>0</td>\n",
              "      <td>0</td>\n",
              "      <td>0</td>\n",
              "      <td>0</td>\n",
              "      <td>0</td>\n",
              "      <td>0</td>\n",
              "      <td>0</td>\n",
              "      <td>0</td>\n",
              "      <td>0</td>\n",
              "      <td>0</td>\n",
              "      <td>0</td>\n",
              "      <td>0</td>\n",
              "      <td>0</td>\n",
              "      <td>0</td>\n",
              "      <td>0</td>\n",
              "      <td>0</td>\n",
              "      <td>0</td>\n",
              "      <td>0</td>\n",
              "      <td>0</td>\n",
              "      <td>0</td>\n",
              "      <td>1</td>\n",
              "    </tr>\n",
              "    <tr>\n",
              "      <th>4</th>\n",
              "      <td>5</td>\n",
              "      <td>0</td>\n",
              "      <td>3</td>\n",
              "      <td>35.0</td>\n",
              "      <td>0</td>\n",
              "      <td>0</td>\n",
              "      <td>8.0500</td>\n",
              "      <td>0</td>\n",
              "      <td>1</td>\n",
              "      <td>0</td>\n",
              "      <td>0</td>\n",
              "      <td>0</td>\n",
              "      <td>0</td>\n",
              "      <td>0</td>\n",
              "      <td>0</td>\n",
              "      <td>0</td>\n",
              "      <td>0</td>\n",
              "      <td>0</td>\n",
              "      <td>0</td>\n",
              "      <td>0</td>\n",
              "      <td>0</td>\n",
              "      <td>0</td>\n",
              "      <td>0</td>\n",
              "      <td>0</td>\n",
              "      <td>0</td>\n",
              "      <td>0</td>\n",
              "      <td>0</td>\n",
              "      <td>0</td>\n",
              "      <td>0</td>\n",
              "      <td>0</td>\n",
              "      <td>0</td>\n",
              "      <td>0</td>\n",
              "      <td>0</td>\n",
              "      <td>0</td>\n",
              "      <td>0</td>\n",
              "      <td>0</td>\n",
              "      <td>0</td>\n",
              "      <td>0</td>\n",
              "      <td>0</td>\n",
              "      <td>0</td>\n",
              "      <td>...</td>\n",
              "      <td>0</td>\n",
              "      <td>0</td>\n",
              "      <td>0</td>\n",
              "      <td>0</td>\n",
              "      <td>0</td>\n",
              "      <td>0</td>\n",
              "      <td>0</td>\n",
              "      <td>0</td>\n",
              "      <td>0</td>\n",
              "      <td>0</td>\n",
              "      <td>0</td>\n",
              "      <td>0</td>\n",
              "      <td>0</td>\n",
              "      <td>0</td>\n",
              "      <td>0</td>\n",
              "      <td>0</td>\n",
              "      <td>0</td>\n",
              "      <td>0</td>\n",
              "      <td>0</td>\n",
              "      <td>0</td>\n",
              "      <td>0</td>\n",
              "      <td>0</td>\n",
              "      <td>0</td>\n",
              "      <td>0</td>\n",
              "      <td>0</td>\n",
              "      <td>0</td>\n",
              "      <td>0</td>\n",
              "      <td>0</td>\n",
              "      <td>0</td>\n",
              "      <td>0</td>\n",
              "      <td>0</td>\n",
              "      <td>0</td>\n",
              "      <td>0</td>\n",
              "      <td>0</td>\n",
              "      <td>0</td>\n",
              "      <td>0</td>\n",
              "      <td>0</td>\n",
              "      <td>0</td>\n",
              "      <td>0</td>\n",
              "      <td>1</td>\n",
              "    </tr>\n",
              "    <tr>\n",
              "      <th>5</th>\n",
              "      <td>6</td>\n",
              "      <td>0</td>\n",
              "      <td>3</td>\n",
              "      <td>28.0</td>\n",
              "      <td>0</td>\n",
              "      <td>0</td>\n",
              "      <td>8.4583</td>\n",
              "      <td>0</td>\n",
              "      <td>1</td>\n",
              "      <td>0</td>\n",
              "      <td>0</td>\n",
              "      <td>0</td>\n",
              "      <td>0</td>\n",
              "      <td>0</td>\n",
              "      <td>0</td>\n",
              "      <td>0</td>\n",
              "      <td>0</td>\n",
              "      <td>0</td>\n",
              "      <td>0</td>\n",
              "      <td>0</td>\n",
              "      <td>0</td>\n",
              "      <td>0</td>\n",
              "      <td>0</td>\n",
              "      <td>0</td>\n",
              "      <td>0</td>\n",
              "      <td>0</td>\n",
              "      <td>0</td>\n",
              "      <td>0</td>\n",
              "      <td>0</td>\n",
              "      <td>0</td>\n",
              "      <td>0</td>\n",
              "      <td>0</td>\n",
              "      <td>0</td>\n",
              "      <td>0</td>\n",
              "      <td>0</td>\n",
              "      <td>0</td>\n",
              "      <td>0</td>\n",
              "      <td>0</td>\n",
              "      <td>0</td>\n",
              "      <td>0</td>\n",
              "      <td>...</td>\n",
              "      <td>0</td>\n",
              "      <td>0</td>\n",
              "      <td>0</td>\n",
              "      <td>0</td>\n",
              "      <td>0</td>\n",
              "      <td>0</td>\n",
              "      <td>0</td>\n",
              "      <td>0</td>\n",
              "      <td>0</td>\n",
              "      <td>0</td>\n",
              "      <td>0</td>\n",
              "      <td>0</td>\n",
              "      <td>0</td>\n",
              "      <td>0</td>\n",
              "      <td>0</td>\n",
              "      <td>0</td>\n",
              "      <td>0</td>\n",
              "      <td>0</td>\n",
              "      <td>0</td>\n",
              "      <td>0</td>\n",
              "      <td>0</td>\n",
              "      <td>0</td>\n",
              "      <td>0</td>\n",
              "      <td>0</td>\n",
              "      <td>0</td>\n",
              "      <td>0</td>\n",
              "      <td>0</td>\n",
              "      <td>0</td>\n",
              "      <td>0</td>\n",
              "      <td>0</td>\n",
              "      <td>0</td>\n",
              "      <td>0</td>\n",
              "      <td>0</td>\n",
              "      <td>0</td>\n",
              "      <td>0</td>\n",
              "      <td>0</td>\n",
              "      <td>0</td>\n",
              "      <td>0</td>\n",
              "      <td>1</td>\n",
              "      <td>0</td>\n",
              "    </tr>\n",
              "    <tr>\n",
              "      <th>6</th>\n",
              "      <td>7</td>\n",
              "      <td>0</td>\n",
              "      <td>1</td>\n",
              "      <td>54.0</td>\n",
              "      <td>0</td>\n",
              "      <td>0</td>\n",
              "      <td>51.8625</td>\n",
              "      <td>0</td>\n",
              "      <td>1</td>\n",
              "      <td>0</td>\n",
              "      <td>0</td>\n",
              "      <td>0</td>\n",
              "      <td>0</td>\n",
              "      <td>0</td>\n",
              "      <td>0</td>\n",
              "      <td>0</td>\n",
              "      <td>0</td>\n",
              "      <td>0</td>\n",
              "      <td>0</td>\n",
              "      <td>0</td>\n",
              "      <td>0</td>\n",
              "      <td>0</td>\n",
              "      <td>0</td>\n",
              "      <td>0</td>\n",
              "      <td>0</td>\n",
              "      <td>0</td>\n",
              "      <td>0</td>\n",
              "      <td>0</td>\n",
              "      <td>0</td>\n",
              "      <td>0</td>\n",
              "      <td>0</td>\n",
              "      <td>0</td>\n",
              "      <td>0</td>\n",
              "      <td>0</td>\n",
              "      <td>0</td>\n",
              "      <td>0</td>\n",
              "      <td>0</td>\n",
              "      <td>0</td>\n",
              "      <td>0</td>\n",
              "      <td>0</td>\n",
              "      <td>...</td>\n",
              "      <td>0</td>\n",
              "      <td>0</td>\n",
              "      <td>0</td>\n",
              "      <td>0</td>\n",
              "      <td>0</td>\n",
              "      <td>0</td>\n",
              "      <td>0</td>\n",
              "      <td>0</td>\n",
              "      <td>0</td>\n",
              "      <td>0</td>\n",
              "      <td>0</td>\n",
              "      <td>0</td>\n",
              "      <td>0</td>\n",
              "      <td>0</td>\n",
              "      <td>0</td>\n",
              "      <td>0</td>\n",
              "      <td>0</td>\n",
              "      <td>0</td>\n",
              "      <td>0</td>\n",
              "      <td>1</td>\n",
              "      <td>0</td>\n",
              "      <td>0</td>\n",
              "      <td>0</td>\n",
              "      <td>0</td>\n",
              "      <td>0</td>\n",
              "      <td>0</td>\n",
              "      <td>0</td>\n",
              "      <td>0</td>\n",
              "      <td>0</td>\n",
              "      <td>0</td>\n",
              "      <td>0</td>\n",
              "      <td>0</td>\n",
              "      <td>0</td>\n",
              "      <td>0</td>\n",
              "      <td>0</td>\n",
              "      <td>0</td>\n",
              "      <td>0</td>\n",
              "      <td>0</td>\n",
              "      <td>0</td>\n",
              "      <td>1</td>\n",
              "    </tr>\n",
              "    <tr>\n",
              "      <th>7</th>\n",
              "      <td>8</td>\n",
              "      <td>0</td>\n",
              "      <td>3</td>\n",
              "      <td>2.0</td>\n",
              "      <td>3</td>\n",
              "      <td>1</td>\n",
              "      <td>21.0750</td>\n",
              "      <td>0</td>\n",
              "      <td>1</td>\n",
              "      <td>0</td>\n",
              "      <td>0</td>\n",
              "      <td>0</td>\n",
              "      <td>0</td>\n",
              "      <td>0</td>\n",
              "      <td>0</td>\n",
              "      <td>0</td>\n",
              "      <td>0</td>\n",
              "      <td>0</td>\n",
              "      <td>0</td>\n",
              "      <td>0</td>\n",
              "      <td>0</td>\n",
              "      <td>0</td>\n",
              "      <td>0</td>\n",
              "      <td>0</td>\n",
              "      <td>0</td>\n",
              "      <td>0</td>\n",
              "      <td>0</td>\n",
              "      <td>0</td>\n",
              "      <td>0</td>\n",
              "      <td>0</td>\n",
              "      <td>0</td>\n",
              "      <td>0</td>\n",
              "      <td>0</td>\n",
              "      <td>0</td>\n",
              "      <td>0</td>\n",
              "      <td>0</td>\n",
              "      <td>0</td>\n",
              "      <td>0</td>\n",
              "      <td>0</td>\n",
              "      <td>0</td>\n",
              "      <td>...</td>\n",
              "      <td>0</td>\n",
              "      <td>0</td>\n",
              "      <td>0</td>\n",
              "      <td>0</td>\n",
              "      <td>0</td>\n",
              "      <td>0</td>\n",
              "      <td>0</td>\n",
              "      <td>0</td>\n",
              "      <td>0</td>\n",
              "      <td>0</td>\n",
              "      <td>0</td>\n",
              "      <td>0</td>\n",
              "      <td>0</td>\n",
              "      <td>0</td>\n",
              "      <td>0</td>\n",
              "      <td>0</td>\n",
              "      <td>0</td>\n",
              "      <td>0</td>\n",
              "      <td>0</td>\n",
              "      <td>0</td>\n",
              "      <td>0</td>\n",
              "      <td>0</td>\n",
              "      <td>0</td>\n",
              "      <td>0</td>\n",
              "      <td>0</td>\n",
              "      <td>0</td>\n",
              "      <td>0</td>\n",
              "      <td>0</td>\n",
              "      <td>0</td>\n",
              "      <td>0</td>\n",
              "      <td>0</td>\n",
              "      <td>0</td>\n",
              "      <td>0</td>\n",
              "      <td>0</td>\n",
              "      <td>0</td>\n",
              "      <td>0</td>\n",
              "      <td>0</td>\n",
              "      <td>0</td>\n",
              "      <td>0</td>\n",
              "      <td>1</td>\n",
              "    </tr>\n",
              "    <tr>\n",
              "      <th>8</th>\n",
              "      <td>9</td>\n",
              "      <td>1</td>\n",
              "      <td>3</td>\n",
              "      <td>27.0</td>\n",
              "      <td>0</td>\n",
              "      <td>2</td>\n",
              "      <td>11.1333</td>\n",
              "      <td>1</td>\n",
              "      <td>0</td>\n",
              "      <td>0</td>\n",
              "      <td>0</td>\n",
              "      <td>0</td>\n",
              "      <td>0</td>\n",
              "      <td>0</td>\n",
              "      <td>0</td>\n",
              "      <td>0</td>\n",
              "      <td>0</td>\n",
              "      <td>0</td>\n",
              "      <td>0</td>\n",
              "      <td>0</td>\n",
              "      <td>0</td>\n",
              "      <td>0</td>\n",
              "      <td>0</td>\n",
              "      <td>0</td>\n",
              "      <td>0</td>\n",
              "      <td>0</td>\n",
              "      <td>0</td>\n",
              "      <td>0</td>\n",
              "      <td>0</td>\n",
              "      <td>0</td>\n",
              "      <td>0</td>\n",
              "      <td>0</td>\n",
              "      <td>0</td>\n",
              "      <td>0</td>\n",
              "      <td>0</td>\n",
              "      <td>0</td>\n",
              "      <td>0</td>\n",
              "      <td>0</td>\n",
              "      <td>0</td>\n",
              "      <td>0</td>\n",
              "      <td>...</td>\n",
              "      <td>0</td>\n",
              "      <td>0</td>\n",
              "      <td>0</td>\n",
              "      <td>0</td>\n",
              "      <td>0</td>\n",
              "      <td>0</td>\n",
              "      <td>0</td>\n",
              "      <td>0</td>\n",
              "      <td>0</td>\n",
              "      <td>0</td>\n",
              "      <td>0</td>\n",
              "      <td>0</td>\n",
              "      <td>0</td>\n",
              "      <td>0</td>\n",
              "      <td>0</td>\n",
              "      <td>0</td>\n",
              "      <td>0</td>\n",
              "      <td>0</td>\n",
              "      <td>0</td>\n",
              "      <td>0</td>\n",
              "      <td>0</td>\n",
              "      <td>0</td>\n",
              "      <td>0</td>\n",
              "      <td>0</td>\n",
              "      <td>0</td>\n",
              "      <td>0</td>\n",
              "      <td>0</td>\n",
              "      <td>0</td>\n",
              "      <td>0</td>\n",
              "      <td>0</td>\n",
              "      <td>0</td>\n",
              "      <td>0</td>\n",
              "      <td>0</td>\n",
              "      <td>0</td>\n",
              "      <td>0</td>\n",
              "      <td>0</td>\n",
              "      <td>0</td>\n",
              "      <td>0</td>\n",
              "      <td>0</td>\n",
              "      <td>1</td>\n",
              "    </tr>\n",
              "    <tr>\n",
              "      <th>9</th>\n",
              "      <td>10</td>\n",
              "      <td>1</td>\n",
              "      <td>2</td>\n",
              "      <td>14.0</td>\n",
              "      <td>1</td>\n",
              "      <td>0</td>\n",
              "      <td>30.0708</td>\n",
              "      <td>1</td>\n",
              "      <td>0</td>\n",
              "      <td>0</td>\n",
              "      <td>0</td>\n",
              "      <td>0</td>\n",
              "      <td>0</td>\n",
              "      <td>0</td>\n",
              "      <td>0</td>\n",
              "      <td>0</td>\n",
              "      <td>0</td>\n",
              "      <td>0</td>\n",
              "      <td>0</td>\n",
              "      <td>0</td>\n",
              "      <td>0</td>\n",
              "      <td>0</td>\n",
              "      <td>0</td>\n",
              "      <td>0</td>\n",
              "      <td>0</td>\n",
              "      <td>0</td>\n",
              "      <td>0</td>\n",
              "      <td>0</td>\n",
              "      <td>0</td>\n",
              "      <td>0</td>\n",
              "      <td>0</td>\n",
              "      <td>0</td>\n",
              "      <td>0</td>\n",
              "      <td>0</td>\n",
              "      <td>0</td>\n",
              "      <td>0</td>\n",
              "      <td>0</td>\n",
              "      <td>0</td>\n",
              "      <td>0</td>\n",
              "      <td>0</td>\n",
              "      <td>...</td>\n",
              "      <td>0</td>\n",
              "      <td>0</td>\n",
              "      <td>0</td>\n",
              "      <td>0</td>\n",
              "      <td>0</td>\n",
              "      <td>0</td>\n",
              "      <td>0</td>\n",
              "      <td>0</td>\n",
              "      <td>0</td>\n",
              "      <td>0</td>\n",
              "      <td>0</td>\n",
              "      <td>0</td>\n",
              "      <td>0</td>\n",
              "      <td>0</td>\n",
              "      <td>0</td>\n",
              "      <td>0</td>\n",
              "      <td>0</td>\n",
              "      <td>0</td>\n",
              "      <td>0</td>\n",
              "      <td>0</td>\n",
              "      <td>0</td>\n",
              "      <td>0</td>\n",
              "      <td>0</td>\n",
              "      <td>0</td>\n",
              "      <td>0</td>\n",
              "      <td>0</td>\n",
              "      <td>0</td>\n",
              "      <td>0</td>\n",
              "      <td>0</td>\n",
              "      <td>0</td>\n",
              "      <td>0</td>\n",
              "      <td>0</td>\n",
              "      <td>0</td>\n",
              "      <td>0</td>\n",
              "      <td>0</td>\n",
              "      <td>0</td>\n",
              "      <td>0</td>\n",
              "      <td>1</td>\n",
              "      <td>0</td>\n",
              "      <td>0</td>\n",
              "    </tr>\n",
              "  </tbody>\n",
              "</table>\n",
              "<p>10 rows × 840 columns</p>\n",
              "</div>"
            ],
            "text/plain": [
              "   PassengerId  Survived  Pclass  ...  Embarked_C  Embarked_Q  Embarked_S\n",
              "0            1         0       3  ...           0           0           1\n",
              "1            2         1       1  ...           1           0           0\n",
              "2            3         1       3  ...           0           0           1\n",
              "3            4         1       1  ...           0           0           1\n",
              "4            5         0       3  ...           0           0           1\n",
              "5            6         0       3  ...           0           1           0\n",
              "6            7         0       1  ...           0           0           1\n",
              "7            8         0       3  ...           0           0           1\n",
              "8            9         1       3  ...           0           0           1\n",
              "9           10         1       2  ...           1           0           0\n",
              "\n",
              "[10 rows x 840 columns]"
            ]
          },
          "metadata": {
            "tags": []
          },
          "execution_count": 36
        }
      ]
    },
    {
      "cell_type": "markdown",
      "metadata": {
        "id": "yDRagyqH5rzq"
      },
      "source": [
        "###Dados de teste"
      ]
    },
    {
      "cell_type": "markdown",
      "metadata": {
        "id": "9v3ApbtM87zg"
      },
      "source": [
        "Agora, vamos verificar a presença de valores *missing* no conjunto de dados de teste."
      ]
    },
    {
      "cell_type": "code",
      "metadata": {
        "id": "YWaY666M5t06",
        "outputId": "443a01d6-9e25-4ee9-a56d-2c755a337c97",
        "colab": {
          "base_uri": "https://localhost:8080/"
        }
      },
      "source": [
        "# Quantidade de missing values - Teste\n",
        "teste.isna().sum()"
      ],
      "execution_count": 37,
      "outputs": [
        {
          "output_type": "execute_result",
          "data": {
            "text/plain": [
              "PassengerId      0\n",
              "Pclass           0\n",
              "Name             0\n",
              "Sex              0\n",
              "Age             86\n",
              "SibSp            0\n",
              "Parch            0\n",
              "Ticket           0\n",
              "Fare             1\n",
              "Cabin          327\n",
              "Embarked         0\n",
              "dtype: int64"
            ]
          },
          "metadata": {
            "tags": []
          },
          "execution_count": 37
        }
      ]
    },
    {
      "cell_type": "markdown",
      "metadata": {
        "id": "NhaD24Lt9Q8j"
      },
      "source": [
        "Percebemos que, diferentemente dos dados treino, os dados de teste apresentam uma variável diferente com *missing value*, que é a variável que representa o valor da passagem ('Fare').\n",
        "\n",
        "Colocando em um *DataFrame*:"
      ]
    },
    {
      "cell_type": "code",
      "metadata": {
        "id": "eWjw9vAC9M-4",
        "outputId": "5dfaac35-3ef8-488f-da86-170873a8366a",
        "colab": {
          "base_uri": "https://localhost:8080/",
          "height": 153
        }
      },
      "source": [
        "# Criando um dataframe com os valores faltantes e suas respectivas frequências \n",
        "totalage, total1 = teste['Age'].isna().sum(), len(teste.Age)\n",
        "totalcabin, total2 = teste['Cabin'].isna().sum(), len(teste.Cabin)\n",
        "totalemb, total3 = teste['Fare'].isna().sum(), len(teste.Fare)\n",
        "\n",
        "data = {'Total': [totalcabin, totalage, totalemb] , 'Frequência (%)': [(totalcabin/total2)*100, (totalage/total1)*100, (totalemb/total3)*100]}\n",
        "dataframe_teste = pd.DataFrame(data, index = ['Cabin', 'Age', 'Fare'], columns = ['Total', 'Frequência (%)'])\n",
        "\n",
        "print(\"DataFrame com as quantidades totais e relativas de valores faltantes - Conjunto de Teste: \")\n",
        "dataframe_teste"
      ],
      "execution_count": 38,
      "outputs": [
        {
          "output_type": "stream",
          "text": [
            "DataFrame com as quantidades totais e relativas de valores faltantes - Conjunto de Teste: \n"
          ],
          "name": "stdout"
        },
        {
          "output_type": "execute_result",
          "data": {
            "text/html": [
              "<div>\n",
              "<style scoped>\n",
              "    .dataframe tbody tr th:only-of-type {\n",
              "        vertical-align: middle;\n",
              "    }\n",
              "\n",
              "    .dataframe tbody tr th {\n",
              "        vertical-align: top;\n",
              "    }\n",
              "\n",
              "    .dataframe thead th {\n",
              "        text-align: right;\n",
              "    }\n",
              "</style>\n",
              "<table border=\"1\" class=\"dataframe\">\n",
              "  <thead>\n",
              "    <tr style=\"text-align: right;\">\n",
              "      <th></th>\n",
              "      <th>Total</th>\n",
              "      <th>Frequência (%)</th>\n",
              "    </tr>\n",
              "  </thead>\n",
              "  <tbody>\n",
              "    <tr>\n",
              "      <th>Cabin</th>\n",
              "      <td>327</td>\n",
              "      <td>78.229665</td>\n",
              "    </tr>\n",
              "    <tr>\n",
              "      <th>Age</th>\n",
              "      <td>86</td>\n",
              "      <td>20.574163</td>\n",
              "    </tr>\n",
              "    <tr>\n",
              "      <th>Fare</th>\n",
              "      <td>1</td>\n",
              "      <td>0.239234</td>\n",
              "    </tr>\n",
              "  </tbody>\n",
              "</table>\n",
              "</div>"
            ],
            "text/plain": [
              "       Total  Frequência (%)\n",
              "Cabin    327       78.229665\n",
              "Age       86       20.574163\n",
              "Fare       1        0.239234"
            ]
          },
          "metadata": {
            "tags": []
          },
          "execution_count": 38
        }
      ]
    },
    {
      "cell_type": "markdown",
      "metadata": {
        "id": "E3UI_aVv99uj"
      },
      "source": [
        "E o gráfico de barras:"
      ]
    },
    {
      "cell_type": "code",
      "metadata": {
        "id": "5KO5A9UL99b-",
        "outputId": "74c4bca3-5b72-4595-c3e0-fc08eab068e0",
        "colab": {
          "base_uri": "https://localhost:8080/",
          "height": 444
        }
      },
      "source": [
        "# Gráfico de barras - Dados de teste\n",
        "plt.figure(figsize = (10,7))\n",
        "sns.barplot(x = dataframe_teste.index, y = dataframe_teste['Frequência (%)'])\n",
        "plt.title(\"Gráfico de barras - Missing Values (Dados de Teste)\", size = 13)\n",
        "plt.ylabel(\"Porcentagem\", size = 13)\n",
        "plt.show()"
      ],
      "execution_count": 39,
      "outputs": [
        {
          "output_type": "display_data",
          "data": {
            "image/png": "[encoded data removed]",
            "text/plain": [
              "<Figure size 720x504 with 1 Axes>"
            ]
          },
          "metadata": {
            "tags": [],
            "needs_background": "light"
          }
        }
      ]
    },
    {
      "cell_type": "markdown",
      "metadata": {
        "id": "oBK0CxX9-SMn"
      },
      "source": [
        "Do mesmo modo que para as variáveis 'Age' e 'Cabin' para os dados de treino, nota-se a ausência de valores. Assim, para a variável 'Age', trataremos substituindo tais valores pela mediana novamente."
      ]
    },
    {
      "cell_type": "code",
      "metadata": {
        "id": "xPfdSwSz9fiD",
        "outputId": "9a7d6dc3-8844-4a6f-f19e-26c514815709",
        "colab": {
          "base_uri": "https://localhost:8080/"
        }
      },
      "source": [
        "# Inputando a mediana nos valores que estão faltando\n",
        "teste['Age'] = teste['Age'].fillna(value = teste['Age'].median())\n",
        "print(\"Número de missing values (Dados de Teste): \", teste['Age'].isna().sum())"
      ],
      "execution_count": 40,
      "outputs": [
        {
          "output_type": "stream",
          "text": [
            "Número de missing values (Dados de Teste):  0\n"
          ],
          "name": "stdout"
        }
      ]
    },
    {
      "cell_type": "markdown",
      "metadata": {
        "id": "E-7uI-ObAZcD"
      },
      "source": [
        "Tratando a variável categórica 'Cabin' com o mesmo método utilizado nos dados de treino:"
      ]
    },
    {
      "cell_type": "code",
      "metadata": {
        "id": "_hpi7aQa-s63",
        "outputId": "f7a2435f-4cfb-4193-81d7-9fc717f9dcd0",
        "colab": {
          "base_uri": "https://localhost:8080/",
          "height": 409
        }
      },
      "source": [
        "# Dados de teste\n",
        "teste_no_name = teste.drop(columns = [\"Name\"])\n",
        "teste['Cabin'] = teste_no_name['Cabin'].isna()\n",
        "teste = pd.get_dummies(teste_no_name)\n",
        "\n",
        "# Parte do novo dataframe de teste após o método get_dummies()\n",
        "teste.head(5)"
      ],
      "execution_count": 41,
      "outputs": [
        {
          "output_type": "execute_result",
          "data": {
            "text/html": [
              "<div>\n",
              "<style scoped>\n",
              "    .dataframe tbody tr th:only-of-type {\n",
              "        vertical-align: middle;\n",
              "    }\n",
              "\n",
              "    .dataframe tbody tr th {\n",
              "        vertical-align: top;\n",
              "    }\n",
              "\n",
              "    .dataframe thead th {\n",
              "        text-align: right;\n",
              "    }\n",
              "</style>\n",
              "<table border=\"1\" class=\"dataframe\">\n",
              "  <thead>\n",
              "    <tr style=\"text-align: right;\">\n",
              "      <th></th>\n",
              "      <th>PassengerId</th>\n",
              "      <th>Pclass</th>\n",
              "      <th>Age</th>\n",
              "      <th>SibSp</th>\n",
              "      <th>Parch</th>\n",
              "      <th>Fare</th>\n",
              "      <th>Sex_female</th>\n",
              "      <th>Sex_male</th>\n",
              "      <th>Ticket_110469</th>\n",
              "      <th>Ticket_110489</th>\n",
              "      <th>Ticket_110813</th>\n",
              "      <th>Ticket_111163</th>\n",
              "      <th>Ticket_112051</th>\n",
              "      <th>Ticket_112058</th>\n",
              "      <th>Ticket_112377</th>\n",
              "      <th>Ticket_112378</th>\n",
              "      <th>Ticket_112901</th>\n",
              "      <th>Ticket_113038</th>\n",
              "      <th>Ticket_113044</th>\n",
              "      <th>Ticket_113054</th>\n",
              "      <th>Ticket_113059</th>\n",
              "      <th>Ticket_113503</th>\n",
              "      <th>Ticket_113509</th>\n",
              "      <th>Ticket_113773</th>\n",
              "      <th>Ticket_113778</th>\n",
              "      <th>Ticket_113780</th>\n",
              "      <th>Ticket_113781</th>\n",
              "      <th>Ticket_113790</th>\n",
              "      <th>Ticket_113791</th>\n",
              "      <th>Ticket_113795</th>\n",
              "      <th>Ticket_113796</th>\n",
              "      <th>Ticket_113801</th>\n",
              "      <th>Ticket_11753</th>\n",
              "      <th>Ticket_11765</th>\n",
              "      <th>Ticket_11767</th>\n",
              "      <th>Ticket_11769</th>\n",
              "      <th>Ticket_11770</th>\n",
              "      <th>Ticket_11778</th>\n",
              "      <th>Ticket_11813</th>\n",
              "      <th>Ticket_1222</th>\n",
              "      <th>...</th>\n",
              "      <th>Cabin_C62 C64</th>\n",
              "      <th>Cabin_C7</th>\n",
              "      <th>Cabin_C78</th>\n",
              "      <th>Cabin_C80</th>\n",
              "      <th>Cabin_C85</th>\n",
              "      <th>Cabin_C86</th>\n",
              "      <th>Cabin_C89</th>\n",
              "      <th>Cabin_C97</th>\n",
              "      <th>Cabin_D</th>\n",
              "      <th>Cabin_D10 D12</th>\n",
              "      <th>Cabin_D15</th>\n",
              "      <th>Cabin_D19</th>\n",
              "      <th>Cabin_D21</th>\n",
              "      <th>Cabin_D22</th>\n",
              "      <th>Cabin_D28</th>\n",
              "      <th>Cabin_D30</th>\n",
              "      <th>Cabin_D34</th>\n",
              "      <th>Cabin_D37</th>\n",
              "      <th>Cabin_D38</th>\n",
              "      <th>Cabin_D40</th>\n",
              "      <th>Cabin_D43</th>\n",
              "      <th>Cabin_E31</th>\n",
              "      <th>Cabin_E34</th>\n",
              "      <th>Cabin_E39 E41</th>\n",
              "      <th>Cabin_E45</th>\n",
              "      <th>Cabin_E46</th>\n",
              "      <th>Cabin_E50</th>\n",
              "      <th>Cabin_E52</th>\n",
              "      <th>Cabin_E60</th>\n",
              "      <th>Cabin_F</th>\n",
              "      <th>Cabin_F E46</th>\n",
              "      <th>Cabin_F E57</th>\n",
              "      <th>Cabin_F G63</th>\n",
              "      <th>Cabin_F2</th>\n",
              "      <th>Cabin_F33</th>\n",
              "      <th>Cabin_F4</th>\n",
              "      <th>Cabin_G6</th>\n",
              "      <th>Embarked_C</th>\n",
              "      <th>Embarked_Q</th>\n",
              "      <th>Embarked_S</th>\n",
              "    </tr>\n",
              "  </thead>\n",
              "  <tbody>\n",
              "    <tr>\n",
              "      <th>0</th>\n",
              "      <td>892</td>\n",
              "      <td>3</td>\n",
              "      <td>34.5</td>\n",
              "      <td>0</td>\n",
              "      <td>0</td>\n",
              "      <td>7.8292</td>\n",
              "      <td>0</td>\n",
              "      <td>1</td>\n",
              "      <td>0</td>\n",
              "      <td>0</td>\n",
              "      <td>0</td>\n",
              "      <td>0</td>\n",
              "      <td>0</td>\n",
              "      <td>0</td>\n",
              "      <td>0</td>\n",
              "      <td>0</td>\n",
              "      <td>0</td>\n",
              "      <td>0</td>\n",
              "      <td>0</td>\n",
              "      <td>0</td>\n",
              "      <td>0</td>\n",
              "      <td>0</td>\n",
              "      <td>0</td>\n",
              "      <td>0</td>\n",
              "      <td>0</td>\n",
              "      <td>0</td>\n",
              "      <td>0</td>\n",
              "      <td>0</td>\n",
              "      <td>0</td>\n",
              "      <td>0</td>\n",
              "      <td>0</td>\n",
              "      <td>0</td>\n",
              "      <td>0</td>\n",
              "      <td>0</td>\n",
              "      <td>0</td>\n",
              "      <td>0</td>\n",
              "      <td>0</td>\n",
              "      <td>0</td>\n",
              "      <td>0</td>\n",
              "      <td>0</td>\n",
              "      <td>...</td>\n",
              "      <td>0</td>\n",
              "      <td>0</td>\n",
              "      <td>0</td>\n",
              "      <td>0</td>\n",
              "      <td>0</td>\n",
              "      <td>0</td>\n",
              "      <td>0</td>\n",
              "      <td>0</td>\n",
              "      <td>0</td>\n",
              "      <td>0</td>\n",
              "      <td>0</td>\n",
              "      <td>0</td>\n",
              "      <td>0</td>\n",
              "      <td>0</td>\n",
              "      <td>0</td>\n",
              "      <td>0</td>\n",
              "      <td>0</td>\n",
              "      <td>0</td>\n",
              "      <td>0</td>\n",
              "      <td>0</td>\n",
              "      <td>0</td>\n",
              "      <td>0</td>\n",
              "      <td>0</td>\n",
              "      <td>0</td>\n",
              "      <td>0</td>\n",
              "      <td>0</td>\n",
              "      <td>0</td>\n",
              "      <td>0</td>\n",
              "      <td>0</td>\n",
              "      <td>0</td>\n",
              "      <td>0</td>\n",
              "      <td>0</td>\n",
              "      <td>0</td>\n",
              "      <td>0</td>\n",
              "      <td>0</td>\n",
              "      <td>0</td>\n",
              "      <td>0</td>\n",
              "      <td>0</td>\n",
              "      <td>1</td>\n",
              "      <td>0</td>\n",
              "    </tr>\n",
              "    <tr>\n",
              "      <th>1</th>\n",
              "      <td>893</td>\n",
              "      <td>3</td>\n",
              "      <td>47.0</td>\n",
              "      <td>1</td>\n",
              "      <td>0</td>\n",
              "      <td>7.0000</td>\n",
              "      <td>1</td>\n",
              "      <td>0</td>\n",
              "      <td>0</td>\n",
              "      <td>0</td>\n",
              "      <td>0</td>\n",
              "      <td>0</td>\n",
              "      <td>0</td>\n",
              "      <td>0</td>\n",
              "      <td>0</td>\n",
              "      <td>0</td>\n",
              "      <td>0</td>\n",
              "      <td>0</td>\n",
              "      <td>0</td>\n",
              "      <td>0</td>\n",
              "      <td>0</td>\n",
              "      <td>0</td>\n",
              "      <td>0</td>\n",
              "      <td>0</td>\n",
              "      <td>0</td>\n",
              "      <td>0</td>\n",
              "      <td>0</td>\n",
              "      <td>0</td>\n",
              "      <td>0</td>\n",
              "      <td>0</td>\n",
              "      <td>0</td>\n",
              "      <td>0</td>\n",
              "      <td>0</td>\n",
              "      <td>0</td>\n",
              "      <td>0</td>\n",
              "      <td>0</td>\n",
              "      <td>0</td>\n",
              "      <td>0</td>\n",
              "      <td>0</td>\n",
              "      <td>0</td>\n",
              "      <td>...</td>\n",
              "      <td>0</td>\n",
              "      <td>0</td>\n",
              "      <td>0</td>\n",
              "      <td>0</td>\n",
              "      <td>0</td>\n",
              "      <td>0</td>\n",
              "      <td>0</td>\n",
              "      <td>0</td>\n",
              "      <td>0</td>\n",
              "      <td>0</td>\n",
              "      <td>0</td>\n",
              "      <td>0</td>\n",
              "      <td>0</td>\n",
              "      <td>0</td>\n",
              "      <td>0</td>\n",
              "      <td>0</td>\n",
              "      <td>0</td>\n",
              "      <td>0</td>\n",
              "      <td>0</td>\n",
              "      <td>0</td>\n",
              "      <td>0</td>\n",
              "      <td>0</td>\n",
              "      <td>0</td>\n",
              "      <td>0</td>\n",
              "      <td>0</td>\n",
              "      <td>0</td>\n",
              "      <td>0</td>\n",
              "      <td>0</td>\n",
              "      <td>0</td>\n",
              "      <td>0</td>\n",
              "      <td>0</td>\n",
              "      <td>0</td>\n",
              "      <td>0</td>\n",
              "      <td>0</td>\n",
              "      <td>0</td>\n",
              "      <td>0</td>\n",
              "      <td>0</td>\n",
              "      <td>0</td>\n",
              "      <td>0</td>\n",
              "      <td>1</td>\n",
              "    </tr>\n",
              "    <tr>\n",
              "      <th>2</th>\n",
              "      <td>894</td>\n",
              "      <td>2</td>\n",
              "      <td>62.0</td>\n",
              "      <td>0</td>\n",
              "      <td>0</td>\n",
              "      <td>9.6875</td>\n",
              "      <td>0</td>\n",
              "      <td>1</td>\n",
              "      <td>0</td>\n",
              "      <td>0</td>\n",
              "      <td>0</td>\n",
              "      <td>0</td>\n",
              "      <td>0</td>\n",
              "      <td>0</td>\n",
              "      <td>0</td>\n",
              "      <td>0</td>\n",
              "      <td>0</td>\n",
              "      <td>0</td>\n",
              "      <td>0</td>\n",
              "      <td>0</td>\n",
              "      <td>0</td>\n",
              "      <td>0</td>\n",
              "      <td>0</td>\n",
              "      <td>0</td>\n",
              "      <td>0</td>\n",
              "      <td>0</td>\n",
              "      <td>0</td>\n",
              "      <td>0</td>\n",
              "      <td>0</td>\n",
              "      <td>0</td>\n",
              "      <td>0</td>\n",
              "      <td>0</td>\n",
              "      <td>0</td>\n",
              "      <td>0</td>\n",
              "      <td>0</td>\n",
              "      <td>0</td>\n",
              "      <td>0</td>\n",
              "      <td>0</td>\n",
              "      <td>0</td>\n",
              "      <td>0</td>\n",
              "      <td>...</td>\n",
              "      <td>0</td>\n",
              "      <td>0</td>\n",
              "      <td>0</td>\n",
              "      <td>0</td>\n",
              "      <td>0</td>\n",
              "      <td>0</td>\n",
              "      <td>0</td>\n",
              "      <td>0</td>\n",
              "      <td>0</td>\n",
              "      <td>0</td>\n",
              "      <td>0</td>\n",
              "      <td>0</td>\n",
              "      <td>0</td>\n",
              "      <td>0</td>\n",
              "      <td>0</td>\n",
              "      <td>0</td>\n",
              "      <td>0</td>\n",
              "      <td>0</td>\n",
              "      <td>0</td>\n",
              "      <td>0</td>\n",
              "      <td>0</td>\n",
              "      <td>0</td>\n",
              "      <td>0</td>\n",
              "      <td>0</td>\n",
              "      <td>0</td>\n",
              "      <td>0</td>\n",
              "      <td>0</td>\n",
              "      <td>0</td>\n",
              "      <td>0</td>\n",
              "      <td>0</td>\n",
              "      <td>0</td>\n",
              "      <td>0</td>\n",
              "      <td>0</td>\n",
              "      <td>0</td>\n",
              "      <td>0</td>\n",
              "      <td>0</td>\n",
              "      <td>0</td>\n",
              "      <td>0</td>\n",
              "      <td>1</td>\n",
              "      <td>0</td>\n",
              "    </tr>\n",
              "    <tr>\n",
              "      <th>3</th>\n",
              "      <td>895</td>\n",
              "      <td>3</td>\n",
              "      <td>27.0</td>\n",
              "      <td>0</td>\n",
              "      <td>0</td>\n",
              "      <td>8.6625</td>\n",
              "      <td>0</td>\n",
              "      <td>1</td>\n",
              "      <td>0</td>\n",
              "      <td>0</td>\n",
              "      <td>0</td>\n",
              "      <td>0</td>\n",
              "      <td>0</td>\n",
              "      <td>0</td>\n",
              "      <td>0</td>\n",
              "      <td>0</td>\n",
              "      <td>0</td>\n",
              "      <td>0</td>\n",
              "      <td>0</td>\n",
              "      <td>0</td>\n",
              "      <td>0</td>\n",
              "      <td>0</td>\n",
              "      <td>0</td>\n",
              "      <td>0</td>\n",
              "      <td>0</td>\n",
              "      <td>0</td>\n",
              "      <td>0</td>\n",
              "      <td>0</td>\n",
              "      <td>0</td>\n",
              "      <td>0</td>\n",
              "      <td>0</td>\n",
              "      <td>0</td>\n",
              "      <td>0</td>\n",
              "      <td>0</td>\n",
              "      <td>0</td>\n",
              "      <td>0</td>\n",
              "      <td>0</td>\n",
              "      <td>0</td>\n",
              "      <td>0</td>\n",
              "      <td>0</td>\n",
              "      <td>...</td>\n",
              "      <td>0</td>\n",
              "      <td>0</td>\n",
              "      <td>0</td>\n",
              "      <td>0</td>\n",
              "      <td>0</td>\n",
              "      <td>0</td>\n",
              "      <td>0</td>\n",
              "      <td>0</td>\n",
              "      <td>0</td>\n",
              "      <td>0</td>\n",
              "      <td>0</td>\n",
              "      <td>0</td>\n",
              "      <td>0</td>\n",
              "      <td>0</td>\n",
              "      <td>0</td>\n",
              "      <td>0</td>\n",
              "      <td>0</td>\n",
              "      <td>0</td>\n",
              "      <td>0</td>\n",
              "      <td>0</td>\n",
              "      <td>0</td>\n",
              "      <td>0</td>\n",
              "      <td>0</td>\n",
              "      <td>0</td>\n",
              "      <td>0</td>\n",
              "      <td>0</td>\n",
              "      <td>0</td>\n",
              "      <td>0</td>\n",
              "      <td>0</td>\n",
              "      <td>0</td>\n",
              "      <td>0</td>\n",
              "      <td>0</td>\n",
              "      <td>0</td>\n",
              "      <td>0</td>\n",
              "      <td>0</td>\n",
              "      <td>0</td>\n",
              "      <td>0</td>\n",
              "      <td>0</td>\n",
              "      <td>0</td>\n",
              "      <td>1</td>\n",
              "    </tr>\n",
              "    <tr>\n",
              "      <th>4</th>\n",
              "      <td>896</td>\n",
              "      <td>3</td>\n",
              "      <td>22.0</td>\n",
              "      <td>1</td>\n",
              "      <td>1</td>\n",
              "      <td>12.2875</td>\n",
              "      <td>1</td>\n",
              "      <td>0</td>\n",
              "      <td>0</td>\n",
              "      <td>0</td>\n",
              "      <td>0</td>\n",
              "      <td>0</td>\n",
              "      <td>0</td>\n",
              "      <td>0</td>\n",
              "      <td>0</td>\n",
              "      <td>0</td>\n",
              "      <td>0</td>\n",
              "      <td>0</td>\n",
              "      <td>0</td>\n",
              "      <td>0</td>\n",
              "      <td>0</td>\n",
              "      <td>0</td>\n",
              "      <td>0</td>\n",
              "      <td>0</td>\n",
              "      <td>0</td>\n",
              "      <td>0</td>\n",
              "      <td>0</td>\n",
              "      <td>0</td>\n",
              "      <td>0</td>\n",
              "      <td>0</td>\n",
              "      <td>0</td>\n",
              "      <td>0</td>\n",
              "      <td>0</td>\n",
              "      <td>0</td>\n",
              "      <td>0</td>\n",
              "      <td>0</td>\n",
              "      <td>0</td>\n",
              "      <td>0</td>\n",
              "      <td>0</td>\n",
              "      <td>0</td>\n",
              "      <td>...</td>\n",
              "      <td>0</td>\n",
              "      <td>0</td>\n",
              "      <td>0</td>\n",
              "      <td>0</td>\n",
              "      <td>0</td>\n",
              "      <td>0</td>\n",
              "      <td>0</td>\n",
              "      <td>0</td>\n",
              "      <td>0</td>\n",
              "      <td>0</td>\n",
              "      <td>0</td>\n",
              "      <td>0</td>\n",
              "      <td>0</td>\n",
              "      <td>0</td>\n",
              "      <td>0</td>\n",
              "      <td>0</td>\n",
              "      <td>0</td>\n",
              "      <td>0</td>\n",
              "      <td>0</td>\n",
              "      <td>0</td>\n",
              "      <td>0</td>\n",
              "      <td>0</td>\n",
              "      <td>0</td>\n",
              "      <td>0</td>\n",
              "      <td>0</td>\n",
              "      <td>0</td>\n",
              "      <td>0</td>\n",
              "      <td>0</td>\n",
              "      <td>0</td>\n",
              "      <td>0</td>\n",
              "      <td>0</td>\n",
              "      <td>0</td>\n",
              "      <td>0</td>\n",
              "      <td>0</td>\n",
              "      <td>0</td>\n",
              "      <td>0</td>\n",
              "      <td>0</td>\n",
              "      <td>0</td>\n",
              "      <td>0</td>\n",
              "      <td>1</td>\n",
              "    </tr>\n",
              "    <tr>\n",
              "      <th>5</th>\n",
              "      <td>897</td>\n",
              "      <td>3</td>\n",
              "      <td>14.0</td>\n",
              "      <td>0</td>\n",
              "      <td>0</td>\n",
              "      <td>9.2250</td>\n",
              "      <td>0</td>\n",
              "      <td>1</td>\n",
              "      <td>0</td>\n",
              "      <td>0</td>\n",
              "      <td>0</td>\n",
              "      <td>0</td>\n",
              "      <td>0</td>\n",
              "      <td>0</td>\n",
              "      <td>0</td>\n",
              "      <td>0</td>\n",
              "      <td>0</td>\n",
              "      <td>0</td>\n",
              "      <td>0</td>\n",
              "      <td>0</td>\n",
              "      <td>0</td>\n",
              "      <td>0</td>\n",
              "      <td>0</td>\n",
              "      <td>0</td>\n",
              "      <td>0</td>\n",
              "      <td>0</td>\n",
              "      <td>0</td>\n",
              "      <td>0</td>\n",
              "      <td>0</td>\n",
              "      <td>0</td>\n",
              "      <td>0</td>\n",
              "      <td>0</td>\n",
              "      <td>0</td>\n",
              "      <td>0</td>\n",
              "      <td>0</td>\n",
              "      <td>0</td>\n",
              "      <td>0</td>\n",
              "      <td>0</td>\n",
              "      <td>0</td>\n",
              "      <td>0</td>\n",
              "      <td>...</td>\n",
              "      <td>0</td>\n",
              "      <td>0</td>\n",
              "      <td>0</td>\n",
              "      <td>0</td>\n",
              "      <td>0</td>\n",
              "      <td>0</td>\n",
              "      <td>0</td>\n",
              "      <td>0</td>\n",
              "      <td>0</td>\n",
              "      <td>0</td>\n",
              "      <td>0</td>\n",
              "      <td>0</td>\n",
              "      <td>0</td>\n",
              "      <td>0</td>\n",
              "      <td>0</td>\n",
              "      <td>0</td>\n",
              "      <td>0</td>\n",
              "      <td>0</td>\n",
              "      <td>0</td>\n",
              "      <td>0</td>\n",
              "      <td>0</td>\n",
              "      <td>0</td>\n",
              "      <td>0</td>\n",
              "      <td>0</td>\n",
              "      <td>0</td>\n",
              "      <td>0</td>\n",
              "      <td>0</td>\n",
              "      <td>0</td>\n",
              "      <td>0</td>\n",
              "      <td>0</td>\n",
              "      <td>0</td>\n",
              "      <td>0</td>\n",
              "      <td>0</td>\n",
              "      <td>0</td>\n",
              "      <td>0</td>\n",
              "      <td>0</td>\n",
              "      <td>0</td>\n",
              "      <td>0</td>\n",
              "      <td>0</td>\n",
              "      <td>1</td>\n",
              "    </tr>\n",
              "    <tr>\n",
              "      <th>6</th>\n",
              "      <td>898</td>\n",
              "      <td>3</td>\n",
              "      <td>30.0</td>\n",
              "      <td>0</td>\n",
              "      <td>0</td>\n",
              "      <td>7.6292</td>\n",
              "      <td>1</td>\n",
              "      <td>0</td>\n",
              "      <td>0</td>\n",
              "      <td>0</td>\n",
              "      <td>0</td>\n",
              "      <td>0</td>\n",
              "      <td>0</td>\n",
              "      <td>0</td>\n",
              "      <td>0</td>\n",
              "      <td>0</td>\n",
              "      <td>0</td>\n",
              "      <td>0</td>\n",
              "      <td>0</td>\n",
              "      <td>0</td>\n",
              "      <td>0</td>\n",
              "      <td>0</td>\n",
              "      <td>0</td>\n",
              "      <td>0</td>\n",
              "      <td>0</td>\n",
              "      <td>0</td>\n",
              "      <td>0</td>\n",
              "      <td>0</td>\n",
              "      <td>0</td>\n",
              "      <td>0</td>\n",
              "      <td>0</td>\n",
              "      <td>0</td>\n",
              "      <td>0</td>\n",
              "      <td>0</td>\n",
              "      <td>0</td>\n",
              "      <td>0</td>\n",
              "      <td>0</td>\n",
              "      <td>0</td>\n",
              "      <td>0</td>\n",
              "      <td>0</td>\n",
              "      <td>...</td>\n",
              "      <td>0</td>\n",
              "      <td>0</td>\n",
              "      <td>0</td>\n",
              "      <td>0</td>\n",
              "      <td>0</td>\n",
              "      <td>0</td>\n",
              "      <td>0</td>\n",
              "      <td>0</td>\n",
              "      <td>0</td>\n",
              "      <td>0</td>\n",
              "      <td>0</td>\n",
              "      <td>0</td>\n",
              "      <td>0</td>\n",
              "      <td>0</td>\n",
              "      <td>0</td>\n",
              "      <td>0</td>\n",
              "      <td>0</td>\n",
              "      <td>0</td>\n",
              "      <td>0</td>\n",
              "      <td>0</td>\n",
              "      <td>0</td>\n",
              "      <td>0</td>\n",
              "      <td>0</td>\n",
              "      <td>0</td>\n",
              "      <td>0</td>\n",
              "      <td>0</td>\n",
              "      <td>0</td>\n",
              "      <td>0</td>\n",
              "      <td>0</td>\n",
              "      <td>0</td>\n",
              "      <td>0</td>\n",
              "      <td>0</td>\n",
              "      <td>0</td>\n",
              "      <td>0</td>\n",
              "      <td>0</td>\n",
              "      <td>0</td>\n",
              "      <td>0</td>\n",
              "      <td>0</td>\n",
              "      <td>1</td>\n",
              "      <td>0</td>\n",
              "    </tr>\n",
              "    <tr>\n",
              "      <th>7</th>\n",
              "      <td>899</td>\n",
              "      <td>2</td>\n",
              "      <td>26.0</td>\n",
              "      <td>1</td>\n",
              "      <td>1</td>\n",
              "      <td>29.0000</td>\n",
              "      <td>0</td>\n",
              "      <td>1</td>\n",
              "      <td>0</td>\n",
              "      <td>0</td>\n",
              "      <td>0</td>\n",
              "      <td>0</td>\n",
              "      <td>0</td>\n",
              "      <td>0</td>\n",
              "      <td>0</td>\n",
              "      <td>0</td>\n",
              "      <td>0</td>\n",
              "      <td>0</td>\n",
              "      <td>0</td>\n",
              "      <td>0</td>\n",
              "      <td>0</td>\n",
              "      <td>0</td>\n",
              "      <td>0</td>\n",
              "      <td>0</td>\n",
              "      <td>0</td>\n",
              "      <td>0</td>\n",
              "      <td>0</td>\n",
              "      <td>0</td>\n",
              "      <td>0</td>\n",
              "      <td>0</td>\n",
              "      <td>0</td>\n",
              "      <td>0</td>\n",
              "      <td>0</td>\n",
              "      <td>0</td>\n",
              "      <td>0</td>\n",
              "      <td>0</td>\n",
              "      <td>0</td>\n",
              "      <td>0</td>\n",
              "      <td>0</td>\n",
              "      <td>0</td>\n",
              "      <td>...</td>\n",
              "      <td>0</td>\n",
              "      <td>0</td>\n",
              "      <td>0</td>\n",
              "      <td>0</td>\n",
              "      <td>0</td>\n",
              "      <td>0</td>\n",
              "      <td>0</td>\n",
              "      <td>0</td>\n",
              "      <td>0</td>\n",
              "      <td>0</td>\n",
              "      <td>0</td>\n",
              "      <td>0</td>\n",
              "      <td>0</td>\n",
              "      <td>0</td>\n",
              "      <td>0</td>\n",
              "      <td>0</td>\n",
              "      <td>0</td>\n",
              "      <td>0</td>\n",
              "      <td>0</td>\n",
              "      <td>0</td>\n",
              "      <td>0</td>\n",
              "      <td>0</td>\n",
              "      <td>0</td>\n",
              "      <td>0</td>\n",
              "      <td>0</td>\n",
              "      <td>0</td>\n",
              "      <td>0</td>\n",
              "      <td>0</td>\n",
              "      <td>0</td>\n",
              "      <td>0</td>\n",
              "      <td>0</td>\n",
              "      <td>0</td>\n",
              "      <td>0</td>\n",
              "      <td>0</td>\n",
              "      <td>0</td>\n",
              "      <td>0</td>\n",
              "      <td>0</td>\n",
              "      <td>0</td>\n",
              "      <td>0</td>\n",
              "      <td>1</td>\n",
              "    </tr>\n",
              "    <tr>\n",
              "      <th>8</th>\n",
              "      <td>900</td>\n",
              "      <td>3</td>\n",
              "      <td>18.0</td>\n",
              "      <td>0</td>\n",
              "      <td>0</td>\n",
              "      <td>7.2292</td>\n",
              "      <td>1</td>\n",
              "      <td>0</td>\n",
              "      <td>0</td>\n",
              "      <td>0</td>\n",
              "      <td>0</td>\n",
              "      <td>0</td>\n",
              "      <td>0</td>\n",
              "      <td>0</td>\n",
              "      <td>0</td>\n",
              "      <td>0</td>\n",
              "      <td>0</td>\n",
              "      <td>0</td>\n",
              "      <td>0</td>\n",
              "      <td>0</td>\n",
              "      <td>0</td>\n",
              "      <td>0</td>\n",
              "      <td>0</td>\n",
              "      <td>0</td>\n",
              "      <td>0</td>\n",
              "      <td>0</td>\n",
              "      <td>0</td>\n",
              "      <td>0</td>\n",
              "      <td>0</td>\n",
              "      <td>0</td>\n",
              "      <td>0</td>\n",
              "      <td>0</td>\n",
              "      <td>0</td>\n",
              "      <td>0</td>\n",
              "      <td>0</td>\n",
              "      <td>0</td>\n",
              "      <td>0</td>\n",
              "      <td>0</td>\n",
              "      <td>0</td>\n",
              "      <td>0</td>\n",
              "      <td>...</td>\n",
              "      <td>0</td>\n",
              "      <td>0</td>\n",
              "      <td>0</td>\n",
              "      <td>0</td>\n",
              "      <td>0</td>\n",
              "      <td>0</td>\n",
              "      <td>0</td>\n",
              "      <td>0</td>\n",
              "      <td>0</td>\n",
              "      <td>0</td>\n",
              "      <td>0</td>\n",
              "      <td>0</td>\n",
              "      <td>0</td>\n",
              "      <td>0</td>\n",
              "      <td>0</td>\n",
              "      <td>0</td>\n",
              "      <td>0</td>\n",
              "      <td>0</td>\n",
              "      <td>0</td>\n",
              "      <td>0</td>\n",
              "      <td>0</td>\n",
              "      <td>0</td>\n",
              "      <td>0</td>\n",
              "      <td>0</td>\n",
              "      <td>0</td>\n",
              "      <td>0</td>\n",
              "      <td>0</td>\n",
              "      <td>0</td>\n",
              "      <td>0</td>\n",
              "      <td>0</td>\n",
              "      <td>0</td>\n",
              "      <td>0</td>\n",
              "      <td>0</td>\n",
              "      <td>0</td>\n",
              "      <td>0</td>\n",
              "      <td>0</td>\n",
              "      <td>0</td>\n",
              "      <td>1</td>\n",
              "      <td>0</td>\n",
              "      <td>0</td>\n",
              "    </tr>\n",
              "    <tr>\n",
              "      <th>9</th>\n",
              "      <td>901</td>\n",
              "      <td>3</td>\n",
              "      <td>21.0</td>\n",
              "      <td>2</td>\n",
              "      <td>0</td>\n",
              "      <td>24.1500</td>\n",
              "      <td>0</td>\n",
              "      <td>1</td>\n",
              "      <td>0</td>\n",
              "      <td>0</td>\n",
              "      <td>0</td>\n",
              "      <td>0</td>\n",
              "      <td>0</td>\n",
              "      <td>0</td>\n",
              "      <td>0</td>\n",
              "      <td>0</td>\n",
              "      <td>0</td>\n",
              "      <td>0</td>\n",
              "      <td>0</td>\n",
              "      <td>0</td>\n",
              "      <td>0</td>\n",
              "      <td>0</td>\n",
              "      <td>0</td>\n",
              "      <td>0</td>\n",
              "      <td>0</td>\n",
              "      <td>0</td>\n",
              "      <td>0</td>\n",
              "      <td>0</td>\n",
              "      <td>0</td>\n",
              "      <td>0</td>\n",
              "      <td>0</td>\n",
              "      <td>0</td>\n",
              "      <td>0</td>\n",
              "      <td>0</td>\n",
              "      <td>0</td>\n",
              "      <td>0</td>\n",
              "      <td>0</td>\n",
              "      <td>0</td>\n",
              "      <td>0</td>\n",
              "      <td>0</td>\n",
              "      <td>...</td>\n",
              "      <td>0</td>\n",
              "      <td>0</td>\n",
              "      <td>0</td>\n",
              "      <td>0</td>\n",
              "      <td>0</td>\n",
              "      <td>0</td>\n",
              "      <td>0</td>\n",
              "      <td>0</td>\n",
              "      <td>0</td>\n",
              "      <td>0</td>\n",
              "      <td>0</td>\n",
              "      <td>0</td>\n",
              "      <td>0</td>\n",
              "      <td>0</td>\n",
              "      <td>0</td>\n",
              "      <td>0</td>\n",
              "      <td>0</td>\n",
              "      <td>0</td>\n",
              "      <td>0</td>\n",
              "      <td>0</td>\n",
              "      <td>0</td>\n",
              "      <td>0</td>\n",
              "      <td>0</td>\n",
              "      <td>0</td>\n",
              "      <td>0</td>\n",
              "      <td>0</td>\n",
              "      <td>0</td>\n",
              "      <td>0</td>\n",
              "      <td>0</td>\n",
              "      <td>0</td>\n",
              "      <td>0</td>\n",
              "      <td>0</td>\n",
              "      <td>0</td>\n",
              "      <td>0</td>\n",
              "      <td>0</td>\n",
              "      <td>0</td>\n",
              "      <td>0</td>\n",
              "      <td>0</td>\n",
              "      <td>0</td>\n",
              "      <td>1</td>\n",
              "    </tr>\n",
              "  </tbody>\n",
              "</table>\n",
              "<p>10 rows × 450 columns</p>\n",
              "</div>"
            ],
            "text/plain": [
              "   PassengerId  Pclass   Age  ...  Embarked_C  Embarked_Q  Embarked_S\n",
              "0          892       3  34.5  ...           0           1           0\n",
              "1          893       3  47.0  ...           0           0           1\n",
              "2          894       2  62.0  ...           0           1           0\n",
              "3          895       3  27.0  ...           0           0           1\n",
              "4          896       3  22.0  ...           0           0           1\n",
              "5          897       3  14.0  ...           0           0           1\n",
              "6          898       3  30.0  ...           0           1           0\n",
              "7          899       2  26.0  ...           0           0           1\n",
              "8          900       3  18.0  ...           1           0           0\n",
              "9          901       3  21.0  ...           0           0           1\n",
              "\n",
              "[10 rows x 450 columns]"
            ]
          },
          "metadata": {
            "tags": []
          },
          "execution_count": 41
        }
      ]
    },
    {
      "cell_type": "markdown",
      "metadata": {
        "id": "yfOmC75yHrK-"
      },
      "source": [
        "Agora podemos continuar com o desenvolvimento do modelo de classificação."
      ]
    },
    {
      "cell_type": "markdown",
      "metadata": {
        "id": "Bmvh1iQPHwTQ"
      },
      "source": [
        "## A Regressão Logística"
      ]
    },
    {
      "cell_type": "markdown",
      "metadata": {
        "id": "yznz2ttvJucg"
      },
      "source": [
        "Iremos criar uma variável para as *features* e outra para a ser a *target*."
      ]
    },
    {
      "cell_type": "code",
      "metadata": {
        "id": "mXUg-TgvHvOH"
      },
      "source": [
        "# Dropamos a target\n",
        "features = treino.drop(columns = ['Survived'])\n",
        "target = treino['Survived']"
      ],
      "execution_count": 45,
      "outputs": []
    },
    {
      "cell_type": "markdown",
      "metadata": {
        "id": "IJ3J0UlYJ6A5"
      },
      "source": [
        "Separando dados de treino e teste com o método *train_test_split()*:"
      ]
    },
    {
      "cell_type": "code",
      "metadata": {
        "id": "mrCia1pDJtgQ"
      },
      "source": [
        "x_train, x_test, y_train, y_test = train_test_split(features, target, test_size = 0.2, random_state = 42)"
      ],
      "execution_count": 47,
      "outputs": []
    },
    {
      "cell_type": "markdown",
      "metadata": {
        "id": "SITokceuKlZG"
      },
      "source": [
        "Vamos dar uma olhada nos formatos de cada variável acima:"
      ]
    },
    {
      "cell_type": "code",
      "metadata": {
        "id": "LyJzN7ykKeIh",
        "outputId": "f2c31744-2241-4cff-8eca-18d6ed97bf66",
        "colab": {
          "base_uri": "https://localhost:8080/"
        }
      },
      "source": [
        "print(\"X_treino: \", x_train.shape)\n",
        "print(\"X_teste: \", x_test.shape)\n",
        "print(\"Y_treino: \", y_train.shape)\n",
        "print(\"Y_teste: \", y_test.shape)"
      ],
      "execution_count": 50,
      "outputs": [
        {
          "output_type": "stream",
          "text": [
            "X_treino:  (712, 839)\n",
            "X_teste:  (179, 839)\n",
            "Y_treino:  (712,)\n",
            "Y_teste:  (179,)\n"
          ],
          "name": "stdout"
        }
      ]
    },
    {
      "cell_type": "markdown",
      "metadata": {
        "id": "C_mZgZ6VLLIN"
      },
      "source": [
        "Instânciando o modelo de regressão logística:"
      ]
    },
    {
      "cell_type": "code",
      "metadata": {
        "id": "eizWMm63K9eL"
      },
      "source": [
        "reg_log = LogisticRegression(max_iter = 1000)"
      ],
      "execution_count": 73,
      "outputs": []
    },
    {
      "cell_type": "markdown",
      "metadata": {
        "id": "08bRA689LVQH"
      },
      "source": [
        "Adequando os dados ao modelo acima:"
      ]
    },
    {
      "cell_type": "code",
      "metadata": {
        "id": "HLqLHAplLT8D",
        "outputId": "c28a0f84-b400-4c9a-f4a8-b34df5efe47a",
        "colab": {
          "base_uri": "https://localhost:8080/"
        }
      },
      "source": [
        "reg_log.fit(x_train, y_train)\n",
        "y_predito = reg_log.predict(x_test)"
      ],
      "execution_count": 78,
      "outputs": [
        {
          "output_type": "stream",
          "text": [
            "/usr/local/lib/python3.6/dist-packages/sklearn/linear_model/_logistic.py:940: ConvergenceWarning: lbfgs failed to converge (status=1):\n",
            "STOP: TOTAL NO. of ITERATIONS REACHED LIMIT.\n",
            "\n",
            "Increase the number of iterations (max_iter) or scale the data as shown in:\n",
            "    https://scikit-learn.org/stable/modules/preprocessing.html\n",
            "Please also refer to the documentation for alternative solver options:\n",
            "    https://scikit-learn.org/stable/modules/linear_model.html#logistic-regression\n",
            "  extra_warning_msg=_LOGISTIC_SOLVER_CONVERGENCE_MSG)\n"
          ],
          "name": "stderr"
        }
      ]
    },
    {
      "cell_type": "code",
      "metadata": {
        "id": "1PqFm-hHL1lu",
        "outputId": "ebbf0daa-1787-4067-8c65-6b8cdc0e0a17",
        "colab": {
          "base_uri": "https://localhost:8080/"
        }
      },
      "source": [
        "print(\"Score do modelo: \", round(reg_log.score(x_test,y_test), 6) * 100, \"%\")"
      ],
      "execution_count": 79,
      "outputs": [
        {
          "output_type": "stream",
          "text": [
            "Score do modelo:  82.1229 %\n"
          ],
          "name": "stdout"
        }
      ]
    },
    {
      "cell_type": "code",
      "metadata": {
        "id": "3SrWUY5YMCvv",
        "outputId": "45d4ab40-a503-495e-b09e-31cb28cf9aa9",
        "colab": {
          "base_uri": "https://localhost:8080/"
        }
      },
      "source": [
        "print(\"Acurácia do modelo: \", round(accuracy_score(y_predito, y_test), 6) * 100, \"%\")"
      ],
      "execution_count": 80,
      "outputs": [
        {
          "output_type": "stream",
          "text": [
            "Acurácia do modelo:  82.1229 %\n"
          ],
          "name": "stdout"
        }
      ]
    },
    {
      "cell_type": "code",
      "metadata": {
        "id": "hrY_-giqN-ua",
        "outputId": "c16c0c55-7f71-4918-c21e-4c9d0ff6eb07",
        "colab": {
          "base_uri": "https://localhost:8080/",
          "height": 402
        }
      },
      "source": [
        "data_rl = {\"PassengerId\": teste[\"PassengerId\"], \"Survived\": y_test}\n",
        "\n",
        "dataframe_final = pd.DataFrame(data_rl) \n",
        "\n",
        "dataframe_final['Survived'] = dataframe_final['Survived'].fillna(0)\n",
        "dataframe_final['PassengerId'] = dataframe_final['PassengerId'].fillna(0)\n",
        "\n",
        "dataframe_final"
      ],
      "execution_count": 86,
      "outputs": [
        {
          "output_type": "execute_result",
          "data": {
            "text/html": [
              "<div>\n",
              "<style scoped>\n",
              "    .dataframe tbody tr th:only-of-type {\n",
              "        vertical-align: middle;\n",
              "    }\n",
              "\n",
              "    .dataframe tbody tr th {\n",
              "        vertical-align: top;\n",
              "    }\n",
              "\n",
              "    .dataframe thead th {\n",
              "        text-align: right;\n",
              "    }\n",
              "</style>\n",
              "<table border=\"1\" class=\"dataframe\">\n",
              "  <thead>\n",
              "    <tr style=\"text-align: right;\">\n",
              "      <th></th>\n",
              "      <th>PassengerId</th>\n",
              "      <th>Survived</th>\n",
              "    </tr>\n",
              "  </thead>\n",
              "  <tbody>\n",
              "    <tr>\n",
              "      <th>0</th>\n",
              "      <td>892.0</td>\n",
              "      <td>0.0</td>\n",
              "    </tr>\n",
              "    <tr>\n",
              "      <th>1</th>\n",
              "      <td>893.0</td>\n",
              "      <td>0.0</td>\n",
              "    </tr>\n",
              "    <tr>\n",
              "      <th>2</th>\n",
              "      <td>894.0</td>\n",
              "      <td>0.0</td>\n",
              "    </tr>\n",
              "    <tr>\n",
              "      <th>3</th>\n",
              "      <td>895.0</td>\n",
              "      <td>0.0</td>\n",
              "    </tr>\n",
              "    <tr>\n",
              "      <th>4</th>\n",
              "      <td>896.0</td>\n",
              "      <td>0.0</td>\n",
              "    </tr>\n",
              "    <tr>\n",
              "      <th>...</th>\n",
              "      <td>...</td>\n",
              "      <td>...</td>\n",
              "    </tr>\n",
              "    <tr>\n",
              "      <th>876</th>\n",
              "      <td>0.0</td>\n",
              "      <td>0.0</td>\n",
              "    </tr>\n",
              "    <tr>\n",
              "      <th>877</th>\n",
              "      <td>0.0</td>\n",
              "      <td>0.0</td>\n",
              "    </tr>\n",
              "    <tr>\n",
              "      <th>885</th>\n",
              "      <td>0.0</td>\n",
              "      <td>0.0</td>\n",
              "    </tr>\n",
              "    <tr>\n",
              "      <th>886</th>\n",
              "      <td>0.0</td>\n",
              "      <td>0.0</td>\n",
              "    </tr>\n",
              "    <tr>\n",
              "      <th>889</th>\n",
              "      <td>0.0</td>\n",
              "      <td>1.0</td>\n",
              "    </tr>\n",
              "  </tbody>\n",
              "</table>\n",
              "<p>508 rows × 2 columns</p>\n",
              "</div>"
            ],
            "text/plain": [
              "     PassengerId  Survived\n",
              "0          892.0       0.0\n",
              "1          893.0       0.0\n",
              "2          894.0       0.0\n",
              "3          895.0       0.0\n",
              "4          896.0       0.0\n",
              "..           ...       ...\n",
              "876          0.0       0.0\n",
              "877          0.0       0.0\n",
              "885          0.0       0.0\n",
              "886          0.0       0.0\n",
              "889          0.0       1.0\n",
              "\n",
              "[508 rows x 2 columns]"
            ]
          },
          "metadata": {
            "tags": []
          },
          "execution_count": 86
        }
      ]
    },
    {
      "cell_type": "code",
      "metadata": {
        "id": "GFZdT6MoTCXq",
        "outputId": "13e71fbc-6ba3-4538-a72a-f17b2b61b013",
        "colab": {
          "base_uri": "https://localhost:8080/",
          "height": 402
        }
      },
      "source": [
        "data_submissao = pd.read_csv('gender_submission.csv')\n",
        "data_submissao"
      ],
      "execution_count": 88,
      "outputs": [
        {
          "output_type": "execute_result",
          "data": {
            "text/html": [
              "<div>\n",
              "<style scoped>\n",
              "    .dataframe tbody tr th:only-of-type {\n",
              "        vertical-align: middle;\n",
              "    }\n",
              "\n",
              "    .dataframe tbody tr th {\n",
              "        vertical-align: top;\n",
              "    }\n",
              "\n",
              "    .dataframe thead th {\n",
              "        text-align: right;\n",
              "    }\n",
              "</style>\n",
              "<table border=\"1\" class=\"dataframe\">\n",
              "  <thead>\n",
              "    <tr style=\"text-align: right;\">\n",
              "      <th></th>\n",
              "      <th>PassengerId</th>\n",
              "      <th>Survived</th>\n",
              "    </tr>\n",
              "  </thead>\n",
              "  <tbody>\n",
              "    <tr>\n",
              "      <th>0</th>\n",
              "      <td>892</td>\n",
              "      <td>0</td>\n",
              "    </tr>\n",
              "    <tr>\n",
              "      <th>1</th>\n",
              "      <td>893</td>\n",
              "      <td>1</td>\n",
              "    </tr>\n",
              "    <tr>\n",
              "      <th>2</th>\n",
              "      <td>894</td>\n",
              "      <td>0</td>\n",
              "    </tr>\n",
              "    <tr>\n",
              "      <th>3</th>\n",
              "      <td>895</td>\n",
              "      <td>0</td>\n",
              "    </tr>\n",
              "    <tr>\n",
              "      <th>4</th>\n",
              "      <td>896</td>\n",
              "      <td>1</td>\n",
              "    </tr>\n",
              "    <tr>\n",
              "      <th>...</th>\n",
              "      <td>...</td>\n",
              "      <td>...</td>\n",
              "    </tr>\n",
              "    <tr>\n",
              "      <th>413</th>\n",
              "      <td>1305</td>\n",
              "      <td>0</td>\n",
              "    </tr>\n",
              "    <tr>\n",
              "      <th>414</th>\n",
              "      <td>1306</td>\n",
              "      <td>1</td>\n",
              "    </tr>\n",
              "    <tr>\n",
              "      <th>415</th>\n",
              "      <td>1307</td>\n",
              "      <td>0</td>\n",
              "    </tr>\n",
              "    <tr>\n",
              "      <th>416</th>\n",
              "      <td>1308</td>\n",
              "      <td>0</td>\n",
              "    </tr>\n",
              "    <tr>\n",
              "      <th>417</th>\n",
              "      <td>1309</td>\n",
              "      <td>0</td>\n",
              "    </tr>\n",
              "  </tbody>\n",
              "</table>\n",
              "<p>418 rows × 2 columns</p>\n",
              "</div>"
            ],
            "text/plain": [
              "     PassengerId  Survived\n",
              "0            892         0\n",
              "1            893         1\n",
              "2            894         0\n",
              "3            895         0\n",
              "4            896         1\n",
              "..           ...       ...\n",
              "413         1305         0\n",
              "414         1306         1\n",
              "415         1307         0\n",
              "416         1308         0\n",
              "417         1309         0\n",
              "\n",
              "[418 rows x 2 columns]"
            ]
          },
          "metadata": {
            "tags": []
          },
          "execution_count": 88
        }
      ]
    },
    {
      "cell_type": "code",
      "metadata": {
        "id": "aY6lIcY7UL-q"
      },
      "source": [
        ""
      ],
      "execution_count": null,
      "outputs": []
    }
  ]
}